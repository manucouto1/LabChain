{
 "cells": [
  {
   "cell_type": "markdown",
   "id": "2536e0f5",
   "metadata": {},
   "source": [
    "# Wandb Optimizer\n",
    "## How to perform cross validation and hiperparameter optimization with WandB"
   ]
  },
  {
   "cell_type": "markdown",
   "id": "9aff8158",
   "metadata": {},
   "source": [
    "If you have seen the tutorial [Reuse Data](notebooks/caching_heavy_data.ipynb) you mai noticed that we've use a standard sklean optimizer for hyperparameter tuning. This is fine for many uses cases, but it might not be the best choice for somo others. For those how need a more advanced optimization strategy, Wandb is a great choice."
   ]
  },
  {
   "cell_type": "markdown",
   "id": "ff5257dc",
   "metadata": {},
   "source": [
    "### We will use a simple pipeline for the iris dataset."
   ]
  },
  {
   "cell_type": "code",
   "execution_count": 1,
   "id": "ce6799a3",
   "metadata": {},
   "outputs": [
    {
     "name": "stderr",
     "output_type": "stream",
     "text": [
      "\u001b[34m\u001b[1mwandb\u001b[0m: Using wandb-core as the SDK backend.  Please refer to https://wandb.me/wandb-core for more information.\n",
      "\u001b[34m\u001b[1mwandb\u001b[0m: Currently logged in as: \u001b[33mmanu-couto1k\u001b[0m (\u001b[33mcitius-irlab\u001b[0m) to \u001b[32mhttps://api.wandb.ai\u001b[0m. Use \u001b[1m`wandb login --relogin`\u001b[0m to force relogin\n"
     ]
    },
    {
     "data": {
      "text/plain": [
       "True"
      ]
     },
     "execution_count": 1,
     "metadata": {},
     "output_type": "execute_result"
    }
   ],
   "source": [
    "import wandb\n",
    "\n",
    "wandb.login()"
   ]
  },
  {
   "cell_type": "code",
   "execution_count": 2,
   "id": "2319ce20",
   "metadata": {},
   "outputs": [
    {
     "name": "stdout",
     "output_type": "stream",
     "text": [
      "✅ Patched inspect.getsource using dill.\n"
     ]
    }
   ],
   "source": [
    "from framework3.utils.patch_type_guard import patch_inspect_for_notebooks\n",
    "\n",
    "patch_inspect_for_notebooks()"
   ]
  },
  {
   "cell_type": "code",
   "execution_count": 3,
   "id": "344af93d",
   "metadata": {},
   "outputs": [],
   "source": [
    "from sklearn import datasets\n",
    "from framework3.base.base_clases import XYData\n",
    "from sklearn.model_selection import train_test_split\n",
    "\n",
    "iris = datasets.load_iris()\n",
    "\n",
    "\n",
    "X_train, X_test, y_train, y_test = train_test_split(\n",
    "    iris.data,\n",
    "    iris.target,\n",
    "    test_size=0.2,\n",
    "    random_state=42,  # type: ignore\n",
    ")\n",
    "\n",
    "\n",
    "X_train = XYData(\n",
    "    _hash=\"Iris X train data\",\n",
    "    _path=\"/datasets\",\n",
    "    _value=X_train,\n",
    ")\n",
    "y_train = XYData(\n",
    "    _hash=\"Iris y train data\",\n",
    "    _path=\"/datasets\",\n",
    "    _value=y_train,  # type: ignore\n",
    ")\n",
    "\n",
    "X_test = XYData(\n",
    "    _hash=\"Iris X train data\",\n",
    "    _path=\"/datasets\",\n",
    "    _value=X_test,\n",
    ")\n",
    "y_test = XYData(\n",
    "    _hash=\"Iris y train data\",\n",
    "    _path=\"/datasets\",\n",
    "    _value=y_test,  # type: ignore\n",
    ")"
   ]
  },
  {
   "cell_type": "markdown",
   "id": "8e8cae5b",
   "metadata": {},
   "source": [
    "### Then we will configure wandb for hyperparameter tuning and a Sklearn splitter for cross validation."
   ]
  },
  {
   "cell_type": "markdown",
   "id": "4e897cfb",
   "metadata": {},
   "source": [
    "Wandb provides a dashboard to visualize the results of the experiments. For this to work, you need to define project name and login to the wandb services."
   ]
  },
  {
   "cell_type": "code",
   "execution_count": 4,
   "id": "f020eb15",
   "metadata": {},
   "outputs": [],
   "source": [
    "from framework3 import F1, F3Pipeline, KnnFilter, Precission, StandardScalerPlugin\n",
    "from framework3.plugins.metrics.classification import Recall, XYData\n",
    "from framework3.plugins.optimizer.wandb_optimizer import WandbOptimizer\n",
    "from framework3.plugins.splitter.cross_validation_splitter import KFoldSplitter\n",
    "\n",
    "\n",
    "wandb_pipeline = (\n",
    "    F3Pipeline(\n",
    "        filters=[\n",
    "            StandardScalerPlugin(),\n",
    "            KnnFilter().grid({\"n_neighbors\": [2, 3, 4, 5, 6]}),\n",
    "        ],\n",
    "        metrics=[F1(), Precission(), Recall()],\n",
    "    )\n",
    "    .splitter(\n",
    "        KFoldSplitter(\n",
    "            n_splits=2,\n",
    "            shuffle=True,\n",
    "            random_state=42,\n",
    "        )\n",
    "    )\n",
    "    .optimizer(\n",
    "        WandbOptimizer(\n",
    "            project=\"test_project\",\n",
    "            sweep_id=None,\n",
    "            scorer=F1(),\n",
    "        )\n",
    "    )\n",
    ")"
   ]
  },
  {
   "cell_type": "code",
   "execution_count": 5,
   "id": "00630996",
   "metadata": {},
   "outputs": [
    {
     "data": {
      "text/html": [
       "<pre style=\"white-space:pre;overflow-x:auto;line-height:normal;font-family:Menlo,'DejaVu Sans Mono',consolas,'Courier New',monospace\">categorical param: n_neighbors: <span style=\"font-weight: bold\">[</span><span style=\"color: #008080; text-decoration-color: #008080; font-weight: bold\">2</span>, <span style=\"color: #008080; text-decoration-color: #008080; font-weight: bold\">3</span>, <span style=\"color: #008080; text-decoration-color: #008080; font-weight: bold\">4</span>, <span style=\"color: #008080; text-decoration-color: #008080; font-weight: bold\">5</span>, <span style=\"color: #008080; text-decoration-color: #008080; font-weight: bold\">6</span><span style=\"font-weight: bold\">]</span>\n",
       "</pre>\n"
      ],
      "text/plain": [
       "categorical param: n_neighbors: \u001b[1m[\u001b[0m\u001b[1;36m2\u001b[0m, \u001b[1;36m3\u001b[0m, \u001b[1;36m4\u001b[0m, \u001b[1;36m5\u001b[0m, \u001b[1;36m6\u001b[0m\u001b[1m]\u001b[0m\n"
      ]
     },
     "metadata": {},
     "output_type": "display_data"
    },
    {
     "data": {
      "text/html": [
       "<pre style=\"white-space:pre;overflow-x:auto;line-height:normal;font-family:Menlo,'DejaVu Sans Mono',consolas,'Courier New',monospace\">______________________SWEE CONFIG_____________________\n",
       "</pre>\n"
      ],
      "text/plain": [
       "______________________SWEE CONFIG_____________________\n"
      ]
     },
     "metadata": {},
     "output_type": "display_data"
    },
    {
     "data": {
      "text/html": [
       "<pre style=\"white-space:pre;overflow-x:auto;line-height:normal;font-family:Menlo,'DejaVu Sans Mono',consolas,'Courier New',monospace\"><span style=\"font-weight: bold\">{</span>\n",
       "    <span style=\"color: #008000; text-decoration-color: #008000\">'parameters'</span>: <span style=\"font-weight: bold\">{</span>\n",
       "        <span style=\"color: #008000; text-decoration-color: #008000\">'filters'</span>: <span style=\"font-weight: bold\">{</span><span style=\"color: #008000; text-decoration-color: #008000\">'parameters'</span>: <span style=\"font-weight: bold\">{</span><span style=\"color: #008000; text-decoration-color: #008000\">'KnnFilter'</span>: <span style=\"font-weight: bold\">{</span><span style=\"color: #008000; text-decoration-color: #008000\">'parameters'</span>: <span style=\"font-weight: bold\">{</span><span style=\"color: #008000; text-decoration-color: #008000\">'n_neighbors'</span>: <span style=\"font-weight: bold\">{</span><span style=\"color: #008000; text-decoration-color: #008000\">'values'</span>: <span style=\"font-weight: bold\">[</span><span style=\"color: #008080; text-decoration-color: #008080; font-weight: bold\">2</span>, <span style=\"color: #008080; text-decoration-color: #008080; font-weight: bold\">3</span>, <span style=\"color: #008080; text-decoration-color: #008080; font-weight: bold\">4</span>, <span style=\"color: #008080; text-decoration-color: #008080; font-weight: bold\">5</span>, <span style=\"color: #008080; text-decoration-color: #008080; font-weight: bold\">6</span><span style=\"font-weight: bold\">]}}}}}</span>,\n",
       "        <span style=\"color: #008000; text-decoration-color: #008000\">'pipeline'</span>: <span style=\"font-weight: bold\">{</span>\n",
       "            <span style=\"color: #008000; text-decoration-color: #008000\">'value'</span>: <span style=\"font-weight: bold\">{</span>\n",
       "                <span style=\"color: #008000; text-decoration-color: #008000\">'clazz'</span>: <span style=\"color: #008000; text-decoration-color: #008000\">'KFoldSplitter'</span>,\n",
       "                <span style=\"color: #008000; text-decoration-color: #008000\">'params'</span>: <span style=\"font-weight: bold\">{</span>\n",
       "                    <span style=\"color: #008000; text-decoration-color: #008000\">'n_splits'</span>: <span style=\"color: #008080; text-decoration-color: #008080; font-weight: bold\">2</span>,\n",
       "                    <span style=\"color: #008000; text-decoration-color: #008000\">'shuffle'</span>: <span style=\"color: #00ff00; text-decoration-color: #00ff00; font-style: italic\">True</span>,\n",
       "                    <span style=\"color: #008000; text-decoration-color: #008000\">'random_state'</span>: <span style=\"color: #008080; text-decoration-color: #008080; font-weight: bold\">42</span>,\n",
       "                    <span style=\"color: #008000; text-decoration-color: #008000\">'pipeline'</span>: <span style=\"font-weight: bold\">{</span>\n",
       "                        <span style=\"color: #008000; text-decoration-color: #008000\">'clazz'</span>: <span style=\"color: #008000; text-decoration-color: #008000\">'F3Pipeline'</span>,\n",
       "                        <span style=\"color: #008000; text-decoration-color: #008000\">'params'</span>: <span style=\"font-weight: bold\">{</span>\n",
       "                            <span style=\"color: #008000; text-decoration-color: #008000\">'filters'</span>: <span style=\"font-weight: bold\">[</span>\n",
       "                                <span style=\"font-weight: bold\">{</span><span style=\"color: #008000; text-decoration-color: #008000\">'clazz'</span>: <span style=\"color: #008000; text-decoration-color: #008000\">'StandardScalerPlugin'</span>, <span style=\"color: #008000; text-decoration-color: #008000\">'params'</span>: <span style=\"font-weight: bold\">{}}</span>,\n",
       "                                <span style=\"font-weight: bold\">{</span>\n",
       "                                    <span style=\"color: #008000; text-decoration-color: #008000\">'clazz'</span>: <span style=\"color: #008000; text-decoration-color: #008000\">'KnnFilter'</span>,\n",
       "                                    <span style=\"color: #008000; text-decoration-color: #008000\">'params'</span>: <span style=\"font-weight: bold\">{</span>\n",
       "                                        <span style=\"color: #008000; text-decoration-color: #008000\">'n_neighbors'</span>: <span style=\"font-weight: bold\">[</span><span style=\"color: #008080; text-decoration-color: #008080; font-weight: bold\">2</span>, <span style=\"color: #008080; text-decoration-color: #008080; font-weight: bold\">3</span>, <span style=\"color: #008080; text-decoration-color: #008080; font-weight: bold\">4</span>, <span style=\"color: #008080; text-decoration-color: #008080; font-weight: bold\">5</span>, <span style=\"color: #008080; text-decoration-color: #008080; font-weight: bold\">6</span><span style=\"font-weight: bold\">]</span>,\n",
       "                                        <span style=\"color: #008000; text-decoration-color: #008000\">'weights'</span>: <span style=\"color: #008000; text-decoration-color: #008000\">'uniform'</span>,\n",
       "                                        <span style=\"color: #008000; text-decoration-color: #008000\">'algorithm'</span>: <span style=\"color: #008000; text-decoration-color: #008000\">'auto'</span>,\n",
       "                                        <span style=\"color: #008000; text-decoration-color: #008000\">'leaf_size'</span>: <span style=\"color: #008080; text-decoration-color: #008080; font-weight: bold\">30</span>,\n",
       "                                        <span style=\"color: #008000; text-decoration-color: #008000\">'p'</span>: <span style=\"color: #008080; text-decoration-color: #008080; font-weight: bold\">2</span>,\n",
       "                                        <span style=\"color: #008000; text-decoration-color: #008000\">'metric'</span>: <span style=\"color: #008000; text-decoration-color: #008000\">'minkowski'</span>,\n",
       "                                        <span style=\"color: #008000; text-decoration-color: #008000\">'metric_params'</span>: <span style=\"color: #800080; text-decoration-color: #800080; font-style: italic\">None</span>,\n",
       "                                        <span style=\"color: #008000; text-decoration-color: #008000\">'n_jobs'</span>: <span style=\"color: #800080; text-decoration-color: #800080; font-style: italic\">None</span>\n",
       "                                    <span style=\"font-weight: bold\">}</span>,\n",
       "                                    <span style=\"color: #008000; text-decoration-color: #008000\">'_grid'</span>: <span style=\"font-weight: bold\">{</span><span style=\"color: #008000; text-decoration-color: #008000\">'n_neighbors'</span>: <span style=\"font-weight: bold\">[</span><span style=\"color: #008080; text-decoration-color: #008080; font-weight: bold\">2</span>, <span style=\"color: #008080; text-decoration-color: #008080; font-weight: bold\">3</span>, <span style=\"color: #008080; text-decoration-color: #008080; font-weight: bold\">4</span>, <span style=\"color: #008080; text-decoration-color: #008080; font-weight: bold\">5</span>, <span style=\"color: #008080; text-decoration-color: #008080; font-weight: bold\">6</span><span style=\"font-weight: bold\">]}</span>\n",
       "                                <span style=\"font-weight: bold\">}</span>\n",
       "                            <span style=\"font-weight: bold\">]</span>,\n",
       "                            <span style=\"color: #008000; text-decoration-color: #008000\">'metrics'</span>: <span style=\"font-weight: bold\">[</span>\n",
       "                                <span style=\"font-weight: bold\">{</span><span style=\"color: #008000; text-decoration-color: #008000\">'clazz'</span>: <span style=\"color: #008000; text-decoration-color: #008000\">'F1'</span>, <span style=\"color: #008000; text-decoration-color: #008000\">'params'</span>: <span style=\"font-weight: bold\">{</span><span style=\"color: #008000; text-decoration-color: #008000\">'average'</span>: <span style=\"color: #008000; text-decoration-color: #008000\">'weighted'</span><span style=\"font-weight: bold\">}}</span>,\n",
       "                                <span style=\"font-weight: bold\">{</span><span style=\"color: #008000; text-decoration-color: #008000\">'clazz'</span>: <span style=\"color: #008000; text-decoration-color: #008000\">'Precission'</span>, <span style=\"color: #008000; text-decoration-color: #008000\">'params'</span>: <span style=\"font-weight: bold\">{</span><span style=\"color: #008000; text-decoration-color: #008000\">'average'</span>: <span style=\"color: #008000; text-decoration-color: #008000\">'weighted'</span><span style=\"font-weight: bold\">}}</span>,\n",
       "                                <span style=\"font-weight: bold\">{</span><span style=\"color: #008000; text-decoration-color: #008000\">'clazz'</span>: <span style=\"color: #008000; text-decoration-color: #008000\">'Recall'</span>, <span style=\"color: #008000; text-decoration-color: #008000\">'params'</span>: <span style=\"font-weight: bold\">{</span><span style=\"color: #008000; text-decoration-color: #008000\">'average'</span>: <span style=\"color: #008000; text-decoration-color: #008000\">'weighted'</span><span style=\"font-weight: bold\">}}</span>\n",
       "                            <span style=\"font-weight: bold\">]</span>,\n",
       "                            <span style=\"color: #008000; text-decoration-color: #008000\">'overwrite'</span>: <span style=\"color: #ff0000; text-decoration-color: #ff0000; font-style: italic\">False</span>,\n",
       "                            <span style=\"color: #008000; text-decoration-color: #008000\">'store'</span>: <span style=\"color: #ff0000; text-decoration-color: #ff0000; font-style: italic\">False</span>,\n",
       "                            <span style=\"color: #008000; text-decoration-color: #008000\">'log'</span>: <span style=\"color: #ff0000; text-decoration-color: #ff0000; font-style: italic\">False</span>\n",
       "                        <span style=\"font-weight: bold\">}</span>\n",
       "                    <span style=\"font-weight: bold\">}</span>\n",
       "                <span style=\"font-weight: bold\">}</span>\n",
       "            <span style=\"font-weight: bold\">}</span>\n",
       "        <span style=\"font-weight: bold\">}</span>,\n",
       "        <span style=\"color: #008000; text-decoration-color: #008000\">'x_dataset'</span>: <span style=\"font-weight: bold\">{</span><span style=\"color: #008000; text-decoration-color: #008000\">'value'</span>: <span style=\"color: #008000; text-decoration-color: #008000\">'Iris X train data'</span><span style=\"font-weight: bold\">}</span>,\n",
       "        <span style=\"color: #008000; text-decoration-color: #008000\">'y_dataset'</span>: <span style=\"font-weight: bold\">{</span><span style=\"color: #008000; text-decoration-color: #008000\">'value'</span>: <span style=\"color: #008000; text-decoration-color: #008000\">'Iris y train data'</span><span style=\"font-weight: bold\">}</span>\n",
       "    <span style=\"font-weight: bold\">}</span>,\n",
       "    <span style=\"color: #008000; text-decoration-color: #008000\">'method'</span>: <span style=\"color: #008000; text-decoration-color: #008000\">'grid'</span>,\n",
       "    <span style=\"color: #008000; text-decoration-color: #008000\">'metric'</span>: <span style=\"font-weight: bold\">{</span><span style=\"color: #008000; text-decoration-color: #008000\">'name'</span>: <span style=\"color: #008000; text-decoration-color: #008000\">'F1'</span>, <span style=\"color: #008000; text-decoration-color: #008000\">'goal'</span>: <span style=\"color: #008000; text-decoration-color: #008000\">'maximize'</span><span style=\"font-weight: bold\">}</span>\n",
       "<span style=\"font-weight: bold\">}</span>\n",
       "</pre>\n"
      ],
      "text/plain": [
       "\u001b[1m{\u001b[0m\n",
       "    \u001b[32m'parameters'\u001b[0m: \u001b[1m{\u001b[0m\n",
       "        \u001b[32m'filters'\u001b[0m: \u001b[1m{\u001b[0m\u001b[32m'parameters'\u001b[0m: \u001b[1m{\u001b[0m\u001b[32m'KnnFilter'\u001b[0m: \u001b[1m{\u001b[0m\u001b[32m'parameters'\u001b[0m: \u001b[1m{\u001b[0m\u001b[32m'n_neighbors'\u001b[0m: \u001b[1m{\u001b[0m\u001b[32m'values'\u001b[0m: \u001b[1m[\u001b[0m\u001b[1;36m2\u001b[0m, \u001b[1;36m3\u001b[0m, \u001b[1;36m4\u001b[0m, \u001b[1;36m5\u001b[0m, \u001b[1;36m6\u001b[0m\u001b[1m]\u001b[0m\u001b[1m}\u001b[0m\u001b[1m}\u001b[0m\u001b[1m}\u001b[0m\u001b[1m}\u001b[0m\u001b[1m}\u001b[0m,\n",
       "        \u001b[32m'pipeline'\u001b[0m: \u001b[1m{\u001b[0m\n",
       "            \u001b[32m'value'\u001b[0m: \u001b[1m{\u001b[0m\n",
       "                \u001b[32m'clazz'\u001b[0m: \u001b[32m'KFoldSplitter'\u001b[0m,\n",
       "                \u001b[32m'params'\u001b[0m: \u001b[1m{\u001b[0m\n",
       "                    \u001b[32m'n_splits'\u001b[0m: \u001b[1;36m2\u001b[0m,\n",
       "                    \u001b[32m'shuffle'\u001b[0m: \u001b[3;92mTrue\u001b[0m,\n",
       "                    \u001b[32m'random_state'\u001b[0m: \u001b[1;36m42\u001b[0m,\n",
       "                    \u001b[32m'pipeline'\u001b[0m: \u001b[1m{\u001b[0m\n",
       "                        \u001b[32m'clazz'\u001b[0m: \u001b[32m'F3Pipeline'\u001b[0m,\n",
       "                        \u001b[32m'params'\u001b[0m: \u001b[1m{\u001b[0m\n",
       "                            \u001b[32m'filters'\u001b[0m: \u001b[1m[\u001b[0m\n",
       "                                \u001b[1m{\u001b[0m\u001b[32m'clazz'\u001b[0m: \u001b[32m'StandardScalerPlugin'\u001b[0m, \u001b[32m'params'\u001b[0m: \u001b[1m{\u001b[0m\u001b[1m}\u001b[0m\u001b[1m}\u001b[0m,\n",
       "                                \u001b[1m{\u001b[0m\n",
       "                                    \u001b[32m'clazz'\u001b[0m: \u001b[32m'KnnFilter'\u001b[0m,\n",
       "                                    \u001b[32m'params'\u001b[0m: \u001b[1m{\u001b[0m\n",
       "                                        \u001b[32m'n_neighbors'\u001b[0m: \u001b[1m[\u001b[0m\u001b[1;36m2\u001b[0m, \u001b[1;36m3\u001b[0m, \u001b[1;36m4\u001b[0m, \u001b[1;36m5\u001b[0m, \u001b[1;36m6\u001b[0m\u001b[1m]\u001b[0m,\n",
       "                                        \u001b[32m'weights'\u001b[0m: \u001b[32m'uniform'\u001b[0m,\n",
       "                                        \u001b[32m'algorithm'\u001b[0m: \u001b[32m'auto'\u001b[0m,\n",
       "                                        \u001b[32m'leaf_size'\u001b[0m: \u001b[1;36m30\u001b[0m,\n",
       "                                        \u001b[32m'p'\u001b[0m: \u001b[1;36m2\u001b[0m,\n",
       "                                        \u001b[32m'metric'\u001b[0m: \u001b[32m'minkowski'\u001b[0m,\n",
       "                                        \u001b[32m'metric_params'\u001b[0m: \u001b[3;35mNone\u001b[0m,\n",
       "                                        \u001b[32m'n_jobs'\u001b[0m: \u001b[3;35mNone\u001b[0m\n",
       "                                    \u001b[1m}\u001b[0m,\n",
       "                                    \u001b[32m'_grid'\u001b[0m: \u001b[1m{\u001b[0m\u001b[32m'n_neighbors'\u001b[0m: \u001b[1m[\u001b[0m\u001b[1;36m2\u001b[0m, \u001b[1;36m3\u001b[0m, \u001b[1;36m4\u001b[0m, \u001b[1;36m5\u001b[0m, \u001b[1;36m6\u001b[0m\u001b[1m]\u001b[0m\u001b[1m}\u001b[0m\n",
       "                                \u001b[1m}\u001b[0m\n",
       "                            \u001b[1m]\u001b[0m,\n",
       "                            \u001b[32m'metrics'\u001b[0m: \u001b[1m[\u001b[0m\n",
       "                                \u001b[1m{\u001b[0m\u001b[32m'clazz'\u001b[0m: \u001b[32m'F1'\u001b[0m, \u001b[32m'params'\u001b[0m: \u001b[1m{\u001b[0m\u001b[32m'average'\u001b[0m: \u001b[32m'weighted'\u001b[0m\u001b[1m}\u001b[0m\u001b[1m}\u001b[0m,\n",
       "                                \u001b[1m{\u001b[0m\u001b[32m'clazz'\u001b[0m: \u001b[32m'Precission'\u001b[0m, \u001b[32m'params'\u001b[0m: \u001b[1m{\u001b[0m\u001b[32m'average'\u001b[0m: \u001b[32m'weighted'\u001b[0m\u001b[1m}\u001b[0m\u001b[1m}\u001b[0m,\n",
       "                                \u001b[1m{\u001b[0m\u001b[32m'clazz'\u001b[0m: \u001b[32m'Recall'\u001b[0m, \u001b[32m'params'\u001b[0m: \u001b[1m{\u001b[0m\u001b[32m'average'\u001b[0m: \u001b[32m'weighted'\u001b[0m\u001b[1m}\u001b[0m\u001b[1m}\u001b[0m\n",
       "                            \u001b[1m]\u001b[0m,\n",
       "                            \u001b[32m'overwrite'\u001b[0m: \u001b[3;91mFalse\u001b[0m,\n",
       "                            \u001b[32m'store'\u001b[0m: \u001b[3;91mFalse\u001b[0m,\n",
       "                            \u001b[32m'log'\u001b[0m: \u001b[3;91mFalse\u001b[0m\n",
       "                        \u001b[1m}\u001b[0m\n",
       "                    \u001b[1m}\u001b[0m\n",
       "                \u001b[1m}\u001b[0m\n",
       "            \u001b[1m}\u001b[0m\n",
       "        \u001b[1m}\u001b[0m,\n",
       "        \u001b[32m'x_dataset'\u001b[0m: \u001b[1m{\u001b[0m\u001b[32m'value'\u001b[0m: \u001b[32m'Iris X train data'\u001b[0m\u001b[1m}\u001b[0m,\n",
       "        \u001b[32m'y_dataset'\u001b[0m: \u001b[1m{\u001b[0m\u001b[32m'value'\u001b[0m: \u001b[32m'Iris y train data'\u001b[0m\u001b[1m}\u001b[0m\n",
       "    \u001b[1m}\u001b[0m,\n",
       "    \u001b[32m'method'\u001b[0m: \u001b[32m'grid'\u001b[0m,\n",
       "    \u001b[32m'metric'\u001b[0m: \u001b[1m{\u001b[0m\u001b[32m'name'\u001b[0m: \u001b[32m'F1'\u001b[0m, \u001b[32m'goal'\u001b[0m: \u001b[32m'maximize'\u001b[0m\u001b[1m}\u001b[0m\n",
       "\u001b[1m}\u001b[0m\n"
      ]
     },
     "metadata": {},
     "output_type": "display_data"
    },
    {
     "data": {
      "text/html": [
       "<pre style=\"white-space:pre;overflow-x:auto;line-height:normal;font-family:Menlo,'DejaVu Sans Mono',consolas,'Courier New',monospace\">_____________________________________________________\n",
       "</pre>\n"
      ],
      "text/plain": [
       "_____________________________________________________\n"
      ]
     },
     "metadata": {},
     "output_type": "display_data"
    },
    {
     "name": "stdout",
     "output_type": "stream",
     "text": [
      "Create sweep with ID: kr0p2w24\n",
      "Sweep URL: https://wandb.ai/citius-irlab/test_project/sweeps/kr0p2w24\n"
     ]
    },
    {
     "name": "stderr",
     "output_type": "stream",
     "text": [
      "\u001b[34m\u001b[1mwandb\u001b[0m: Agent Starting Run: qvhp71sa with config:\n",
      "\u001b[34m\u001b[1mwandb\u001b[0m: \tfilters: {'KnnFilter': {'n_neighbors': 2}}\n",
      "\u001b[34m\u001b[1mwandb\u001b[0m: \tpipeline: {'clazz': 'KFoldSplitter', 'params': {'n_splits': 2, 'pipeline': {'clazz': 'F3Pipeline', 'params': {'filters': [{'clazz': 'StandardScalerPlugin', 'params': {}}, {'_grid': {'n_neighbors': [2, 3, 4, 5, 6]}, 'clazz': 'KnnFilter', 'params': {'algorithm': 'auto', 'leaf_size': 30, 'metric': 'minkowski', 'metric_params': None, 'n_jobs': None, 'n_neighbors': [2, 3, 4, 5, 6], 'p': 2, 'weights': 'uniform'}}], 'log': False, 'metrics': [{'clazz': 'F1', 'params': {'average': 'weighted'}}, {'clazz': 'Precission', 'params': {'average': 'weighted'}}, {'clazz': 'Recall', 'params': {'average': 'weighted'}}], 'overwrite': False, 'store': False}}, 'random_state': 42, 'shuffle': True}}\n",
      "\u001b[34m\u001b[1mwandb\u001b[0m: \tx_dataset: Iris X train data\n",
      "\u001b[34m\u001b[1mwandb\u001b[0m: \ty_dataset: Iris y train data\n"
     ]
    },
    {
     "data": {
      "text/html": [
       "Tracking run with wandb version 0.19.9"
      ],
      "text/plain": [
       "<IPython.core.display.HTML object>"
      ]
     },
     "metadata": {},
     "output_type": "display_data"
    },
    {
     "data": {
      "text/html": [
       "Run data is saved locally in <code>/home/manuel.couto.pintos/Documents/code/framework3/docs/examples/notebooks/wandb/run-20250416_170907-qvhp71sa</code>"
      ],
      "text/plain": [
       "<IPython.core.display.HTML object>"
      ]
     },
     "metadata": {},
     "output_type": "display_data"
    },
    {
     "data": {
      "text/html": [
       "Syncing run <strong><a href='https://wandb.ai/citius-irlab/test_project/runs/qvhp71sa' target=\"_blank\">swift-sweep-1</a></strong> to <a href='https://wandb.ai/citius-irlab/test_project' target=\"_blank\">Weights & Biases</a> (<a href='https://wandb.me/developer-guide' target=\"_blank\">docs</a>)<br>Sweep page: <a href='https://wandb.ai/citius-irlab/test_project/sweeps/kr0p2w24' target=\"_blank\">https://wandb.ai/citius-irlab/test_project/sweeps/kr0p2w24</a>"
      ],
      "text/plain": [
       "<IPython.core.display.HTML object>"
      ]
     },
     "metadata": {},
     "output_type": "display_data"
    },
    {
     "data": {
      "text/html": [
       " View project at <a href='https://wandb.ai/citius-irlab/test_project' target=\"_blank\">https://wandb.ai/citius-irlab/test_project</a>"
      ],
      "text/plain": [
       "<IPython.core.display.HTML object>"
      ]
     },
     "metadata": {},
     "output_type": "display_data"
    },
    {
     "data": {
      "text/html": [
       " View sweep at <a href='https://wandb.ai/citius-irlab/test_project/sweeps/kr0p2w24' target=\"_blank\">https://wandb.ai/citius-irlab/test_project/sweeps/kr0p2w24</a>"
      ],
      "text/plain": [
       "<IPython.core.display.HTML object>"
      ]
     },
     "metadata": {},
     "output_type": "display_data"
    },
    {
     "data": {
      "text/html": [
       " View run at <a href='https://wandb.ai/citius-irlab/test_project/runs/qvhp71sa' target=\"_blank\">https://wandb.ai/citius-irlab/test_project/runs/qvhp71sa</a>"
      ],
      "text/plain": [
       "<IPython.core.display.HTML object>"
      ]
     },
     "metadata": {},
     "output_type": "display_data"
    },
    {
     "data": {
      "text/html": [],
      "text/plain": [
       "<IPython.core.display.HTML object>"
      ]
     },
     "metadata": {},
     "output_type": "display_data"
    },
    {
     "data": {
      "text/html": [
       "<br>    <style><br>        .wandb-row {<br>            display: flex;<br>            flex-direction: row;<br>            flex-wrap: wrap;<br>            justify-content: flex-start;<br>            width: 100%;<br>        }<br>        .wandb-col {<br>            display: flex;<br>            flex-direction: column;<br>            flex-basis: 100%;<br>            flex: 1;<br>            padding: 10px;<br>        }<br>    </style><br><div class=\"wandb-row\"><div class=\"wandb-col\"><h3>Run history:</h3><br/><table class=\"wandb\"><tr><td>F1</td><td>▁</td></tr></table><br/></div><div class=\"wandb-col\"><h3>Run summary:</h3><br/><table class=\"wandb\"><tr><td>F1</td><td>0.90865</td></tr></table><br/></div></div>"
      ],
      "text/plain": [
       "<IPython.core.display.HTML object>"
      ]
     },
     "metadata": {},
     "output_type": "display_data"
    },
    {
     "data": {
      "text/html": [
       " View run <strong style=\"color:#cdcd00\">swift-sweep-1</strong> at: <a href='https://wandb.ai/citius-irlab/test_project/runs/qvhp71sa' target=\"_blank\">https://wandb.ai/citius-irlab/test_project/runs/qvhp71sa</a><br> View project at: <a href='https://wandb.ai/citius-irlab/test_project' target=\"_blank\">https://wandb.ai/citius-irlab/test_project</a><br>Synced 5 W&B file(s), 0 media file(s), 0 artifact file(s) and 0 other file(s)"
      ],
      "text/plain": [
       "<IPython.core.display.HTML object>"
      ]
     },
     "metadata": {},
     "output_type": "display_data"
    },
    {
     "data": {
      "text/html": [
       "Find logs at: <code>./wandb/run-20250416_170907-qvhp71sa/logs</code>"
      ],
      "text/plain": [
       "<IPython.core.display.HTML object>"
      ]
     },
     "metadata": {},
     "output_type": "display_data"
    },
    {
     "name": "stderr",
     "output_type": "stream",
     "text": [
      "\u001b[34m\u001b[1mwandb\u001b[0m: Agent Starting Run: bv8epurg with config:\n",
      "\u001b[34m\u001b[1mwandb\u001b[0m: \tfilters: {'KnnFilter': {'n_neighbors': 3}}\n",
      "\u001b[34m\u001b[1mwandb\u001b[0m: \tpipeline: {'clazz': 'KFoldSplitter', 'params': {'n_splits': 2, 'pipeline': {'clazz': 'F3Pipeline', 'params': {'filters': [{'clazz': 'StandardScalerPlugin', 'params': {}}, {'_grid': {'n_neighbors': [2, 3, 4, 5, 6]}, 'clazz': 'KnnFilter', 'params': {'algorithm': 'auto', 'leaf_size': 30, 'metric': 'minkowski', 'metric_params': None, 'n_jobs': None, 'n_neighbors': [2, 3, 4, 5, 6], 'p': 2, 'weights': 'uniform'}}], 'log': False, 'metrics': [{'clazz': 'F1', 'params': {'average': 'weighted'}}, {'clazz': 'Precission', 'params': {'average': 'weighted'}}, {'clazz': 'Recall', 'params': {'average': 'weighted'}}], 'overwrite': False, 'store': False}}, 'random_state': 42, 'shuffle': True}}\n",
      "\u001b[34m\u001b[1mwandb\u001b[0m: \tx_dataset: Iris X train data\n",
      "\u001b[34m\u001b[1mwandb\u001b[0m: \ty_dataset: Iris y train data\n"
     ]
    },
    {
     "data": {
      "text/html": [
       "Tracking run with wandb version 0.19.9"
      ],
      "text/plain": [
       "<IPython.core.display.HTML object>"
      ]
     },
     "metadata": {},
     "output_type": "display_data"
    },
    {
     "data": {
      "text/html": [
       "Run data is saved locally in <code>/home/manuel.couto.pintos/Documents/code/framework3/docs/examples/notebooks/wandb/run-20250416_170913-bv8epurg</code>"
      ],
      "text/plain": [
       "<IPython.core.display.HTML object>"
      ]
     },
     "metadata": {},
     "output_type": "display_data"
    },
    {
     "data": {
      "text/html": [
       "Syncing run <strong><a href='https://wandb.ai/citius-irlab/test_project/runs/bv8epurg' target=\"_blank\">driven-sweep-2</a></strong> to <a href='https://wandb.ai/citius-irlab/test_project' target=\"_blank\">Weights & Biases</a> (<a href='https://wandb.me/developer-guide' target=\"_blank\">docs</a>)<br>Sweep page: <a href='https://wandb.ai/citius-irlab/test_project/sweeps/kr0p2w24' target=\"_blank\">https://wandb.ai/citius-irlab/test_project/sweeps/kr0p2w24</a>"
      ],
      "text/plain": [
       "<IPython.core.display.HTML object>"
      ]
     },
     "metadata": {},
     "output_type": "display_data"
    },
    {
     "data": {
      "text/html": [
       " View project at <a href='https://wandb.ai/citius-irlab/test_project' target=\"_blank\">https://wandb.ai/citius-irlab/test_project</a>"
      ],
      "text/plain": [
       "<IPython.core.display.HTML object>"
      ]
     },
     "metadata": {},
     "output_type": "display_data"
    },
    {
     "data": {
      "text/html": [
       " View sweep at <a href='https://wandb.ai/citius-irlab/test_project/sweeps/kr0p2w24' target=\"_blank\">https://wandb.ai/citius-irlab/test_project/sweeps/kr0p2w24</a>"
      ],
      "text/plain": [
       "<IPython.core.display.HTML object>"
      ]
     },
     "metadata": {},
     "output_type": "display_data"
    },
    {
     "data": {
      "text/html": [
       " View run at <a href='https://wandb.ai/citius-irlab/test_project/runs/bv8epurg' target=\"_blank\">https://wandb.ai/citius-irlab/test_project/runs/bv8epurg</a>"
      ],
      "text/plain": [
       "<IPython.core.display.HTML object>"
      ]
     },
     "metadata": {},
     "output_type": "display_data"
    },
    {
     "data": {
      "text/html": [],
      "text/plain": [
       "<IPython.core.display.HTML object>"
      ]
     },
     "metadata": {},
     "output_type": "display_data"
    },
    {
     "data": {
      "text/html": [
       "<br>    <style><br>        .wandb-row {<br>            display: flex;<br>            flex-direction: row;<br>            flex-wrap: wrap;<br>            justify-content: flex-start;<br>            width: 100%;<br>        }<br>        .wandb-col {<br>            display: flex;<br>            flex-direction: column;<br>            flex-basis: 100%;<br>            flex: 1;<br>            padding: 10px;<br>        }<br>    </style><br><div class=\"wandb-row\"><div class=\"wandb-col\"><h3>Run history:</h3><br/><table class=\"wandb\"><tr><td>F1</td><td>▁</td></tr></table><br/></div><div class=\"wandb-col\"><h3>Run summary:</h3><br/><table class=\"wandb\"><tr><td>F1</td><td>0.92541</td></tr></table><br/></div></div>"
      ],
      "text/plain": [
       "<IPython.core.display.HTML object>"
      ]
     },
     "metadata": {},
     "output_type": "display_data"
    },
    {
     "data": {
      "text/html": [
       " View run <strong style=\"color:#cdcd00\">driven-sweep-2</strong> at: <a href='https://wandb.ai/citius-irlab/test_project/runs/bv8epurg' target=\"_blank\">https://wandb.ai/citius-irlab/test_project/runs/bv8epurg</a><br> View project at: <a href='https://wandb.ai/citius-irlab/test_project' target=\"_blank\">https://wandb.ai/citius-irlab/test_project</a><br>Synced 5 W&B file(s), 0 media file(s), 0 artifact file(s) and 0 other file(s)"
      ],
      "text/plain": [
       "<IPython.core.display.HTML object>"
      ]
     },
     "metadata": {},
     "output_type": "display_data"
    },
    {
     "data": {
      "text/html": [
       "Find logs at: <code>./wandb/run-20250416_170913-bv8epurg/logs</code>"
      ],
      "text/plain": [
       "<IPython.core.display.HTML object>"
      ]
     },
     "metadata": {},
     "output_type": "display_data"
    },
    {
     "name": "stderr",
     "output_type": "stream",
     "text": [
      "\u001b[34m\u001b[1mwandb\u001b[0m: Agent Starting Run: y6ebmuh1 with config:\n",
      "\u001b[34m\u001b[1mwandb\u001b[0m: \tfilters: {'KnnFilter': {'n_neighbors': 4}}\n",
      "\u001b[34m\u001b[1mwandb\u001b[0m: \tpipeline: {'clazz': 'KFoldSplitter', 'params': {'n_splits': 2, 'pipeline': {'clazz': 'F3Pipeline', 'params': {'filters': [{'clazz': 'StandardScalerPlugin', 'params': {}}, {'_grid': {'n_neighbors': [2, 3, 4, 5, 6]}, 'clazz': 'KnnFilter', 'params': {'algorithm': 'auto', 'leaf_size': 30, 'metric': 'minkowski', 'metric_params': None, 'n_jobs': None, 'n_neighbors': [2, 3, 4, 5, 6], 'p': 2, 'weights': 'uniform'}}], 'log': False, 'metrics': [{'clazz': 'F1', 'params': {'average': 'weighted'}}, {'clazz': 'Precission', 'params': {'average': 'weighted'}}, {'clazz': 'Recall', 'params': {'average': 'weighted'}}], 'overwrite': False, 'store': False}}, 'random_state': 42, 'shuffle': True}}\n",
      "\u001b[34m\u001b[1mwandb\u001b[0m: \tx_dataset: Iris X train data\n",
      "\u001b[34m\u001b[1mwandb\u001b[0m: \ty_dataset: Iris y train data\n"
     ]
    },
    {
     "data": {
      "text/html": [
       "Tracking run with wandb version 0.19.9"
      ],
      "text/plain": [
       "<IPython.core.display.HTML object>"
      ]
     },
     "metadata": {},
     "output_type": "display_data"
    },
    {
     "data": {
      "text/html": [
       "Run data is saved locally in <code>/home/manuel.couto.pintos/Documents/code/framework3/docs/examples/notebooks/wandb/run-20250416_170918-y6ebmuh1</code>"
      ],
      "text/plain": [
       "<IPython.core.display.HTML object>"
      ]
     },
     "metadata": {},
     "output_type": "display_data"
    },
    {
     "data": {
      "text/html": [
       "Syncing run <strong><a href='https://wandb.ai/citius-irlab/test_project/runs/y6ebmuh1' target=\"_blank\">vague-sweep-3</a></strong> to <a href='https://wandb.ai/citius-irlab/test_project' target=\"_blank\">Weights & Biases</a> (<a href='https://wandb.me/developer-guide' target=\"_blank\">docs</a>)<br>Sweep page: <a href='https://wandb.ai/citius-irlab/test_project/sweeps/kr0p2w24' target=\"_blank\">https://wandb.ai/citius-irlab/test_project/sweeps/kr0p2w24</a>"
      ],
      "text/plain": [
       "<IPython.core.display.HTML object>"
      ]
     },
     "metadata": {},
     "output_type": "display_data"
    },
    {
     "data": {
      "text/html": [
       " View project at <a href='https://wandb.ai/citius-irlab/test_project' target=\"_blank\">https://wandb.ai/citius-irlab/test_project</a>"
      ],
      "text/plain": [
       "<IPython.core.display.HTML object>"
      ]
     },
     "metadata": {},
     "output_type": "display_data"
    },
    {
     "data": {
      "text/html": [
       " View sweep at <a href='https://wandb.ai/citius-irlab/test_project/sweeps/kr0p2w24' target=\"_blank\">https://wandb.ai/citius-irlab/test_project/sweeps/kr0p2w24</a>"
      ],
      "text/plain": [
       "<IPython.core.display.HTML object>"
      ]
     },
     "metadata": {},
     "output_type": "display_data"
    },
    {
     "data": {
      "text/html": [
       " View run at <a href='https://wandb.ai/citius-irlab/test_project/runs/y6ebmuh1' target=\"_blank\">https://wandb.ai/citius-irlab/test_project/runs/y6ebmuh1</a>"
      ],
      "text/plain": [
       "<IPython.core.display.HTML object>"
      ]
     },
     "metadata": {},
     "output_type": "display_data"
    },
    {
     "data": {
      "text/html": [],
      "text/plain": [
       "<IPython.core.display.HTML object>"
      ]
     },
     "metadata": {},
     "output_type": "display_data"
    },
    {
     "data": {
      "text/html": [
       "<br>    <style><br>        .wandb-row {<br>            display: flex;<br>            flex-direction: row;<br>            flex-wrap: wrap;<br>            justify-content: flex-start;<br>            width: 100%;<br>        }<br>        .wandb-col {<br>            display: flex;<br>            flex-direction: column;<br>            flex-basis: 100%;<br>            flex: 1;<br>            padding: 10px;<br>        }<br>    </style><br><div class=\"wandb-row\"><div class=\"wandb-col\"><h3>Run history:</h3><br/><table class=\"wandb\"><tr><td>F1</td><td>▁</td></tr></table><br/></div><div class=\"wandb-col\"><h3>Run summary:</h3><br/><table class=\"wandb\"><tr><td>F1</td><td>0.93372</td></tr></table><br/></div></div>"
      ],
      "text/plain": [
       "<IPython.core.display.HTML object>"
      ]
     },
     "metadata": {},
     "output_type": "display_data"
    },
    {
     "data": {
      "text/html": [
       " View run <strong style=\"color:#cdcd00\">vague-sweep-3</strong> at: <a href='https://wandb.ai/citius-irlab/test_project/runs/y6ebmuh1' target=\"_blank\">https://wandb.ai/citius-irlab/test_project/runs/y6ebmuh1</a><br> View project at: <a href='https://wandb.ai/citius-irlab/test_project' target=\"_blank\">https://wandb.ai/citius-irlab/test_project</a><br>Synced 5 W&B file(s), 0 media file(s), 0 artifact file(s) and 0 other file(s)"
      ],
      "text/plain": [
       "<IPython.core.display.HTML object>"
      ]
     },
     "metadata": {},
     "output_type": "display_data"
    },
    {
     "data": {
      "text/html": [
       "Find logs at: <code>./wandb/run-20250416_170918-y6ebmuh1/logs</code>"
      ],
      "text/plain": [
       "<IPython.core.display.HTML object>"
      ]
     },
     "metadata": {},
     "output_type": "display_data"
    },
    {
     "name": "stderr",
     "output_type": "stream",
     "text": [
      "\u001b[34m\u001b[1mwandb\u001b[0m: Agent Starting Run: srq9t0tk with config:\n",
      "\u001b[34m\u001b[1mwandb\u001b[0m: \tfilters: {'KnnFilter': {'n_neighbors': 5}}\n",
      "\u001b[34m\u001b[1mwandb\u001b[0m: \tpipeline: {'clazz': 'KFoldSplitter', 'params': {'n_splits': 2, 'pipeline': {'clazz': 'F3Pipeline', 'params': {'filters': [{'clazz': 'StandardScalerPlugin', 'params': {}}, {'_grid': {'n_neighbors': [2, 3, 4, 5, 6]}, 'clazz': 'KnnFilter', 'params': {'algorithm': 'auto', 'leaf_size': 30, 'metric': 'minkowski', 'metric_params': None, 'n_jobs': None, 'n_neighbors': [2, 3, 4, 5, 6], 'p': 2, 'weights': 'uniform'}}], 'log': False, 'metrics': [{'clazz': 'F1', 'params': {'average': 'weighted'}}, {'clazz': 'Precission', 'params': {'average': 'weighted'}}, {'clazz': 'Recall', 'params': {'average': 'weighted'}}], 'overwrite': False, 'store': False}}, 'random_state': 42, 'shuffle': True}}\n",
      "\u001b[34m\u001b[1mwandb\u001b[0m: \tx_dataset: Iris X train data\n",
      "\u001b[34m\u001b[1mwandb\u001b[0m: \ty_dataset: Iris y train data\n"
     ]
    },
    {
     "data": {
      "text/html": [
       "Tracking run with wandb version 0.19.9"
      ],
      "text/plain": [
       "<IPython.core.display.HTML object>"
      ]
     },
     "metadata": {},
     "output_type": "display_data"
    },
    {
     "data": {
      "text/html": [
       "Run data is saved locally in <code>/home/manuel.couto.pintos/Documents/code/framework3/docs/examples/notebooks/wandb/run-20250416_170924-srq9t0tk</code>"
      ],
      "text/plain": [
       "<IPython.core.display.HTML object>"
      ]
     },
     "metadata": {},
     "output_type": "display_data"
    },
    {
     "data": {
      "text/html": [
       "Syncing run <strong><a href='https://wandb.ai/citius-irlab/test_project/runs/srq9t0tk' target=\"_blank\">apricot-sweep-4</a></strong> to <a href='https://wandb.ai/citius-irlab/test_project' target=\"_blank\">Weights & Biases</a> (<a href='https://wandb.me/developer-guide' target=\"_blank\">docs</a>)<br>Sweep page: <a href='https://wandb.ai/citius-irlab/test_project/sweeps/kr0p2w24' target=\"_blank\">https://wandb.ai/citius-irlab/test_project/sweeps/kr0p2w24</a>"
      ],
      "text/plain": [
       "<IPython.core.display.HTML object>"
      ]
     },
     "metadata": {},
     "output_type": "display_data"
    },
    {
     "data": {
      "text/html": [
       " View project at <a href='https://wandb.ai/citius-irlab/test_project' target=\"_blank\">https://wandb.ai/citius-irlab/test_project</a>"
      ],
      "text/plain": [
       "<IPython.core.display.HTML object>"
      ]
     },
     "metadata": {},
     "output_type": "display_data"
    },
    {
     "data": {
      "text/html": [
       " View sweep at <a href='https://wandb.ai/citius-irlab/test_project/sweeps/kr0p2w24' target=\"_blank\">https://wandb.ai/citius-irlab/test_project/sweeps/kr0p2w24</a>"
      ],
      "text/plain": [
       "<IPython.core.display.HTML object>"
      ]
     },
     "metadata": {},
     "output_type": "display_data"
    },
    {
     "data": {
      "text/html": [
       " View run at <a href='https://wandb.ai/citius-irlab/test_project/runs/srq9t0tk' target=\"_blank\">https://wandb.ai/citius-irlab/test_project/runs/srq9t0tk</a>"
      ],
      "text/plain": [
       "<IPython.core.display.HTML object>"
      ]
     },
     "metadata": {},
     "output_type": "display_data"
    },
    {
     "data": {
      "text/html": [],
      "text/plain": [
       "<IPython.core.display.HTML object>"
      ]
     },
     "metadata": {},
     "output_type": "display_data"
    },
    {
     "data": {
      "text/html": [
       "<br>    <style><br>        .wandb-row {<br>            display: flex;<br>            flex-direction: row;<br>            flex-wrap: wrap;<br>            justify-content: flex-start;<br>            width: 100%;<br>        }<br>        .wandb-col {<br>            display: flex;<br>            flex-direction: column;<br>            flex-basis: 100%;<br>            flex: 1;<br>            padding: 10px;<br>        }<br>    </style><br><div class=\"wandb-row\"><div class=\"wandb-col\"><h3>Run history:</h3><br/><table class=\"wandb\"><tr><td>F1</td><td>▁</td></tr></table><br/></div><div class=\"wandb-col\"><h3>Run summary:</h3><br/><table class=\"wandb\"><tr><td>F1</td><td>0.91695</td></tr></table><br/></div></div>"
      ],
      "text/plain": [
       "<IPython.core.display.HTML object>"
      ]
     },
     "metadata": {},
     "output_type": "display_data"
    },
    {
     "data": {
      "text/html": [
       " View run <strong style=\"color:#cdcd00\">apricot-sweep-4</strong> at: <a href='https://wandb.ai/citius-irlab/test_project/runs/srq9t0tk' target=\"_blank\">https://wandb.ai/citius-irlab/test_project/runs/srq9t0tk</a><br> View project at: <a href='https://wandb.ai/citius-irlab/test_project' target=\"_blank\">https://wandb.ai/citius-irlab/test_project</a><br>Synced 5 W&B file(s), 0 media file(s), 0 artifact file(s) and 0 other file(s)"
      ],
      "text/plain": [
       "<IPython.core.display.HTML object>"
      ]
     },
     "metadata": {},
     "output_type": "display_data"
    },
    {
     "data": {
      "text/html": [
       "Find logs at: <code>./wandb/run-20250416_170924-srq9t0tk/logs</code>"
      ],
      "text/plain": [
       "<IPython.core.display.HTML object>"
      ]
     },
     "metadata": {},
     "output_type": "display_data"
    },
    {
     "name": "stderr",
     "output_type": "stream",
     "text": [
      "\u001b[34m\u001b[1mwandb\u001b[0m: Agent Starting Run: za54vh64 with config:\n",
      "\u001b[34m\u001b[1mwandb\u001b[0m: \tfilters: {'KnnFilter': {'n_neighbors': 6}}\n",
      "\u001b[34m\u001b[1mwandb\u001b[0m: \tpipeline: {'clazz': 'KFoldSplitter', 'params': {'n_splits': 2, 'pipeline': {'clazz': 'F3Pipeline', 'params': {'filters': [{'clazz': 'StandardScalerPlugin', 'params': {}}, {'_grid': {'n_neighbors': [2, 3, 4, 5, 6]}, 'clazz': 'KnnFilter', 'params': {'algorithm': 'auto', 'leaf_size': 30, 'metric': 'minkowski', 'metric_params': None, 'n_jobs': None, 'n_neighbors': [2, 3, 4, 5, 6], 'p': 2, 'weights': 'uniform'}}], 'log': False, 'metrics': [{'clazz': 'F1', 'params': {'average': 'weighted'}}, {'clazz': 'Precission', 'params': {'average': 'weighted'}}, {'clazz': 'Recall', 'params': {'average': 'weighted'}}], 'overwrite': False, 'store': False}}, 'random_state': 42, 'shuffle': True}}\n",
      "\u001b[34m\u001b[1mwandb\u001b[0m: \tx_dataset: Iris X train data\n",
      "\u001b[34m\u001b[1mwandb\u001b[0m: \ty_dataset: Iris y train data\n"
     ]
    },
    {
     "data": {
      "text/html": [
       "Tracking run with wandb version 0.19.9"
      ],
      "text/plain": [
       "<IPython.core.display.HTML object>"
      ]
     },
     "metadata": {},
     "output_type": "display_data"
    },
    {
     "data": {
      "text/html": [
       "Run data is saved locally in <code>/home/manuel.couto.pintos/Documents/code/framework3/docs/examples/notebooks/wandb/run-20250416_170929-za54vh64</code>"
      ],
      "text/plain": [
       "<IPython.core.display.HTML object>"
      ]
     },
     "metadata": {},
     "output_type": "display_data"
    },
    {
     "data": {
      "text/html": [
       "Syncing run <strong><a href='https://wandb.ai/citius-irlab/test_project/runs/za54vh64' target=\"_blank\">silvery-sweep-5</a></strong> to <a href='https://wandb.ai/citius-irlab/test_project' target=\"_blank\">Weights & Biases</a> (<a href='https://wandb.me/developer-guide' target=\"_blank\">docs</a>)<br>Sweep page: <a href='https://wandb.ai/citius-irlab/test_project/sweeps/kr0p2w24' target=\"_blank\">https://wandb.ai/citius-irlab/test_project/sweeps/kr0p2w24</a>"
      ],
      "text/plain": [
       "<IPython.core.display.HTML object>"
      ]
     },
     "metadata": {},
     "output_type": "display_data"
    },
    {
     "data": {
      "text/html": [
       " View project at <a href='https://wandb.ai/citius-irlab/test_project' target=\"_blank\">https://wandb.ai/citius-irlab/test_project</a>"
      ],
      "text/plain": [
       "<IPython.core.display.HTML object>"
      ]
     },
     "metadata": {},
     "output_type": "display_data"
    },
    {
     "data": {
      "text/html": [
       " View sweep at <a href='https://wandb.ai/citius-irlab/test_project/sweeps/kr0p2w24' target=\"_blank\">https://wandb.ai/citius-irlab/test_project/sweeps/kr0p2w24</a>"
      ],
      "text/plain": [
       "<IPython.core.display.HTML object>"
      ]
     },
     "metadata": {},
     "output_type": "display_data"
    },
    {
     "data": {
      "text/html": [
       " View run at <a href='https://wandb.ai/citius-irlab/test_project/runs/za54vh64' target=\"_blank\">https://wandb.ai/citius-irlab/test_project/runs/za54vh64</a>"
      ],
      "text/plain": [
       "<IPython.core.display.HTML object>"
      ]
     },
     "metadata": {},
     "output_type": "display_data"
    },
    {
     "data": {
      "text/html": [],
      "text/plain": [
       "<IPython.core.display.HTML object>"
      ]
     },
     "metadata": {},
     "output_type": "display_data"
    },
    {
     "data": {
      "text/html": [
       "<br>    <style><br>        .wandb-row {<br>            display: flex;<br>            flex-direction: row;<br>            flex-wrap: wrap;<br>            justify-content: flex-start;<br>            width: 100%;<br>        }<br>        .wandb-col {<br>            display: flex;<br>            flex-direction: column;<br>            flex-basis: 100%;<br>            flex: 1;<br>            padding: 10px;<br>        }<br>    </style><br><div class=\"wandb-row\"><div class=\"wandb-col\"><h3>Run history:</h3><br/><table class=\"wandb\"><tr><td>F1</td><td>▁</td></tr></table><br/></div><div class=\"wandb-col\"><h3>Run summary:</h3><br/><table class=\"wandb\"><tr><td>F1</td><td>0.93284</td></tr></table><br/></div></div>"
      ],
      "text/plain": [
       "<IPython.core.display.HTML object>"
      ]
     },
     "metadata": {},
     "output_type": "display_data"
    },
    {
     "data": {
      "text/html": [
       " View run <strong style=\"color:#cdcd00\">silvery-sweep-5</strong> at: <a href='https://wandb.ai/citius-irlab/test_project/runs/za54vh64' target=\"_blank\">https://wandb.ai/citius-irlab/test_project/runs/za54vh64</a><br> View project at: <a href='https://wandb.ai/citius-irlab/test_project' target=\"_blank\">https://wandb.ai/citius-irlab/test_project</a><br>Synced 5 W&B file(s), 0 media file(s), 0 artifact file(s) and 0 other file(s)"
      ],
      "text/plain": [
       "<IPython.core.display.HTML object>"
      ]
     },
     "metadata": {},
     "output_type": "display_data"
    },
    {
     "data": {
      "text/html": [
       "Find logs at: <code>./wandb/run-20250416_170929-za54vh64/logs</code>"
      ],
      "text/plain": [
       "<IPython.core.display.HTML object>"
      ]
     },
     "metadata": {},
     "output_type": "display_data"
    },
    {
     "name": "stderr",
     "output_type": "stream",
     "text": [
      "\u001b[34m\u001b[1mwandb\u001b[0m: Sweep Agent: Waiting for job.\n",
      "\u001b[34m\u001b[1mwandb\u001b[0m: Sweep Agent: Exiting.\n",
      "\u001b[34m\u001b[1mwandb\u001b[0m: Sorting runs by -summary_metrics.F1\n"
     ]
    },
    {
     "data": {
      "text/html": [
       "<pre style=\"white-space:pre;overflow-x:auto;line-height:normal;font-family:Menlo,'DejaVu Sans Mono',consolas,'Courier New',monospace\"><span style=\"font-weight: bold\">{</span>\n",
       "    <span style=\"color: #008000; text-decoration-color: #008000\">'filters'</span>: <span style=\"font-weight: bold\">{</span><span style=\"color: #008000; text-decoration-color: #008000\">'KnnFilter'</span>: <span style=\"font-weight: bold\">{</span><span style=\"color: #008000; text-decoration-color: #008000\">'n_neighbors'</span>: <span style=\"color: #008080; text-decoration-color: #008080; font-weight: bold\">4</span><span style=\"font-weight: bold\">}}</span>,\n",
       "    <span style=\"color: #008000; text-decoration-color: #008000\">'pipeline'</span>: <span style=\"font-weight: bold\">{</span>\n",
       "        <span style=\"color: #008000; text-decoration-color: #008000\">'clazz'</span>: <span style=\"color: #008000; text-decoration-color: #008000\">'KFoldSplitter'</span>,\n",
       "        <span style=\"color: #008000; text-decoration-color: #008000\">'params'</span>: <span style=\"font-weight: bold\">{</span>\n",
       "            <span style=\"color: #008000; text-decoration-color: #008000\">'shuffle'</span>: <span style=\"color: #00ff00; text-decoration-color: #00ff00; font-style: italic\">True</span>,\n",
       "            <span style=\"color: #008000; text-decoration-color: #008000\">'n_splits'</span>: <span style=\"color: #008080; text-decoration-color: #008080; font-weight: bold\">2</span>,\n",
       "            <span style=\"color: #008000; text-decoration-color: #008000\">'pipeline'</span>: <span style=\"font-weight: bold\">{</span>\n",
       "                <span style=\"color: #008000; text-decoration-color: #008000\">'clazz'</span>: <span style=\"color: #008000; text-decoration-color: #008000\">'F3Pipeline'</span>,\n",
       "                <span style=\"color: #008000; text-decoration-color: #008000\">'params'</span>: <span style=\"font-weight: bold\">{</span>\n",
       "                    <span style=\"color: #008000; text-decoration-color: #008000\">'log'</span>: <span style=\"color: #ff0000; text-decoration-color: #ff0000; font-style: italic\">False</span>,\n",
       "                    <span style=\"color: #008000; text-decoration-color: #008000\">'store'</span>: <span style=\"color: #ff0000; text-decoration-color: #ff0000; font-style: italic\">False</span>,\n",
       "                    <span style=\"color: #008000; text-decoration-color: #008000\">'filters'</span>: <span style=\"font-weight: bold\">[</span>\n",
       "                        <span style=\"font-weight: bold\">{</span><span style=\"color: #008000; text-decoration-color: #008000\">'clazz'</span>: <span style=\"color: #008000; text-decoration-color: #008000\">'StandardScalerPlugin'</span>, <span style=\"color: #008000; text-decoration-color: #008000\">'params'</span>: <span style=\"font-weight: bold\">{}}</span>,\n",
       "                        <span style=\"font-weight: bold\">{</span>\n",
       "                            <span style=\"color: #008000; text-decoration-color: #008000\">'_grid'</span>: <span style=\"font-weight: bold\">{</span><span style=\"color: #008000; text-decoration-color: #008000\">'n_neighbors'</span>: <span style=\"font-weight: bold\">[</span><span style=\"color: #008080; text-decoration-color: #008080; font-weight: bold\">2</span>, <span style=\"color: #008080; text-decoration-color: #008080; font-weight: bold\">3</span>, <span style=\"color: #008080; text-decoration-color: #008080; font-weight: bold\">4</span>, <span style=\"color: #008080; text-decoration-color: #008080; font-weight: bold\">5</span>, <span style=\"color: #008080; text-decoration-color: #008080; font-weight: bold\">6</span><span style=\"font-weight: bold\">]}</span>,\n",
       "                            <span style=\"color: #008000; text-decoration-color: #008000\">'clazz'</span>: <span style=\"color: #008000; text-decoration-color: #008000\">'KnnFilter'</span>,\n",
       "                            <span style=\"color: #008000; text-decoration-color: #008000\">'params'</span>: <span style=\"font-weight: bold\">{</span>\n",
       "                                <span style=\"color: #008000; text-decoration-color: #008000\">'p'</span>: <span style=\"color: #008080; text-decoration-color: #008080; font-weight: bold\">2</span>,\n",
       "                                <span style=\"color: #008000; text-decoration-color: #008000\">'metric'</span>: <span style=\"color: #008000; text-decoration-color: #008000\">'minkowski'</span>,\n",
       "                                <span style=\"color: #008000; text-decoration-color: #008000\">'n_jobs'</span>: <span style=\"color: #800080; text-decoration-color: #800080; font-style: italic\">None</span>,\n",
       "                                <span style=\"color: #008000; text-decoration-color: #008000\">'weights'</span>: <span style=\"color: #008000; text-decoration-color: #008000\">'uniform'</span>,\n",
       "                                <span style=\"color: #008000; text-decoration-color: #008000\">'algorithm'</span>: <span style=\"color: #008000; text-decoration-color: #008000\">'auto'</span>,\n",
       "                                <span style=\"color: #008000; text-decoration-color: #008000\">'leaf_size'</span>: <span style=\"color: #008080; text-decoration-color: #008080; font-weight: bold\">30</span>,\n",
       "                                <span style=\"color: #008000; text-decoration-color: #008000\">'n_neighbors'</span>: <span style=\"font-weight: bold\">[</span><span style=\"color: #008080; text-decoration-color: #008080; font-weight: bold\">2</span>, <span style=\"color: #008080; text-decoration-color: #008080; font-weight: bold\">3</span>, <span style=\"color: #008080; text-decoration-color: #008080; font-weight: bold\">4</span>, <span style=\"color: #008080; text-decoration-color: #008080; font-weight: bold\">5</span>, <span style=\"color: #008080; text-decoration-color: #008080; font-weight: bold\">6</span><span style=\"font-weight: bold\">]</span>,\n",
       "                                <span style=\"color: #008000; text-decoration-color: #008000\">'metric_params'</span>: <span style=\"color: #800080; text-decoration-color: #800080; font-style: italic\">None</span>\n",
       "                            <span style=\"font-weight: bold\">}</span>\n",
       "                        <span style=\"font-weight: bold\">}</span>\n",
       "                    <span style=\"font-weight: bold\">]</span>,\n",
       "                    <span style=\"color: #008000; text-decoration-color: #008000\">'metrics'</span>: <span style=\"font-weight: bold\">[</span>\n",
       "                        <span style=\"font-weight: bold\">{</span><span style=\"color: #008000; text-decoration-color: #008000\">'clazz'</span>: <span style=\"color: #008000; text-decoration-color: #008000\">'F1'</span>, <span style=\"color: #008000; text-decoration-color: #008000\">'params'</span>: <span style=\"font-weight: bold\">{</span><span style=\"color: #008000; text-decoration-color: #008000\">'average'</span>: <span style=\"color: #008000; text-decoration-color: #008000\">'weighted'</span><span style=\"font-weight: bold\">}}</span>,\n",
       "                        <span style=\"font-weight: bold\">{</span><span style=\"color: #008000; text-decoration-color: #008000\">'clazz'</span>: <span style=\"color: #008000; text-decoration-color: #008000\">'Precission'</span>, <span style=\"color: #008000; text-decoration-color: #008000\">'params'</span>: <span style=\"font-weight: bold\">{</span><span style=\"color: #008000; text-decoration-color: #008000\">'average'</span>: <span style=\"color: #008000; text-decoration-color: #008000\">'weighted'</span><span style=\"font-weight: bold\">}}</span>,\n",
       "                        <span style=\"font-weight: bold\">{</span><span style=\"color: #008000; text-decoration-color: #008000\">'clazz'</span>: <span style=\"color: #008000; text-decoration-color: #008000\">'Recall'</span>, <span style=\"color: #008000; text-decoration-color: #008000\">'params'</span>: <span style=\"font-weight: bold\">{</span><span style=\"color: #008000; text-decoration-color: #008000\">'average'</span>: <span style=\"color: #008000; text-decoration-color: #008000\">'weighted'</span><span style=\"font-weight: bold\">}}</span>\n",
       "                    <span style=\"font-weight: bold\">]</span>,\n",
       "                    <span style=\"color: #008000; text-decoration-color: #008000\">'overwrite'</span>: <span style=\"color: #ff0000; text-decoration-color: #ff0000; font-style: italic\">False</span>\n",
       "                <span style=\"font-weight: bold\">}</span>\n",
       "            <span style=\"font-weight: bold\">}</span>,\n",
       "            <span style=\"color: #008000; text-decoration-color: #008000\">'random_state'</span>: <span style=\"color: #008080; text-decoration-color: #008080; font-weight: bold\">42</span>\n",
       "        <span style=\"font-weight: bold\">}</span>\n",
       "    <span style=\"font-weight: bold\">}</span>,\n",
       "    <span style=\"color: #008000; text-decoration-color: #008000\">'x_dataset'</span>: <span style=\"color: #008000; text-decoration-color: #008000\">'Iris X train data'</span>,\n",
       "    <span style=\"color: #008000; text-decoration-color: #008000\">'y_dataset'</span>: <span style=\"color: #008000; text-decoration-color: #008000\">'Iris y train data'</span>\n",
       "<span style=\"font-weight: bold\">}</span>\n",
       "</pre>\n"
      ],
      "text/plain": [
       "\u001b[1m{\u001b[0m\n",
       "    \u001b[32m'filters'\u001b[0m: \u001b[1m{\u001b[0m\u001b[32m'KnnFilter'\u001b[0m: \u001b[1m{\u001b[0m\u001b[32m'n_neighbors'\u001b[0m: \u001b[1;36m4\u001b[0m\u001b[1m}\u001b[0m\u001b[1m}\u001b[0m,\n",
       "    \u001b[32m'pipeline'\u001b[0m: \u001b[1m{\u001b[0m\n",
       "        \u001b[32m'clazz'\u001b[0m: \u001b[32m'KFoldSplitter'\u001b[0m,\n",
       "        \u001b[32m'params'\u001b[0m: \u001b[1m{\u001b[0m\n",
       "            \u001b[32m'shuffle'\u001b[0m: \u001b[3;92mTrue\u001b[0m,\n",
       "            \u001b[32m'n_splits'\u001b[0m: \u001b[1;36m2\u001b[0m,\n",
       "            \u001b[32m'pipeline'\u001b[0m: \u001b[1m{\u001b[0m\n",
       "                \u001b[32m'clazz'\u001b[0m: \u001b[32m'F3Pipeline'\u001b[0m,\n",
       "                \u001b[32m'params'\u001b[0m: \u001b[1m{\u001b[0m\n",
       "                    \u001b[32m'log'\u001b[0m: \u001b[3;91mFalse\u001b[0m,\n",
       "                    \u001b[32m'store'\u001b[0m: \u001b[3;91mFalse\u001b[0m,\n",
       "                    \u001b[32m'filters'\u001b[0m: \u001b[1m[\u001b[0m\n",
       "                        \u001b[1m{\u001b[0m\u001b[32m'clazz'\u001b[0m: \u001b[32m'StandardScalerPlugin'\u001b[0m, \u001b[32m'params'\u001b[0m: \u001b[1m{\u001b[0m\u001b[1m}\u001b[0m\u001b[1m}\u001b[0m,\n",
       "                        \u001b[1m{\u001b[0m\n",
       "                            \u001b[32m'_grid'\u001b[0m: \u001b[1m{\u001b[0m\u001b[32m'n_neighbors'\u001b[0m: \u001b[1m[\u001b[0m\u001b[1;36m2\u001b[0m, \u001b[1;36m3\u001b[0m, \u001b[1;36m4\u001b[0m, \u001b[1;36m5\u001b[0m, \u001b[1;36m6\u001b[0m\u001b[1m]\u001b[0m\u001b[1m}\u001b[0m,\n",
       "                            \u001b[32m'clazz'\u001b[0m: \u001b[32m'KnnFilter'\u001b[0m,\n",
       "                            \u001b[32m'params'\u001b[0m: \u001b[1m{\u001b[0m\n",
       "                                \u001b[32m'p'\u001b[0m: \u001b[1;36m2\u001b[0m,\n",
       "                                \u001b[32m'metric'\u001b[0m: \u001b[32m'minkowski'\u001b[0m,\n",
       "                                \u001b[32m'n_jobs'\u001b[0m: \u001b[3;35mNone\u001b[0m,\n",
       "                                \u001b[32m'weights'\u001b[0m: \u001b[32m'uniform'\u001b[0m,\n",
       "                                \u001b[32m'algorithm'\u001b[0m: \u001b[32m'auto'\u001b[0m,\n",
       "                                \u001b[32m'leaf_size'\u001b[0m: \u001b[1;36m30\u001b[0m,\n",
       "                                \u001b[32m'n_neighbors'\u001b[0m: \u001b[1m[\u001b[0m\u001b[1;36m2\u001b[0m, \u001b[1;36m3\u001b[0m, \u001b[1;36m4\u001b[0m, \u001b[1;36m5\u001b[0m, \u001b[1;36m6\u001b[0m\u001b[1m]\u001b[0m,\n",
       "                                \u001b[32m'metric_params'\u001b[0m: \u001b[3;35mNone\u001b[0m\n",
       "                            \u001b[1m}\u001b[0m\n",
       "                        \u001b[1m}\u001b[0m\n",
       "                    \u001b[1m]\u001b[0m,\n",
       "                    \u001b[32m'metrics'\u001b[0m: \u001b[1m[\u001b[0m\n",
       "                        \u001b[1m{\u001b[0m\u001b[32m'clazz'\u001b[0m: \u001b[32m'F1'\u001b[0m, \u001b[32m'params'\u001b[0m: \u001b[1m{\u001b[0m\u001b[32m'average'\u001b[0m: \u001b[32m'weighted'\u001b[0m\u001b[1m}\u001b[0m\u001b[1m}\u001b[0m,\n",
       "                        \u001b[1m{\u001b[0m\u001b[32m'clazz'\u001b[0m: \u001b[32m'Precission'\u001b[0m, \u001b[32m'params'\u001b[0m: \u001b[1m{\u001b[0m\u001b[32m'average'\u001b[0m: \u001b[32m'weighted'\u001b[0m\u001b[1m}\u001b[0m\u001b[1m}\u001b[0m,\n",
       "                        \u001b[1m{\u001b[0m\u001b[32m'clazz'\u001b[0m: \u001b[32m'Recall'\u001b[0m, \u001b[32m'params'\u001b[0m: \u001b[1m{\u001b[0m\u001b[32m'average'\u001b[0m: \u001b[32m'weighted'\u001b[0m\u001b[1m}\u001b[0m\u001b[1m}\u001b[0m\n",
       "                    \u001b[1m]\u001b[0m,\n",
       "                    \u001b[32m'overwrite'\u001b[0m: \u001b[3;91mFalse\u001b[0m\n",
       "                \u001b[1m}\u001b[0m\n",
       "            \u001b[1m}\u001b[0m,\n",
       "            \u001b[32m'random_state'\u001b[0m: \u001b[1;36m42\u001b[0m\n",
       "        \u001b[1m}\u001b[0m\n",
       "    \u001b[1m}\u001b[0m,\n",
       "    \u001b[32m'x_dataset'\u001b[0m: \u001b[32m'Iris X train data'\u001b[0m,\n",
       "    \u001b[32m'y_dataset'\u001b[0m: \u001b[32m'Iris y train data'\u001b[0m\n",
       "\u001b[1m}\u001b[0m\n"
      ]
     },
     "metadata": {},
     "output_type": "display_data"
    },
    {
     "data": {
      "text/html": [
       "<pre style=\"white-space:pre;overflow-x:auto;line-height:normal;font-family:Menlo,'DejaVu Sans Mono',consolas,'Courier New',monospace\">____________________________________________________________________________________________________\n",
       "Fitting pipeline<span style=\"color: #808000; text-decoration-color: #808000\">...</span>\n",
       "****************************************************************************************************\n",
       "</pre>\n"
      ],
      "text/plain": [
       "____________________________________________________________________________________________________\n",
       "Fitting pipeline\u001b[33m...\u001b[0m\n",
       "****************************************************************************************************\n"
      ]
     },
     "metadata": {},
     "output_type": "display_data"
    },
    {
     "data": {
      "text/html": [
       "<pre style=\"white-space:pre;overflow-x:auto;line-height:normal;font-family:Menlo,'DejaVu Sans Mono',consolas,'Courier New',monospace\">        *<span style=\"color: #800080; text-decoration-color: #800080; font-weight: bold\">StandardScalerPlugin</span><span style=\"font-weight: bold\">({})</span>\n",
       "</pre>\n"
      ],
      "text/plain": [
       "        *\u001b[1;35mStandardScalerPlugin\u001b[0m\u001b[1m(\u001b[0m\u001b[1m{\u001b[0m\u001b[1m}\u001b[0m\u001b[1m)\u001b[0m\n"
      ]
     },
     "metadata": {},
     "output_type": "display_data"
    },
    {
     "data": {
      "text/html": [
       "<pre style=\"white-space:pre;overflow-x:auto;line-height:normal;font-family:Menlo,'DejaVu Sans Mono',consolas,'Courier New',monospace\">        *<span style=\"color: #800080; text-decoration-color: #800080; font-weight: bold\">KnnFilter</span><span style=\"font-weight: bold\">({</span><span style=\"color: #008000; text-decoration-color: #008000\">'n_neighbors'</span>: <span style=\"color: #008080; text-decoration-color: #008080; font-weight: bold\">4</span>, <span style=\"color: #008000; text-decoration-color: #008000\">'weights'</span>: <span style=\"color: #008000; text-decoration-color: #008000\">'uniform'</span>, <span style=\"color: #008000; text-decoration-color: #008000\">'algorithm'</span>: <span style=\"color: #008000; text-decoration-color: #008000\">'auto'</span>, <span style=\"color: #008000; text-decoration-color: #008000\">'leaf_size'</span>: <span style=\"color: #008080; text-decoration-color: #008080; font-weight: bold\">30</span>, <span style=\"color: #008000; text-decoration-color: #008000\">'p'</span>: <span style=\"color: #008080; text-decoration-color: #008080; font-weight: bold\">2</span>, <span style=\"color: #008000; text-decoration-color: #008000\">'metric'</span>:\n",
       "<span style=\"color: #008000; text-decoration-color: #008000\">'minkowski'</span>, <span style=\"color: #008000; text-decoration-color: #008000\">'metric_params'</span>: <span style=\"color: #800080; text-decoration-color: #800080; font-style: italic\">None</span>, <span style=\"color: #008000; text-decoration-color: #008000\">'n_jobs'</span>: <span style=\"color: #800080; text-decoration-color: #800080; font-style: italic\">None</span><span style=\"font-weight: bold\">})</span>\n",
       "</pre>\n"
      ],
      "text/plain": [
       "        *\u001b[1;35mKnnFilter\u001b[0m\u001b[1m(\u001b[0m\u001b[1m{\u001b[0m\u001b[32m'n_neighbors'\u001b[0m: \u001b[1;36m4\u001b[0m, \u001b[32m'weights'\u001b[0m: \u001b[32m'uniform'\u001b[0m, \u001b[32m'algorithm'\u001b[0m: \u001b[32m'auto'\u001b[0m, \u001b[32m'leaf_size'\u001b[0m: \u001b[1;36m30\u001b[0m, \u001b[32m'p'\u001b[0m: \u001b[1;36m2\u001b[0m, \u001b[32m'metric'\u001b[0m:\n",
       "\u001b[32m'minkowski'\u001b[0m, \u001b[32m'metric_params'\u001b[0m: \u001b[3;35mNone\u001b[0m, \u001b[32m'n_jobs'\u001b[0m: \u001b[3;35mNone\u001b[0m\u001b[1m}\u001b[0m\u001b[1m)\u001b[0m\n"
      ]
     },
     "metadata": {},
     "output_type": "display_data"
    },
    {
     "data": {
      "text/html": [
       "<pre style=\"white-space:pre;overflow-x:auto;line-height:normal;font-family:Menlo,'DejaVu Sans Mono',consolas,'Courier New',monospace\">____________________________________________________________________________________________________\n",
       "Predicting with KFold Splitter<span style=\"color: #808000; text-decoration-color: #808000\">......</span>\n",
       "****************************************************************************************************\n",
       "</pre>\n"
      ],
      "text/plain": [
       "____________________________________________________________________________________________________\n",
       "Predicting with KFold Splitter\u001b[33m...\u001b[0m\u001b[33m...\u001b[0m\n",
       "****************************************************************************************************\n"
      ]
     },
     "metadata": {},
     "output_type": "display_data"
    },
    {
     "data": {
      "text/html": [
       "<pre style=\"white-space:pre;overflow-x:auto;line-height:normal;font-family:Menlo,'DejaVu Sans Mono',consolas,'Courier New',monospace\"><span style=\"color: #800080; text-decoration-color: #800080; font-weight: bold\">F3Pipeline</span><span style=\"font-weight: bold\">(</span>\n",
       "    <span style=\"color: #808000; text-decoration-color: #808000\">filters</span>=<span style=\"font-weight: bold\">[</span>\n",
       "        <span style=\"color: #800080; text-decoration-color: #800080; font-weight: bold\">StandardScalerPlugin</span><span style=\"font-weight: bold\">()</span>,\n",
       "        <span style=\"color: #800080; text-decoration-color: #800080; font-weight: bold\">KnnFilter</span><span style=\"font-weight: bold\">(</span>\n",
       "            <span style=\"color: #808000; text-decoration-color: #808000\">n_neighbors</span>=<span style=\"color: #008080; text-decoration-color: #008080; font-weight: bold\">4</span>,\n",
       "            <span style=\"color: #808000; text-decoration-color: #808000\">weights</span>=<span style=\"color: #008000; text-decoration-color: #008000\">'uniform'</span>,\n",
       "            <span style=\"color: #808000; text-decoration-color: #808000\">algorithm</span>=<span style=\"color: #008000; text-decoration-color: #008000\">'auto'</span>,\n",
       "            <span style=\"color: #808000; text-decoration-color: #808000\">leaf_size</span>=<span style=\"color: #008080; text-decoration-color: #008080; font-weight: bold\">30</span>,\n",
       "            <span style=\"color: #808000; text-decoration-color: #808000\">p</span>=<span style=\"color: #008080; text-decoration-color: #008080; font-weight: bold\">2</span>,\n",
       "            <span style=\"color: #808000; text-decoration-color: #808000\">metric</span>=<span style=\"color: #008000; text-decoration-color: #008000\">'minkowski'</span>,\n",
       "            <span style=\"color: #808000; text-decoration-color: #808000\">metric_params</span>=<span style=\"color: #800080; text-decoration-color: #800080; font-style: italic\">None</span>,\n",
       "            <span style=\"color: #808000; text-decoration-color: #808000\">n_jobs</span>=<span style=\"color: #800080; text-decoration-color: #800080; font-style: italic\">None</span>\n",
       "        <span style=\"font-weight: bold\">)</span>\n",
       "    <span style=\"font-weight: bold\">]</span>,\n",
       "    <span style=\"color: #808000; text-decoration-color: #808000\">metrics</span>=<span style=\"font-weight: bold\">[</span><span style=\"color: #800080; text-decoration-color: #800080; font-weight: bold\">F1</span><span style=\"font-weight: bold\">(</span><span style=\"color: #808000; text-decoration-color: #808000\">average</span>=<span style=\"color: #008000; text-decoration-color: #008000\">'weighted'</span><span style=\"font-weight: bold\">)</span>, <span style=\"color: #800080; text-decoration-color: #800080; font-weight: bold\">Precission</span><span style=\"font-weight: bold\">(</span><span style=\"color: #808000; text-decoration-color: #808000\">average</span>=<span style=\"color: #008000; text-decoration-color: #008000\">'weighted'</span><span style=\"font-weight: bold\">)</span>, <span style=\"color: #800080; text-decoration-color: #800080; font-weight: bold\">Recall</span><span style=\"font-weight: bold\">(</span><span style=\"color: #808000; text-decoration-color: #808000\">average</span>=<span style=\"color: #008000; text-decoration-color: #008000\">'weighted'</span><span style=\"font-weight: bold\">)]</span>,\n",
       "    <span style=\"color: #808000; text-decoration-color: #808000\">overwrite</span>=<span style=\"color: #ff0000; text-decoration-color: #ff0000; font-style: italic\">False</span>,\n",
       "    <span style=\"color: #808000; text-decoration-color: #808000\">store</span>=<span style=\"color: #ff0000; text-decoration-color: #ff0000; font-style: italic\">False</span>,\n",
       "    <span style=\"color: #808000; text-decoration-color: #808000\">log</span>=<span style=\"color: #ff0000; text-decoration-color: #ff0000; font-style: italic\">False</span>\n",
       "<span style=\"font-weight: bold\">)</span>\n",
       "</pre>\n"
      ],
      "text/plain": [
       "\u001b[1;35mF3Pipeline\u001b[0m\u001b[1m(\u001b[0m\n",
       "    \u001b[33mfilters\u001b[0m=\u001b[1m[\u001b[0m\n",
       "        \u001b[1;35mStandardScalerPlugin\u001b[0m\u001b[1m(\u001b[0m\u001b[1m)\u001b[0m,\n",
       "        \u001b[1;35mKnnFilter\u001b[0m\u001b[1m(\u001b[0m\n",
       "            \u001b[33mn_neighbors\u001b[0m=\u001b[1;36m4\u001b[0m,\n",
       "            \u001b[33mweights\u001b[0m=\u001b[32m'uniform'\u001b[0m,\n",
       "            \u001b[33malgorithm\u001b[0m=\u001b[32m'auto'\u001b[0m,\n",
       "            \u001b[33mleaf_size\u001b[0m=\u001b[1;36m30\u001b[0m,\n",
       "            \u001b[33mp\u001b[0m=\u001b[1;36m2\u001b[0m,\n",
       "            \u001b[33mmetric\u001b[0m=\u001b[32m'minkowski'\u001b[0m,\n",
       "            \u001b[33mmetric_params\u001b[0m=\u001b[3;35mNone\u001b[0m,\n",
       "            \u001b[33mn_jobs\u001b[0m=\u001b[3;35mNone\u001b[0m\n",
       "        \u001b[1m)\u001b[0m\n",
       "    \u001b[1m]\u001b[0m,\n",
       "    \u001b[33mmetrics\u001b[0m=\u001b[1m[\u001b[0m\u001b[1;35mF1\u001b[0m\u001b[1m(\u001b[0m\u001b[33maverage\u001b[0m=\u001b[32m'weighted'\u001b[0m\u001b[1m)\u001b[0m, \u001b[1;35mPrecission\u001b[0m\u001b[1m(\u001b[0m\u001b[33maverage\u001b[0m=\u001b[32m'weighted'\u001b[0m\u001b[1m)\u001b[0m, \u001b[1;35mRecall\u001b[0m\u001b[1m(\u001b[0m\u001b[33maverage\u001b[0m=\u001b[32m'weighted'\u001b[0m\u001b[1m)\u001b[0m\u001b[1m]\u001b[0m,\n",
       "    \u001b[33moverwrite\u001b[0m=\u001b[3;91mFalse\u001b[0m,\n",
       "    \u001b[33mstore\u001b[0m=\u001b[3;91mFalse\u001b[0m,\n",
       "    \u001b[33mlog\u001b[0m=\u001b[3;91mFalse\u001b[0m\n",
       "\u001b[1m)\u001b[0m\n"
      ]
     },
     "metadata": {},
     "output_type": "display_data"
    },
    {
     "data": {
      "text/html": [
       "<pre style=\"white-space:pre;overflow-x:auto;line-height:normal;font-family:Menlo,'DejaVu Sans Mono',consolas,'Courier New',monospace\">____________________________________________________________________________________________________\n",
       "Predicting pipeline<span style=\"color: #808000; text-decoration-color: #808000\">...</span>\n",
       "****************************************************************************************************\n",
       "</pre>\n"
      ],
      "text/plain": [
       "____________________________________________________________________________________________________\n",
       "Predicting pipeline\u001b[33m...\u001b[0m\n",
       "****************************************************************************************************\n"
      ]
     },
     "metadata": {},
     "output_type": "display_data"
    },
    {
     "data": {
      "text/html": [
       "<pre style=\"white-space:pre;overflow-x:auto;line-height:normal;font-family:Menlo,'DejaVu Sans Mono',consolas,'Courier New',monospace\">        *<span style=\"color: #800080; text-decoration-color: #800080; font-weight: bold\">StandardScalerPlugin</span><span style=\"font-weight: bold\">({})</span>\n",
       "</pre>\n"
      ],
      "text/plain": [
       "        *\u001b[1;35mStandardScalerPlugin\u001b[0m\u001b[1m(\u001b[0m\u001b[1m{\u001b[0m\u001b[1m}\u001b[0m\u001b[1m)\u001b[0m\n"
      ]
     },
     "metadata": {},
     "output_type": "display_data"
    },
    {
     "data": {
      "text/html": [
       "<pre style=\"white-space:pre;overflow-x:auto;line-height:normal;font-family:Menlo,'DejaVu Sans Mono',consolas,'Courier New',monospace\">        *<span style=\"color: #800080; text-decoration-color: #800080; font-weight: bold\">KnnFilter</span><span style=\"font-weight: bold\">({</span><span style=\"color: #008000; text-decoration-color: #008000\">'n_neighbors'</span>: <span style=\"color: #008080; text-decoration-color: #008080; font-weight: bold\">4</span>, <span style=\"color: #008000; text-decoration-color: #008000\">'weights'</span>: <span style=\"color: #008000; text-decoration-color: #008000\">'uniform'</span>, <span style=\"color: #008000; text-decoration-color: #008000\">'algorithm'</span>: <span style=\"color: #008000; text-decoration-color: #008000\">'auto'</span>, <span style=\"color: #008000; text-decoration-color: #008000\">'leaf_size'</span>: <span style=\"color: #008080; text-decoration-color: #008080; font-weight: bold\">30</span>, <span style=\"color: #008000; text-decoration-color: #008000\">'p'</span>: <span style=\"color: #008080; text-decoration-color: #008080; font-weight: bold\">2</span>, <span style=\"color: #008000; text-decoration-color: #008000\">'metric'</span>:\n",
       "<span style=\"color: #008000; text-decoration-color: #008000\">'minkowski'</span>, <span style=\"color: #008000; text-decoration-color: #008000\">'metric_params'</span>: <span style=\"color: #800080; text-decoration-color: #800080; font-style: italic\">None</span>, <span style=\"color: #008000; text-decoration-color: #008000\">'n_jobs'</span>: <span style=\"color: #800080; text-decoration-color: #800080; font-style: italic\">None</span><span style=\"font-weight: bold\">})</span>\n",
       "</pre>\n"
      ],
      "text/plain": [
       "        *\u001b[1;35mKnnFilter\u001b[0m\u001b[1m(\u001b[0m\u001b[1m{\u001b[0m\u001b[32m'n_neighbors'\u001b[0m: \u001b[1;36m4\u001b[0m, \u001b[32m'weights'\u001b[0m: \u001b[32m'uniform'\u001b[0m, \u001b[32m'algorithm'\u001b[0m: \u001b[32m'auto'\u001b[0m, \u001b[32m'leaf_size'\u001b[0m: \u001b[1;36m30\u001b[0m, \u001b[32m'p'\u001b[0m: \u001b[1;36m2\u001b[0m, \u001b[32m'metric'\u001b[0m:\n",
       "\u001b[32m'minkowski'\u001b[0m, \u001b[32m'metric_params'\u001b[0m: \u001b[3;35mNone\u001b[0m, \u001b[32m'n_jobs'\u001b[0m: \u001b[3;35mNone\u001b[0m\u001b[1m}\u001b[0m\u001b[1m)\u001b[0m\n"
      ]
     },
     "metadata": {},
     "output_type": "display_data"
    }
   ],
   "source": [
    "wandb_pipeline.fit(X_train, y_train)\n",
    "_y = wandb_pipeline.predict(x=X_test)"
   ]
  },
  {
   "cell_type": "code",
   "execution_count": 6,
   "id": "7eea90ca",
   "metadata": {},
   "outputs": [
    {
     "data": {
      "text/html": [
       "<pre style=\"white-space:pre;overflow-x:auto;line-height:normal;font-family:Menlo,'DejaVu Sans Mono',consolas,'Courier New',monospace\">____________________________________________________________________________________________________\n",
       "Evaluating pipeline<span style=\"color: #808000; text-decoration-color: #808000\">......</span>\n",
       "****************************************************************************************************\n",
       "</pre>\n"
      ],
      "text/plain": [
       "____________________________________________________________________________________________________\n",
       "Evaluating pipeline\u001b[33m...\u001b[0m\u001b[33m...\u001b[0m\n",
       "****************************************************************************************************\n"
      ]
     },
     "metadata": {},
     "output_type": "display_data"
    },
    {
     "data": {
      "text/plain": [
       "{'F1': 1.0, 'Precission': 1.0, 'Recall': 1.0}"
      ]
     },
     "execution_count": 6,
     "metadata": {},
     "output_type": "execute_result"
    }
   ],
   "source": [
    "wandb_pipeline.evaluate(X_test, y_test, _y)"
   ]
  },
  {
   "cell_type": "markdown",
   "id": "19629af1",
   "metadata": {},
   "source": [
    "### Wandb dashboard"
   ]
  },
  {
   "cell_type": "markdown",
   "id": "e3189796",
   "metadata": {},
   "source": [
    "![Wandb Dashboard](img/wandb_sweep.png)"
   ]
  },
  {
   "cell_type": "markdown",
   "id": "8fa35be1",
   "metadata": {},
   "source": [
    "Similar to Optuna, we can analyze the influence of each parameter on the selected metric. However, unlike Optuna, WandB offers a paid version with additional and more advanced features."
   ]
  }
 ],
 "metadata": {
  "kernelspec": {
   "display_name": "venv",
   "language": "python",
   "name": "python3"
  },
  "language_info": {
   "codemirror_mode": {
    "name": "ipython",
    "version": 3
   },
   "file_extension": ".py",
   "mimetype": "text/x-python",
   "name": "python",
   "nbconvert_exporter": "python",
   "pygments_lexer": "ipython3",
   "version": "3.11.5"
  }
 },
 "nbformat": 4,
 "nbformat_minor": 5
}
