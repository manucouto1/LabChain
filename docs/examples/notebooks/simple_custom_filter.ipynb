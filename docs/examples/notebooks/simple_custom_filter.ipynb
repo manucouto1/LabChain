{
 "cells": [
  {
   "cell_type": "markdown",
   "id": "04ac9444",
   "metadata": {},
   "source": [
    "# Basic Pipeline\n",
    "\n",
    "##  How to create custom filters for F3Pipeline"
   ]
  },
  {
   "cell_type": "code",
   "execution_count": 1,
   "id": "2cf2641b",
   "metadata": {},
   "outputs": [
    {
     "name": "stdout",
     "output_type": "stream",
     "text": [
      "✅ Patched inspect.getsource using dill.\n"
     ]
    }
   ],
   "source": [
    "from framework3.utils.patch_type_guard import patch_inspect_for_notebooks\n",
    "\n",
    "patch_inspect_for_notebooks()"
   ]
  },
  {
   "cell_type": "markdown",
   "id": "aa543eb2",
   "metadata": {},
   "source": [
    "First we import and prepare the data. We meed to use XYData class to track the data transformations in the pipeline. This let hash each data versión and provide caché captabilities."
   ]
  },
  {
   "cell_type": "code",
   "execution_count": 2,
   "id": "6b180d7c",
   "metadata": {},
   "outputs": [],
   "source": [
    "from framework3.base import XYData\n",
    "from sklearn import datasets\n",
    "\n",
    "# Load iris dataset and convert it to XYData format\n",
    "iris = datasets.load_iris()\n",
    "\n",
    "X = XYData(\n",
    "    _hash=\"Iris X data\",\n",
    "    _path=\"/datasets\",\n",
    "    _value=iris.data,  # type: ignore\n",
    ")\n",
    "y = XYData(\n",
    "    _hash=\"Iris y data\",\n",
    "    _path=\"/datasets\",\n",
    "    _value=iris.target,  # type: ignore\n",
    ")"
   ]
  },
  {
   "cell_type": "markdown",
   "id": "b85509f1",
   "metadata": {},
   "source": [
    "Now we can define our custom filter class."
   ]
  },
  {
   "cell_type": "code",
   "execution_count": 3,
   "id": "bff740c4",
   "metadata": {},
   "outputs": [],
   "source": [
    "from typing import Optional\n",
    "\n",
    "from sklearn.linear_model import LogisticRegression\n",
    "from framework3.base import BaseFilter, XYData\n",
    "from framework3 import Container\n",
    "\n",
    "\n",
    "@Container.bind()\n",
    "class CustomLogisticRegresion(BaseFilter):\n",
    "    def __init__(self, threshold: float = 0.5):\n",
    "        super().__init__()\n",
    "        self.threshold = threshold\n",
    "        # Non configuration attributes should be private\n",
    "        self._model = LogisticRegression()\n",
    "\n",
    "    def fit(self, x: XYData, y: Optional[XYData]) -> None:\n",
    "        X = x.value\n",
    "\n",
    "        if y is not None:\n",
    "            self._model.fit(X, y.value)\n",
    "        else:\n",
    "            raise ValueError(\"y must be provided for training\")\n",
    "\n",
    "    def predict(self, x: XYData) -> XYData:\n",
    "        X = x.value\n",
    "\n",
    "        probabilities = self._model.predict_proba(X)[:, 1]\n",
    "\n",
    "        predictions = (probabilities > self.threshold).astype(int)\n",
    "\n",
    "        # We have to wrap the output class with a Mock XYData object\n",
    "        # The framework will update the attributs with the new hash data.\n",
    "        return XYData.mock(predictions)"
   ]
  },
  {
   "cell_type": "markdown",
   "id": "37129775",
   "metadata": {},
   "source": [
    "Now we want to use this filter in our pipeline. We also will add a PCA filter and we will set several metrics: F1, Precision, and Recall."
   ]
  },
  {
   "cell_type": "code",
   "execution_count": 4,
   "id": "7c2121e7",
   "metadata": {},
   "outputs": [
    {
     "name": "stderr",
     "output_type": "stream",
     "text": [
      "/home/manuel.couto.pintos/Documents/code/framework3/framework3/base/base_clases.py:56: InstrumentationWarning: instrumentor did not find the target function -- not typechecking __main__.CustomLogisticRegresion.__init__\n",
      "  cls.__init__ = typechecked(init_method)\n",
      "/home/manuel.couto.pintos/Documents/code/framework3/framework3/base/base_clases.py:64: InstrumentationWarning: instrumentor did not find the target function -- not typechecking __main__.CustomLogisticRegresion.fit\n",
      "  setattr(cls, attr_name, typechecked(attr_value))\n",
      "/home/manuel.couto.pintos/Documents/code/framework3/framework3/base/base_clases.py:64: InstrumentationWarning: instrumentor did not find the target function -- not typechecking __main__.CustomLogisticRegresion.predict\n",
      "  setattr(cls, attr_name, typechecked(attr_value))\n"
     ]
    }
   ],
   "source": [
    "from framework3 import F1, F3Pipeline, Precission, Recall\n",
    "from framework3.plugins.filters import PCAPlugin\n",
    "\n",
    "pipeline = F3Pipeline(\n",
    "    filters=[PCAPlugin(n_components=2), CustomLogisticRegresion()],\n",
    "    metrics=[F1(), Precission(), Recall()],\n",
    ")"
   ]
  },
  {
   "cell_type": "markdown",
   "id": "b42e0253",
   "metadata": {},
   "source": [
    "Note that we have some warnings due to type hinting. These are due to a limitation of typecheker in jupyter notebooks. It'll will be fixed them in the next versions."
   ]
  },
  {
   "cell_type": "code",
   "execution_count": 5,
   "id": "5c67d881",
   "metadata": {},
   "outputs": [
    {
     "data": {
      "text/html": [
       "<pre style=\"white-space:pre;overflow-x:auto;line-height:normal;font-family:Menlo,'DejaVu Sans Mono',consolas,'Courier New',monospace\">____________________________________________________________________________________________________\n",
       "Fitting pipeline<span style=\"color: #808000; text-decoration-color: #808000\">...</span>\n",
       "****************************************************************************************************\n",
       "</pre>\n"
      ],
      "text/plain": [
       "____________________________________________________________________________________________________\n",
       "Fitting pipeline\u001b[33m...\u001b[0m\n",
       "****************************************************************************************************\n"
      ]
     },
     "metadata": {},
     "output_type": "display_data"
    },
    {
     "data": {
      "text/html": [
       "<pre style=\"white-space:pre;overflow-x:auto;line-height:normal;font-family:Menlo,'DejaVu Sans Mono',consolas,'Courier New',monospace\">        *<span style=\"color: #800080; text-decoration-color: #800080; font-weight: bold\">PCAPlugin</span><span style=\"font-weight: bold\">({</span><span style=\"color: #008000; text-decoration-color: #008000\">'n_components'</span>: <span style=\"color: #008080; text-decoration-color: #008080; font-weight: bold\">2</span><span style=\"font-weight: bold\">})</span>\n",
       "</pre>\n"
      ],
      "text/plain": [
       "        *\u001b[1;35mPCAPlugin\u001b[0m\u001b[1m(\u001b[0m\u001b[1m{\u001b[0m\u001b[32m'n_components'\u001b[0m: \u001b[1;36m2\u001b[0m\u001b[1m}\u001b[0m\u001b[1m)\u001b[0m\n"
      ]
     },
     "metadata": {},
     "output_type": "display_data"
    },
    {
     "data": {
      "text/html": [
       "<pre style=\"white-space:pre;overflow-x:auto;line-height:normal;font-family:Menlo,'DejaVu Sans Mono',consolas,'Courier New',monospace\">        *<span style=\"color: #800080; text-decoration-color: #800080; font-weight: bold\">CustomLogisticRegresion</span><span style=\"font-weight: bold\">({</span><span style=\"color: #008000; text-decoration-color: #008000\">'threshold'</span>: <span style=\"color: #008080; text-decoration-color: #008080; font-weight: bold\">0.5</span><span style=\"font-weight: bold\">})</span>\n",
       "</pre>\n"
      ],
      "text/plain": [
       "        *\u001b[1;35mCustomLogisticRegresion\u001b[0m\u001b[1m(\u001b[0m\u001b[1m{\u001b[0m\u001b[32m'threshold'\u001b[0m: \u001b[1;36m0.5\u001b[0m\u001b[1m}\u001b[0m\u001b[1m)\u001b[0m\n"
      ]
     },
     "metadata": {},
     "output_type": "display_data"
    },
    {
     "data": {
      "text/html": [
       "<pre style=\"white-space:pre;overflow-x:auto;line-height:normal;font-family:Menlo,'DejaVu Sans Mono',consolas,'Courier New',monospace\">____________________________________________________________________________________________________\n",
       "Predicting pipeline<span style=\"color: #808000; text-decoration-color: #808000\">...</span>\n",
       "****************************************************************************************************\n",
       "</pre>\n"
      ],
      "text/plain": [
       "____________________________________________________________________________________________________\n",
       "Predicting pipeline\u001b[33m...\u001b[0m\n",
       "****************************************************************************************************\n"
      ]
     },
     "metadata": {},
     "output_type": "display_data"
    },
    {
     "data": {
      "text/html": [
       "<pre style=\"white-space:pre;overflow-x:auto;line-height:normal;font-family:Menlo,'DejaVu Sans Mono',consolas,'Courier New',monospace\">        *<span style=\"color: #800080; text-decoration-color: #800080; font-weight: bold\">PCAPlugin</span><span style=\"font-weight: bold\">({</span><span style=\"color: #008000; text-decoration-color: #008000\">'n_components'</span>: <span style=\"color: #008080; text-decoration-color: #008080; font-weight: bold\">2</span><span style=\"font-weight: bold\">})</span>\n",
       "</pre>\n"
      ],
      "text/plain": [
       "        *\u001b[1;35mPCAPlugin\u001b[0m\u001b[1m(\u001b[0m\u001b[1m{\u001b[0m\u001b[32m'n_components'\u001b[0m: \u001b[1;36m2\u001b[0m\u001b[1m}\u001b[0m\u001b[1m)\u001b[0m\n"
      ]
     },
     "metadata": {},
     "output_type": "display_data"
    },
    {
     "data": {
      "text/html": [
       "<pre style=\"white-space:pre;overflow-x:auto;line-height:normal;font-family:Menlo,'DejaVu Sans Mono',consolas,'Courier New',monospace\">        *<span style=\"color: #800080; text-decoration-color: #800080; font-weight: bold\">CustomLogisticRegresion</span><span style=\"font-weight: bold\">({</span><span style=\"color: #008000; text-decoration-color: #008000\">'threshold'</span>: <span style=\"color: #008080; text-decoration-color: #008080; font-weight: bold\">0.5</span><span style=\"font-weight: bold\">})</span>\n",
       "</pre>\n"
      ],
      "text/plain": [
       "        *\u001b[1;35mCustomLogisticRegresion\u001b[0m\u001b[1m(\u001b[0m\u001b[1m{\u001b[0m\u001b[32m'threshold'\u001b[0m: \u001b[1;36m0.5\u001b[0m\u001b[1m}\u001b[0m\u001b[1m)\u001b[0m\n"
      ]
     },
     "metadata": {},
     "output_type": "display_data"
    },
    {
     "data": {
      "text/html": [
       "<pre style=\"white-space:pre;overflow-x:auto;line-height:normal;font-family:Menlo,'DejaVu Sans Mono',consolas,'Courier New',monospace\">____________________________________________________________________________________________________\n",
       "Evaluating pipeline<span style=\"color: #808000; text-decoration-color: #808000\">......</span>\n",
       "****************************************************************************************************\n",
       "</pre>\n"
      ],
      "text/plain": [
       "____________________________________________________________________________________________________\n",
       "Evaluating pipeline\u001b[33m...\u001b[0m\u001b[33m...\u001b[0m\n",
       "****************************************************************************************************\n"
      ]
     },
     "metadata": {},
     "output_type": "display_data"
    },
    {
     "data": {
      "text/plain": [
       "{'F1': 0.5372488683746962,\n",
       " 'Precission': 0.4847443928066276,\n",
       " 'Recall': 0.6466666666666666}"
      ]
     },
     "execution_count": 5,
     "metadata": {},
     "output_type": "execute_result"
    }
   ],
   "source": [
    "pipeline.fit(X, y)\n",
    "_y = pipeline.predict(X)\n",
    "pipeline.evaluate(X, y, _y)"
   ]
  },
  {
   "cell_type": "markdown",
   "id": "ce36b5c4",
   "metadata": {},
   "source": [
    "We can apreciate that results are not the best posible with this basic example, but it gives you a starting point. To get better results, you should tune the hyperparameters of your models, preprocess your data, and add more features."
   ]
  }
 ],
 "metadata": {
  "kernelspec": {
   "display_name": "venv",
   "language": "python",
   "name": "python3"
  },
  "language_info": {
   "codemirror_mode": {
    "name": "ipython",
    "version": 3
   },
   "file_extension": ".py",
   "mimetype": "text/x-python",
   "name": "python",
   "nbconvert_exporter": "python",
   "pygments_lexer": "ipython3",
   "version": "3.11.5"
  }
 },
 "nbformat": 4,
 "nbformat_minor": 5
}
