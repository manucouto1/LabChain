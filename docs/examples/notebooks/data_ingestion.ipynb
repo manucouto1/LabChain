{
 "cells": [
  {
   "cell_type": "markdown",
   "metadata": {},
   "source": [
    "# Data Ingestion\n",
    "\n",
    "## Store and retrieve data using the Container.ds storage backend"
   ]
  },
  {
   "cell_type": "markdown",
   "metadata": {},
   "source": [
    "In this tutorial, we'll learn how to use the Container.ds storage backend to store and retrieve data in Framework3."
   ]
  },
  {
   "cell_type": "code",
   "execution_count": 1,
   "metadata": {},
   "outputs": [
    {
     "name": "stdout",
     "output_type": "stream",
     "text": [
      "✅ Patched inspect.getsource using dill.\n"
     ]
    }
   ],
   "source": [
    "from framework3.utils.patch_type_guard import patch_inspect_for_notebooks\n",
    "\n",
    "patch_inspect_for_notebooks()"
   ]
  },
  {
   "cell_type": "code",
   "execution_count": 2,
   "metadata": {},
   "outputs": [],
   "source": [
    "# Import necessary libraries\n",
    "from framework3.container import Container\n",
    "\n",
    "import pandas as pd\n",
    "import numpy as np"
   ]
  },
  {
   "cell_type": "code",
   "execution_count": 3,
   "metadata": {},
   "outputs": [
    {
     "data": {
      "text/plain": [
       "True"
      ]
     },
     "execution_count": 3,
     "metadata": {},
     "output_type": "execute_result"
    }
   ],
   "source": [
    "from dotenv import load_dotenv\n",
    "from pathlib import Path\n",
    "import os\n",
    "\n",
    "env_path = Path(\"../../../.env\")\n",
    "load_dotenv(dotenv_path=env_path)"
   ]
  },
  {
   "cell_type": "markdown",
   "metadata": {},
   "source": [
    "## 1. Storing Data"
   ]
  },
  {
   "cell_type": "code",
   "execution_count": 4,
   "metadata": {},
   "outputs": [
    {
     "name": "stdout",
     "output_type": "stream",
     "text": [
      "\t * Saving in local path: cache/datasets/sample_data_local\n",
      "\t * Saved !\n",
      "Data stored successfully locally\n"
     ]
    }
   ],
   "source": [
    "# Create sample data\n",
    "df = pd.DataFrame(\n",
    "    {\n",
    "        \"A\": np.random.rand(100),\n",
    "        \"B\": np.random.randint(0, 100, 100),\n",
    "        \"C\": [\"cat\", \"dog\", \"bird\"] * 33 + [\"cat\"],\n",
    "    }\n",
    ")\n",
    "\n",
    "# Store the DataFrame\n",
    "Container.ds.save(\"sample_data_local\", df)\n",
    "print(\"Data stored successfully locally\")"
   ]
  },
  {
   "cell_type": "markdown",
   "metadata": {},
   "source": [
    "## 2. Listing Data"
   ]
  },
  {
   "cell_type": "code",
   "execution_count": 5,
   "metadata": {},
   "outputs": [
    {
     "name": "stdout",
     "output_type": "stream",
     "text": [
      "Files in local storage: ['sample_data_s3', 'sample_data', 'sample_data_local']\n"
     ]
    }
   ],
   "source": [
    "local_files = Container.ds.list()\n",
    "print(\"Files in local storage:\", local_files)"
   ]
  },
  {
   "cell_type": "markdown",
   "metadata": {},
   "source": [
    "## 3. Retrieving Data"
   ]
  },
  {
   "cell_type": "code",
   "execution_count": 6,
   "metadata": {},
   "outputs": [
    {
     "name": "stdout",
     "output_type": "stream",
     "text": [
      "Data retrieved successfully from local storage\n",
      "\t * Downloading: <_io.BufferedReader name='cache/datasets/sample_data_local'>\n",
      "          A   B     C\n",
      "0  0.273884  59   cat\n",
      "1  0.049904  84   dog\n",
      "2  0.872462  70  bird\n",
      "3  0.795624  34   cat\n",
      "4  0.763532  42   dog\n"
     ]
    }
   ],
   "source": [
    "retrieved_df = Container.ds.load(\"sample_data_local\")\n",
    "print(\"Data retrieved successfully from local storage\")\n",
    "print(retrieved_df.value.head())"
   ]
  },
  {
   "cell_type": "markdown",
   "metadata": {},
   "source": [
    "## 4. Updating Stored Data"
   ]
  },
  {
   "cell_type": "code",
   "execution_count": 7,
   "metadata": {},
   "outputs": [
    {
     "name": "stdout",
     "output_type": "stream",
     "text": [
      "\t * Saving in local path: cache/datasets/sample_data_local\n",
      "\t * Saved !\n",
      "Updated data stored successfully locally\n",
      "\t * Downloading: <_io.BufferedReader name='cache/datasets/sample_data_local'>\n",
      "          A   B     C  D\n",
      "0  0.273884  59   cat  Y\n",
      "1  0.049904  84   dog  Y\n",
      "2  0.872462  70  bird  Z\n",
      "3  0.795624  34   cat  X\n",
      "4  0.763532  42   dog  Z\n"
     ]
    }
   ],
   "source": [
    "# Update the DataFrame\n",
    "df[\"D\"] = np.random.choice([\"X\", \"Y\", \"Z\"], 100)\n",
    "\n",
    "# Store the updated DataFrame locally\n",
    "Container.ds.update(\"sample_data_local\", df)\n",
    "print(\"Updated data stored successfully locally\")\n",
    "\n",
    "# Retrieve and display the updated DataFrame\n",
    "updated_df = Container.ds.load(\"sample_data_local\")\n",
    "print(updated_df.value.head())"
   ]
  },
  {
   "cell_type": "markdown",
   "metadata": {},
   "source": [
    "## 5. Deleting Stored Data"
   ]
  },
  {
   "cell_type": "code",
   "execution_count": 8,
   "metadata": {},
   "outputs": [
    {
     "name": "stdout",
     "output_type": "stream",
     "text": [
      "Data deleted successfully from local storage\n"
     ]
    }
   ],
   "source": [
    "# Delete the stored data from local storage\n",
    "Container.ds.delete(\"sample_data_local\")\n",
    "print(\"Data deleted successfully from local storage\")"
   ]
  },
  {
   "cell_type": "code",
   "execution_count": 9,
   "metadata": {},
   "outputs": [],
   "source": [
    "from framework3.plugins.storage import S3Storage\n",
    "\n",
    "s3_storage = S3Storage(\n",
    "    bucket=os.environ.get(\"TEST_BUCKET_NAME\"),  # type: ignore\n",
    "    region_name=os.environ.get(\"REGION_NAME\"),  # type: ignore\n",
    "    access_key=os.environ.get(\"TEST_ACCESS_KEY\"),  # type: ignore\n",
    "    access_key_id=os.environ.get(\"TEST_ACCESS_KEY_ID\"),  # type: ignore\n",
    "    endpoint_url=os.environ.get(\"ENDPOINT_URL\"),\n",
    ")"
   ]
  },
  {
   "cell_type": "code",
   "execution_count": 11,
   "metadata": {},
   "outputs": [],
   "source": [
    "Container.storage = s3_storage"
   ]
  },
  {
   "cell_type": "code",
   "execution_count": 12,
   "metadata": {},
   "outputs": [
    {
     "name": "stdout",
     "output_type": "stream",
     "text": [
      "- Binary prepared!\n",
      "- Stream ready!\n",
      " \t * Object size 8e-08 GBs \n",
      "Upload Complete!\n",
      "Data stored successfully in S3\n"
     ]
    }
   ],
   "source": [
    "Container.ds.save(\"sample_data_s3\", df)\n",
    "print(\"Data stored successfully in S3\")"
   ]
  },
  {
   "cell_type": "code",
   "execution_count": 13,
   "metadata": {},
   "outputs": [
    {
     "name": "stdout",
     "output_type": "stream",
     "text": [
      "Files in S3 bucket: ['datasets/Iris X data.pkl', 'test-bucket/datasets/sample_data_s3']\n"
     ]
    }
   ],
   "source": [
    "s3_files = Container.ds.list()\n",
    "print(\"Files in S3 bucket:\", s3_files)"
   ]
  },
  {
   "cell_type": "code",
   "execution_count": 14,
   "metadata": {},
   "outputs": [
    {
     "name": "stdout",
     "output_type": "stream",
     "text": [
      "Data retrieved successfully from S3\n",
      "          A   B     C  D\n",
      "0  0.273884  59   cat  Y\n",
      "1  0.049904  84   dog  Y\n",
      "2  0.872462  70  bird  Z\n",
      "3  0.795624  34   cat  X\n",
      "4  0.763532  42   dog  Z\n"
     ]
    }
   ],
   "source": [
    "retrieved_df = Container.ds.load(\"sample_data_s3\")\n",
    "print(\"Data retrieved successfully from S3\")\n",
    "print(retrieved_df.value.head())"
   ]
  },
  {
   "cell_type": "code",
   "execution_count": 15,
   "metadata": {},
   "outputs": [
    {
     "name": "stdout",
     "output_type": "stream",
     "text": [
      "- Binary prepared!\n",
      "- Stream ready!\n",
      " \t * Object size 8e-08 GBs \n",
      "Upload Complete!\n",
      "Updated data stored successfully in S3\n",
      "          A   B     C  D  E\n",
      "0  0.273884  59   cat  Y  R\n",
      "1  0.049904  84   dog  Y  P\n",
      "2  0.872462  70  bird  Z  P\n",
      "3  0.795624  34   cat  X  P\n",
      "4  0.763532  42   dog  Z  P\n"
     ]
    }
   ],
   "source": [
    "# Update the DataFrame\n",
    "df[\"E\"] = np.random.choice([\"P\", \"Q\", \"R\"], 100)\n",
    "\n",
    "# Store the updated DataFrame in S3\n",
    "Container.ds.update(\"sample_data_s3\", df)\n",
    "print(\"Updated data stored successfully in S3\")\n",
    "\n",
    "# Retrieve and display the updated DataFrame\n",
    "updated_df = Container.ds.load(\"sample_data_s3\")\n",
    "print(updated_df.value.head())"
   ]
  },
  {
   "cell_type": "code",
   "execution_count": 16,
   "metadata": {},
   "outputs": [
    {
     "name": "stdout",
     "output_type": "stream",
     "text": [
      "Deleted!\n",
      "Data deleted successfully from S3\n"
     ]
    }
   ],
   "source": [
    "# Delete the stored data from S3\n",
    "Container.ds.delete(\"sample_data_s3\")\n",
    "print(\"Data deleted successfully from S3\")"
   ]
  }
 ],
 "metadata": {
  "kernelspec": {
   "display_name": "venv",
   "language": "python",
   "name": "python3"
  },
  "language_info": {
   "codemirror_mode": {
    "name": "ipython",
    "version": 3
   },
   "file_extension": ".py",
   "mimetype": "text/x-python",
   "name": "python",
   "nbconvert_exporter": "python",
   "pygments_lexer": "ipython3",
   "version": "3.11.5"
  }
 },
 "nbformat": 4,
 "nbformat_minor": 4
}
