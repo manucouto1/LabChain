{
 "cells": [
  {
   "cell_type": "markdown",
   "id": "2536e0f5",
   "metadata": {},
   "source": [
    "# Caching Data\n",
    "## How to cache heavy computations while looking for different pipeline combinations."
   ]
  },
  {
   "cell_type": "markdown",
   "id": "9aff8158",
   "metadata": {},
   "source": [
    "Sometimes we might want to avoid running the same pipeline multiple times with the same parameters. For this porpouse F3 have a caching mechanism."
   ]
  },
  {
   "cell_type": "markdown",
   "id": "ff5257dc",
   "metadata": {},
   "source": [
    "### Data preparation"
   ]
  },
  {
   "cell_type": "code",
   "execution_count": 1,
   "id": "2319ce20",
   "metadata": {},
   "outputs": [
    {
     "name": "stdout",
     "output_type": "stream",
     "text": [
      "✅ Patched inspect.getsource using dill.\n"
     ]
    }
   ],
   "source": [
    "from framework3.utils.patch_type_guard import patch_inspect_for_notebooks\n",
    "\n",
    "patch_inspect_for_notebooks()"
   ]
  },
  {
   "cell_type": "code",
   "execution_count": 2,
   "id": "344af93d",
   "metadata": {},
   "outputs": [],
   "source": [
    "from sklearn.datasets import fetch_20newsgroups\n",
    "\n",
    "# Cargar el conjunto de datos 20 Newsgroups\n",
    "train = fetch_20newsgroups(subset=\"train\")\n",
    "test = fetch_20newsgroups(subset=\"test\")"
   ]
  },
  {
   "cell_type": "code",
   "execution_count": 3,
   "id": "5f42ba41",
   "metadata": {},
   "outputs": [],
   "source": [
    "from framework3.base import XYData\n",
    "\n",
    "\n",
    "X_train = XYData(\n",
    "    _hash=\"20NG train X\",\n",
    "    _path=\"/datasets\",\n",
    "    _value=train.data,  # type: ignore\n",
    ")\n",
    "X_test = XYData(\n",
    "    _hash=\"20NG test X\",\n",
    "    _path=\"/datasets\",\n",
    "    _value=test.data,  # type: ignore\n",
    ")\n",
    "y_train = XYData(\n",
    "    _hash=\"20NG train y\",\n",
    "    _path=\"/datasets\",\n",
    "    _value=train.target,  # type: ignore\n",
    ")\n",
    "y_test = XYData(\n",
    "    _hash=\"20NG test y\",\n",
    "    _path=\"/datasets\",\n",
    "    _value=test.target,  # type: ignore\n",
    ")"
   ]
  },
  {
   "cell_type": "markdown",
   "id": "f757f901",
   "metadata": {},
   "source": [
    "### First we need to transform our text data into numerical vectors using Sentence Transformers."
   ]
  },
  {
   "cell_type": "markdown",
   "id": "03f185da",
   "metadata": {},
   "source": [
    "Let's download a pre-trained language model for sentence embeddings."
   ]
  },
  {
   "cell_type": "code",
   "execution_count": 4,
   "id": "63954c4e",
   "metadata": {},
   "outputs": [],
   "source": [
    "from framework3.plugins.filters.llm import HuggingFaceSentenceTransformerPlugin\n",
    "\n",
    "llm = HuggingFaceSentenceTransformerPlugin(\n",
    "    model_name=\"sentence-transformers/all-mpnet-base-v2\"\n",
    ")"
   ]
  },
  {
   "cell_type": "markdown",
   "id": "8e8cae5b",
   "metadata": {},
   "source": [
    "### Pipeline preparation"
   ]
  },
  {
   "cell_type": "markdown",
   "id": "7e8155dc",
   "metadata": {},
   "source": [
    "We can perform PCA to reduce dimensionality and then apply SVM for classification. But we don't know wich hiperparamters are the best for this particular data. For that porpose we can use a simple grid search."
   ]
  },
  {
   "cell_type": "code",
   "execution_count": 5,
   "id": "f020eb15",
   "metadata": {},
   "outputs": [
    {
     "data": {
      "text/html": [
       "<pre style=\"white-space:pre;overflow-x:auto;line-height:normal;font-family:Menlo,'DejaVu Sans Mono',consolas,'Courier New',monospace\"><span style=\"font-weight: bold\">{</span>\n",
       "    <span style=\"color: #008000; text-decoration-color: #008000\">'clazz'</span>: <span style=\"color: #008000; text-decoration-color: #008000\">'F3Pipeline'</span>,\n",
       "    <span style=\"color: #008000; text-decoration-color: #008000\">'params'</span>: <span style=\"font-weight: bold\">{</span>\n",
       "        <span style=\"color: #008000; text-decoration-color: #008000\">'filters'</span>: <span style=\"font-weight: bold\">[</span>\n",
       "            <span style=\"font-weight: bold\">{</span><span style=\"color: #008000; text-decoration-color: #008000\">'clazz'</span>: <span style=\"color: #008000; text-decoration-color: #008000\">'PCAPlugin'</span>, <span style=\"color: #008000; text-decoration-color: #008000\">'params'</span>: <span style=\"font-weight: bold\">{</span><span style=\"color: #008000; text-decoration-color: #008000\">'n_components'</span>: <span style=\"color: #008080; text-decoration-color: #008080; font-weight: bold\">2</span><span style=\"font-weight: bold\">}</span>, <span style=\"color: #008000; text-decoration-color: #008000\">'_grid'</span>: <span style=\"font-weight: bold\">{</span><span style=\"color: #008000; text-decoration-color: #008000\">'n_components'</span>: <span style=\"font-weight: bold\">[</span><span style=\"color: #008080; text-decoration-color: #008080; font-weight: bold\">10</span>, <span style=\"color: #008080; text-decoration-color: #008080; font-weight: bold\">50</span>, <span style=\"color: #008080; text-decoration-color: #008080; font-weight: bold\">100</span><span style=\"font-weight: bold\">]}}</span>,\n",
       "            <span style=\"font-weight: bold\">{</span>\n",
       "                <span style=\"color: #008000; text-decoration-color: #008000\">'clazz'</span>: <span style=\"color: #008000; text-decoration-color: #008000\">'ClassifierSVMPlugin'</span>,\n",
       "                <span style=\"color: #008000; text-decoration-color: #008000\">'params'</span>: <span style=\"font-weight: bold\">{</span><span style=\"color: #008000; text-decoration-color: #008000\">'C'</span>: <span style=\"color: #008080; text-decoration-color: #008080; font-weight: bold\">1.0</span>, <span style=\"color: #008000; text-decoration-color: #008000\">'kernel'</span>: <span style=\"color: #008000; text-decoration-color: #008000\">'rbf'</span>, <span style=\"color: #008000; text-decoration-color: #008000\">'gamma'</span>: <span style=\"color: #008000; text-decoration-color: #008000\">'scale'</span><span style=\"font-weight: bold\">}</span>,\n",
       "                <span style=\"color: #008000; text-decoration-color: #008000\">'_grid'</span>: <span style=\"font-weight: bold\">{</span><span style=\"color: #008000; text-decoration-color: #008000\">'C'</span>: <span style=\"font-weight: bold\">[</span><span style=\"color: #008080; text-decoration-color: #008080; font-weight: bold\">0.1</span>, <span style=\"color: #008080; text-decoration-color: #008080; font-weight: bold\">1.0</span>, <span style=\"color: #008080; text-decoration-color: #008080; font-weight: bold\">10.0</span><span style=\"font-weight: bold\">]</span>, <span style=\"color: #008000; text-decoration-color: #008000\">'gamma'</span>: <span style=\"font-weight: bold\">[</span><span style=\"color: #008080; text-decoration-color: #008080; font-weight: bold\">0.001</span>, <span style=\"color: #008080; text-decoration-color: #008080; font-weight: bold\">0.0001</span><span style=\"font-weight: bold\">]}</span>\n",
       "            <span style=\"font-weight: bold\">}</span>\n",
       "        <span style=\"font-weight: bold\">]</span>,\n",
       "        <span style=\"color: #008000; text-decoration-color: #008000\">'metrics'</span>: <span style=\"font-weight: bold\">[{</span><span style=\"color: #008000; text-decoration-color: #008000\">'clazz'</span>: <span style=\"color: #008000; text-decoration-color: #008000\">'F1'</span>, <span style=\"color: #008000; text-decoration-color: #008000\">'params'</span>: <span style=\"font-weight: bold\">{</span><span style=\"color: #008000; text-decoration-color: #008000\">'average'</span>: <span style=\"color: #008000; text-decoration-color: #008000\">'weighted'</span><span style=\"font-weight: bold\">}}]</span>,\n",
       "        <span style=\"color: #008000; text-decoration-color: #008000\">'overwrite'</span>: <span style=\"color: #ff0000; text-decoration-color: #ff0000; font-style: italic\">False</span>,\n",
       "        <span style=\"color: #008000; text-decoration-color: #008000\">'store'</span>: <span style=\"color: #ff0000; text-decoration-color: #ff0000; font-style: italic\">False</span>,\n",
       "        <span style=\"color: #008000; text-decoration-color: #008000\">'log'</span>: <span style=\"color: #ff0000; text-decoration-color: #ff0000; font-style: italic\">False</span>\n",
       "    <span style=\"font-weight: bold\">}</span>\n",
       "<span style=\"font-weight: bold\">}</span>\n",
       "</pre>\n"
      ],
      "text/plain": [
       "\u001b[1m{\u001b[0m\n",
       "    \u001b[32m'clazz'\u001b[0m: \u001b[32m'F3Pipeline'\u001b[0m,\n",
       "    \u001b[32m'params'\u001b[0m: \u001b[1m{\u001b[0m\n",
       "        \u001b[32m'filters'\u001b[0m: \u001b[1m[\u001b[0m\n",
       "            \u001b[1m{\u001b[0m\u001b[32m'clazz'\u001b[0m: \u001b[32m'PCAPlugin'\u001b[0m, \u001b[32m'params'\u001b[0m: \u001b[1m{\u001b[0m\u001b[32m'n_components'\u001b[0m: \u001b[1;36m2\u001b[0m\u001b[1m}\u001b[0m, \u001b[32m'_grid'\u001b[0m: \u001b[1m{\u001b[0m\u001b[32m'n_components'\u001b[0m: \u001b[1m[\u001b[0m\u001b[1;36m10\u001b[0m, \u001b[1;36m50\u001b[0m, \u001b[1;36m100\u001b[0m\u001b[1m]\u001b[0m\u001b[1m}\u001b[0m\u001b[1m}\u001b[0m,\n",
       "            \u001b[1m{\u001b[0m\n",
       "                \u001b[32m'clazz'\u001b[0m: \u001b[32m'ClassifierSVMPlugin'\u001b[0m,\n",
       "                \u001b[32m'params'\u001b[0m: \u001b[1m{\u001b[0m\u001b[32m'C'\u001b[0m: \u001b[1;36m1.0\u001b[0m, \u001b[32m'kernel'\u001b[0m: \u001b[32m'rbf'\u001b[0m, \u001b[32m'gamma'\u001b[0m: \u001b[32m'scale'\u001b[0m\u001b[1m}\u001b[0m,\n",
       "                \u001b[32m'_grid'\u001b[0m: \u001b[1m{\u001b[0m\u001b[32m'C'\u001b[0m: \u001b[1m[\u001b[0m\u001b[1;36m0.1\u001b[0m, \u001b[1;36m1.0\u001b[0m, \u001b[1;36m10.0\u001b[0m\u001b[1m]\u001b[0m, \u001b[32m'gamma'\u001b[0m: \u001b[1m[\u001b[0m\u001b[1;36m0.001\u001b[0m, \u001b[1;36m0.0001\u001b[0m\u001b[1m]\u001b[0m\u001b[1m}\u001b[0m\n",
       "            \u001b[1m}\u001b[0m\n",
       "        \u001b[1m]\u001b[0m,\n",
       "        \u001b[32m'metrics'\u001b[0m: \u001b[1m[\u001b[0m\u001b[1m{\u001b[0m\u001b[32m'clazz'\u001b[0m: \u001b[32m'F1'\u001b[0m, \u001b[32m'params'\u001b[0m: \u001b[1m{\u001b[0m\u001b[32m'average'\u001b[0m: \u001b[32m'weighted'\u001b[0m\u001b[1m}\u001b[0m\u001b[1m}\u001b[0m\u001b[1m]\u001b[0m,\n",
       "        \u001b[32m'overwrite'\u001b[0m: \u001b[3;91mFalse\u001b[0m,\n",
       "        \u001b[32m'store'\u001b[0m: \u001b[3;91mFalse\u001b[0m,\n",
       "        \u001b[32m'log'\u001b[0m: \u001b[3;91mFalse\u001b[0m\n",
       "    \u001b[1m}\u001b[0m\n",
       "\u001b[1m}\u001b[0m\n"
      ]
     },
     "metadata": {},
     "output_type": "display_data"
    }
   ],
   "source": [
    "from framework3 import F1, ClassifierSVMPlugin, SklearnOptimizer\n",
    "from framework3.plugins.filters import PCAPlugin\n",
    "from framework3.plugins.pipelines.sequential import F3Pipeline\n",
    "\n",
    "\n",
    "grid_pipelin = F3Pipeline(\n",
    "    filters=[\n",
    "        PCAPlugin().grid({\"n_components\": [10, 50, 100]}),\n",
    "        ClassifierSVMPlugin(kernel=\"rbf\").grid(\n",
    "            {\"C\": [0.1, 1.0, 10.0], \"gamma\": [1e-3, 1e-4]}\n",
    "        ),\n",
    "    ],\n",
    "    metrics=[F1()],\n",
    ").optimizer(SklearnOptimizer(scoring=\"f1_weighted\", cv=2))"
   ]
  },
  {
   "cell_type": "markdown",
   "id": "00afb67f",
   "metadata": {},
   "source": [
    "### Caching: The funny part"
   ]
  },
  {
   "cell_type": "markdown",
   "id": "164eddcd",
   "metadata": {},
   "source": [
    "Now it comes the moment to put all together. The llm will create a heavy data item wich is the output embeddings of the model and we don't what to compute several times the same embeddings. We will cache this item using the cache_data=True parameter."
   ]
  },
  {
   "cell_type": "code",
   "execution_count": 6,
   "id": "55d1dfed",
   "metadata": {},
   "outputs": [],
   "source": [
    "from framework3 import Cached, Precission, Recall\n",
    "\n",
    "\n",
    "final_pipeline = F3Pipeline(\n",
    "    filters=[Cached(llm, cache_data=True, cache_filter=False), grid_pipelin],\n",
    "    metrics=[F1(), Precission(), Recall()],\n",
    ")"
   ]
  },
  {
   "cell_type": "code",
   "execution_count": 7,
   "id": "65e06944",
   "metadata": {},
   "outputs": [
    {
     "data": {
      "text/html": [
       "<pre style=\"white-space:pre;overflow-x:auto;line-height:normal;font-family:Menlo,'DejaVu Sans Mono',consolas,'Courier New',monospace\">____________________________________________________________________________________________________\n",
       "Fitting pipeline<span style=\"color: #808000; text-decoration-color: #808000\">...</span>\n",
       "****************************************************************************************************\n",
       "</pre>\n"
      ],
      "text/plain": [
       "____________________________________________________________________________________________________\n",
       "Fitting pipeline\u001b[33m...\u001b[0m\n",
       "****************************************************************************************************\n"
      ]
     },
     "metadata": {},
     "output_type": "display_data"
    },
    {
     "data": {
      "text/html": [
       "<pre style=\"white-space:pre;overflow-x:auto;line-height:normal;font-family:Menlo,'DejaVu Sans Mono',consolas,'Courier New',monospace\">        *<span style=\"color: #800080; text-decoration-color: #800080; font-weight: bold\">Cached</span><span style=\"font-weight: bold\">({</span><span style=\"color: #008000; text-decoration-color: #008000\">'filter'</span>: <span style=\"color: #800080; text-decoration-color: #800080; font-weight: bold\">HuggingFaceSentenceTransformerPlugin</span><span style=\"font-weight: bold\">({</span><span style=\"color: #008000; text-decoration-color: #008000\">'model_name'</span>: \n",
       "<span style=\"color: #008000; text-decoration-color: #008000\">'sentence-transformers/all-mpnet-base-v2'</span><span style=\"font-weight: bold\">})</span>, <span style=\"color: #008000; text-decoration-color: #008000\">'cache_data'</span>: <span style=\"color: #00ff00; text-decoration-color: #00ff00; font-style: italic\">True</span>, <span style=\"color: #008000; text-decoration-color: #008000\">'cache_filter'</span>: <span style=\"color: #ff0000; text-decoration-color: #ff0000; font-style: italic\">False</span>, <span style=\"color: #008000; text-decoration-color: #008000\">'overwrite'</span>: <span style=\"color: #ff0000; text-decoration-color: #ff0000; font-style: italic\">False</span>, \n",
       "<span style=\"color: #008000; text-decoration-color: #008000\">'storage'</span>: <span style=\"color: #800080; text-decoration-color: #800080; font-style: italic\">None</span><span style=\"font-weight: bold\">})</span>\n",
       "</pre>\n"
      ],
      "text/plain": [
       "        *\u001b[1;35mCached\u001b[0m\u001b[1m(\u001b[0m\u001b[1m{\u001b[0m\u001b[32m'filter'\u001b[0m: \u001b[1;35mHuggingFaceSentenceTransformerPlugin\u001b[0m\u001b[1m(\u001b[0m\u001b[1m{\u001b[0m\u001b[32m'model_name'\u001b[0m: \n",
       "\u001b[32m'sentence-transformers/all-mpnet-base-v2'\u001b[0m\u001b[1m}\u001b[0m\u001b[1m)\u001b[0m, \u001b[32m'cache_data'\u001b[0m: \u001b[3;92mTrue\u001b[0m, \u001b[32m'cache_filter'\u001b[0m: \u001b[3;91mFalse\u001b[0m, \u001b[32m'overwrite'\u001b[0m: \u001b[3;91mFalse\u001b[0m, \n",
       "\u001b[32m'storage'\u001b[0m: \u001b[3;35mNone\u001b[0m\u001b[1m}\u001b[0m\u001b[1m)\u001b[0m\n"
      ]
     },
     "metadata": {},
     "output_type": "display_data"
    },
    {
     "data": {
      "text/html": [
       "<pre style=\"white-space:pre;overflow-x:auto;line-height:normal;font-family:Menlo,'DejaVu Sans Mono',consolas,'Courier New',monospace\">         - El filtro <span style=\"color: #800080; text-decoration-color: #800080; font-weight: bold\">HuggingFaceSentenceTransformerPlugin</span><span style=\"font-weight: bold\">({</span><span style=\"color: #008000; text-decoration-color: #008000\">'model_name'</span>: \n",
       "<span style=\"color: #008000; text-decoration-color: #008000\">'sentence-transformers/all-mpnet-base-v2'</span><span style=\"font-weight: bold\">})</span> con hash cd52a2089d77df27ae1a888d97422cd38e3bb01a No existe, se va a \n",
       "entrenar.\n",
       "</pre>\n"
      ],
      "text/plain": [
       "         - El filtro \u001b[1;35mHuggingFaceSentenceTransformerPlugin\u001b[0m\u001b[1m(\u001b[0m\u001b[1m{\u001b[0m\u001b[32m'model_name'\u001b[0m: \n",
       "\u001b[32m'sentence-transformers/all-mpnet-base-v2'\u001b[0m\u001b[1m}\u001b[0m\u001b[1m)\u001b[0m con hash cd52a2089d77df27ae1a888d97422cd38e3bb01a No existe, se va a \n",
       "entrenar.\n"
      ]
     },
     "metadata": {},
     "output_type": "display_data"
    },
    {
     "data": {
      "text/html": [
       "<pre style=\"white-space:pre;overflow-x:auto;line-height:normal;font-family:Menlo,'DejaVu Sans Mono',consolas,'Courier New',monospace\">         - El dato <span style=\"color: #800080; text-decoration-color: #800080; font-weight: bold\">XYData</span><span style=\"font-weight: bold\">(</span><span style=\"color: #808000; text-decoration-color: #808000\">_hash</span>=<span style=\"color: #008000; text-decoration-color: #008000\">'0bb5f0568e0be233f4dfc5bbe7e893a6369f353e'</span>, \n",
       "<span style=\"color: #808000; text-decoration-color: #808000\">_path</span>=<span style=\"color: #008000; text-decoration-color: #008000\">'HuggingFaceSentenceTransformerPlugin/cd52a2089d77df27ae1a888d97422cd38e3bb01a'</span><span style=\"font-weight: bold\">)</span> No existe, se va a crear.\n",
       "</pre>\n"
      ],
      "text/plain": [
       "         - El dato \u001b[1;35mXYData\u001b[0m\u001b[1m(\u001b[0m\u001b[33m_hash\u001b[0m=\u001b[32m'0bb5f0568e0be233f4dfc5bbe7e893a6369f353e'\u001b[0m, \n",
       "\u001b[33m_path\u001b[0m=\u001b[32m'HuggingFaceSentenceTransformerPlugin/cd52a2089d77df27ae1a888d97422cd38e3bb01a'\u001b[0m\u001b[1m)\u001b[0m No existe, se va a crear.\n"
      ]
     },
     "metadata": {},
     "output_type": "display_data"
    },
    {
     "data": {
      "text/html": [
       "<pre style=\"white-space:pre;overflow-x:auto;line-height:normal;font-family:Menlo,'DejaVu Sans Mono',consolas,'Courier New',monospace\">         - El dato <span style=\"color: #800080; text-decoration-color: #800080; font-weight: bold\">XYData</span><span style=\"font-weight: bold\">(</span><span style=\"color: #808000; text-decoration-color: #808000\">_hash</span>=<span style=\"color: #008000; text-decoration-color: #008000\">'0bb5f0568e0be233f4dfc5bbe7e893a6369f353e'</span>, \n",
       "<span style=\"color: #808000; text-decoration-color: #808000\">_path</span>=<span style=\"color: #008000; text-decoration-color: #008000\">'HuggingFaceSentenceTransformerPlugin/cd52a2089d77df27ae1a888d97422cd38e3bb01a'</span><span style=\"font-weight: bold\">)</span> Se cachea.\n",
       "</pre>\n"
      ],
      "text/plain": [
       "         - El dato \u001b[1;35mXYData\u001b[0m\u001b[1m(\u001b[0m\u001b[33m_hash\u001b[0m=\u001b[32m'0bb5f0568e0be233f4dfc5bbe7e893a6369f353e'\u001b[0m, \n",
       "\u001b[33m_path\u001b[0m=\u001b[32m'HuggingFaceSentenceTransformerPlugin/cd52a2089d77df27ae1a888d97422cd38e3bb01a'\u001b[0m\u001b[1m)\u001b[0m Se cachea.\n"
      ]
     },
     "metadata": {},
     "output_type": "display_data"
    },
    {
     "name": "stdout",
     "output_type": "stream",
     "text": [
      "\t * Saving in local path: cache/HuggingFaceSentenceTransformerPlugin/cd52a2089d77df27ae1a888d97422cd38e3bb01a/0bb5f0568e0be233f4dfc5bbe7e893a6369f353e\n",
      "\t * Saved !\n"
     ]
    },
    {
     "data": {
      "text/html": [
       "<pre style=\"white-space:pre;overflow-x:auto;line-height:normal;font-family:Menlo,'DejaVu Sans Mono',consolas,'Courier New',monospace\">        *<span style=\"color: #800080; text-decoration-color: #800080; font-weight: bold\">SklearnOptimizer</span><span style=\"font-weight: bold\">({</span><span style=\"color: #008000; text-decoration-color: #008000\">'scoring'</span>: <span style=\"color: #008000; text-decoration-color: #008000\">'f1_weighted'</span>, <span style=\"color: #008000; text-decoration-color: #008000\">'cv'</span>: <span style=\"color: #008080; text-decoration-color: #008080; font-weight: bold\">2</span>, <span style=\"color: #008000; text-decoration-color: #008000\">'pipeline'</span>: <span style=\"color: #800080; text-decoration-color: #800080; font-weight: bold\">F3Pipeline</span><span style=\"font-weight: bold\">({</span><span style=\"color: #008000; text-decoration-color: #008000\">'filters'</span>: \n",
       "<span style=\"font-weight: bold\">[</span><span style=\"color: #800080; text-decoration-color: #800080; font-weight: bold\">PCAPlugin</span><span style=\"font-weight: bold\">({</span><span style=\"color: #008000; text-decoration-color: #008000\">'n_components'</span>: <span style=\"color: #008080; text-decoration-color: #008080; font-weight: bold\">2</span><span style=\"font-weight: bold\">})</span>, <span style=\"color: #800080; text-decoration-color: #800080; font-weight: bold\">ClassifierSVMPlugin</span><span style=\"font-weight: bold\">({</span><span style=\"color: #008000; text-decoration-color: #008000\">'C'</span>: <span style=\"color: #008080; text-decoration-color: #008080; font-weight: bold\">1.0</span>, <span style=\"color: #008000; text-decoration-color: #008000\">'kernel'</span>: <span style=\"color: #008000; text-decoration-color: #008000\">'rbf'</span>, <span style=\"color: #008000; text-decoration-color: #008000\">'gamma'</span>: <span style=\"color: #008000; text-decoration-color: #008000\">'scale'</span><span style=\"font-weight: bold\">})]</span>, <span style=\"color: #008000; text-decoration-color: #008000\">'metrics'</span>: \n",
       "<span style=\"font-weight: bold\">[</span><span style=\"color: #800080; text-decoration-color: #800080; font-weight: bold\">F1</span><span style=\"font-weight: bold\">({</span><span style=\"color: #008000; text-decoration-color: #008000\">'average'</span>: <span style=\"color: #008000; text-decoration-color: #008000\">'weighted'</span><span style=\"font-weight: bold\">})]</span>, <span style=\"color: #008000; text-decoration-color: #008000\">'overwrite'</span>: <span style=\"color: #ff0000; text-decoration-color: #ff0000; font-style: italic\">False</span>, <span style=\"color: #008000; text-decoration-color: #008000\">'store'</span>: <span style=\"color: #ff0000; text-decoration-color: #ff0000; font-style: italic\">False</span>, <span style=\"color: #008000; text-decoration-color: #008000\">'log'</span>: <span style=\"color: #ff0000; text-decoration-color: #ff0000; font-style: italic\">False</span><span style=\"font-weight: bold\">})})</span>\n",
       "</pre>\n"
      ],
      "text/plain": [
       "        *\u001b[1;35mSklearnOptimizer\u001b[0m\u001b[1m(\u001b[0m\u001b[1m{\u001b[0m\u001b[32m'scoring'\u001b[0m: \u001b[32m'f1_weighted'\u001b[0m, \u001b[32m'cv'\u001b[0m: \u001b[1;36m2\u001b[0m, \u001b[32m'pipeline'\u001b[0m: \u001b[1;35mF3Pipeline\u001b[0m\u001b[1m(\u001b[0m\u001b[1m{\u001b[0m\u001b[32m'filters'\u001b[0m: \n",
       "\u001b[1m[\u001b[0m\u001b[1;35mPCAPlugin\u001b[0m\u001b[1m(\u001b[0m\u001b[1m{\u001b[0m\u001b[32m'n_components'\u001b[0m: \u001b[1;36m2\u001b[0m\u001b[1m}\u001b[0m\u001b[1m)\u001b[0m, \u001b[1;35mClassifierSVMPlugin\u001b[0m\u001b[1m(\u001b[0m\u001b[1m{\u001b[0m\u001b[32m'C'\u001b[0m: \u001b[1;36m1.0\u001b[0m, \u001b[32m'kernel'\u001b[0m: \u001b[32m'rbf'\u001b[0m, \u001b[32m'gamma'\u001b[0m: \u001b[32m'scale'\u001b[0m\u001b[1m}\u001b[0m\u001b[1m)\u001b[0m\u001b[1m]\u001b[0m, \u001b[32m'metrics'\u001b[0m: \n",
       "\u001b[1m[\u001b[0m\u001b[1;35mF1\u001b[0m\u001b[1m(\u001b[0m\u001b[1m{\u001b[0m\u001b[32m'average'\u001b[0m: \u001b[32m'weighted'\u001b[0m\u001b[1m}\u001b[0m\u001b[1m)\u001b[0m\u001b[1m]\u001b[0m, \u001b[32m'overwrite'\u001b[0m: \u001b[3;91mFalse\u001b[0m, \u001b[32m'store'\u001b[0m: \u001b[3;91mFalse\u001b[0m, \u001b[32m'log'\u001b[0m: \u001b[3;91mFalse\u001b[0m\u001b[1m}\u001b[0m\u001b[1m)\u001b[0m\u001b[1m}\u001b[0m\u001b[1m)\u001b[0m\n"
      ]
     },
     "metadata": {},
     "output_type": "display_data"
    },
    {
     "name": "stdout",
     "output_type": "stream",
     "text": [
      "Fitting 2 folds for each of 18 candidates, totalling 36 fits\n"
     ]
    },
    {
     "data": {
      "text/html": [
       "<pre style=\"white-space:pre;overflow-x:auto;line-height:normal;font-family:Menlo,'DejaVu Sans Mono',consolas,'Courier New',monospace\">____________________________________________________________________________________________________\n",
       "Predicting pipeline<span style=\"color: #808000; text-decoration-color: #808000\">...</span>\n",
       "****************************************************************************************************\n",
       "</pre>\n"
      ],
      "text/plain": [
       "____________________________________________________________________________________________________\n",
       "Predicting pipeline\u001b[33m...\u001b[0m\n",
       "****************************************************************************************************\n"
      ]
     },
     "metadata": {},
     "output_type": "display_data"
    },
    {
     "data": {
      "text/html": [
       "<pre style=\"white-space:pre;overflow-x:auto;line-height:normal;font-family:Menlo,'DejaVu Sans Mono',consolas,'Courier New',monospace\">        *<span style=\"color: #800080; text-decoration-color: #800080; font-weight: bold\">Cached</span><span style=\"font-weight: bold\">({</span><span style=\"color: #008000; text-decoration-color: #008000\">'filter'</span>: <span style=\"color: #800080; text-decoration-color: #800080; font-weight: bold\">HuggingFaceSentenceTransformerPlugin</span><span style=\"font-weight: bold\">({</span><span style=\"color: #008000; text-decoration-color: #008000\">'model_name'</span>: \n",
       "<span style=\"color: #008000; text-decoration-color: #008000\">'sentence-transformers/all-mpnet-base-v2'</span><span style=\"font-weight: bold\">})</span>, <span style=\"color: #008000; text-decoration-color: #008000\">'cache_data'</span>: <span style=\"color: #00ff00; text-decoration-color: #00ff00; font-style: italic\">True</span>, <span style=\"color: #008000; text-decoration-color: #008000\">'cache_filter'</span>: <span style=\"color: #ff0000; text-decoration-color: #ff0000; font-style: italic\">False</span>, <span style=\"color: #008000; text-decoration-color: #008000\">'overwrite'</span>: <span style=\"color: #ff0000; text-decoration-color: #ff0000; font-style: italic\">False</span>, \n",
       "<span style=\"color: #008000; text-decoration-color: #008000\">'storage'</span>: <span style=\"color: #800080; text-decoration-color: #800080; font-style: italic\">None</span><span style=\"font-weight: bold\">})</span>\n",
       "</pre>\n"
      ],
      "text/plain": [
       "        *\u001b[1;35mCached\u001b[0m\u001b[1m(\u001b[0m\u001b[1m{\u001b[0m\u001b[32m'filter'\u001b[0m: \u001b[1;35mHuggingFaceSentenceTransformerPlugin\u001b[0m\u001b[1m(\u001b[0m\u001b[1m{\u001b[0m\u001b[32m'model_name'\u001b[0m: \n",
       "\u001b[32m'sentence-transformers/all-mpnet-base-v2'\u001b[0m\u001b[1m}\u001b[0m\u001b[1m)\u001b[0m, \u001b[32m'cache_data'\u001b[0m: \u001b[3;92mTrue\u001b[0m, \u001b[32m'cache_filter'\u001b[0m: \u001b[3;91mFalse\u001b[0m, \u001b[32m'overwrite'\u001b[0m: \u001b[3;91mFalse\u001b[0m, \n",
       "\u001b[32m'storage'\u001b[0m: \u001b[3;35mNone\u001b[0m\u001b[1m}\u001b[0m\u001b[1m)\u001b[0m\n"
      ]
     },
     "metadata": {},
     "output_type": "display_data"
    },
    {
     "data": {
      "text/html": [
       "<pre style=\"white-space:pre;overflow-x:auto;line-height:normal;font-family:Menlo,'DejaVu Sans Mono',consolas,'Courier New',monospace\">         - El dato <span style=\"color: #800080; text-decoration-color: #800080; font-weight: bold\">XYData</span><span style=\"font-weight: bold\">(</span><span style=\"color: #808000; text-decoration-color: #808000\">_hash</span>=<span style=\"color: #008000; text-decoration-color: #008000\">'68fc2995310bba822e143578b3f4ee9ddd9f212e'</span>, \n",
       "<span style=\"color: #808000; text-decoration-color: #808000\">_path</span>=<span style=\"color: #008000; text-decoration-color: #008000\">'HuggingFaceSentenceTransformerPlugin/cd52a2089d77df27ae1a888d97422cd38e3bb01a'</span><span style=\"font-weight: bold\">)</span> No existe, se va a crear.\n",
       "</pre>\n"
      ],
      "text/plain": [
       "         - El dato \u001b[1;35mXYData\u001b[0m\u001b[1m(\u001b[0m\u001b[33m_hash\u001b[0m=\u001b[32m'68fc2995310bba822e143578b3f4ee9ddd9f212e'\u001b[0m, \n",
       "\u001b[33m_path\u001b[0m=\u001b[32m'HuggingFaceSentenceTransformerPlugin/cd52a2089d77df27ae1a888d97422cd38e3bb01a'\u001b[0m\u001b[1m)\u001b[0m No existe, se va a crear.\n"
      ]
     },
     "metadata": {},
     "output_type": "display_data"
    },
    {
     "data": {
      "text/html": [
       "<pre style=\"white-space:pre;overflow-x:auto;line-height:normal;font-family:Menlo,'DejaVu Sans Mono',consolas,'Courier New',monospace\">         - El dato <span style=\"color: #800080; text-decoration-color: #800080; font-weight: bold\">XYData</span><span style=\"font-weight: bold\">(</span><span style=\"color: #808000; text-decoration-color: #808000\">_hash</span>=<span style=\"color: #008000; text-decoration-color: #008000\">'68fc2995310bba822e143578b3f4ee9ddd9f212e'</span>, \n",
       "<span style=\"color: #808000; text-decoration-color: #808000\">_path</span>=<span style=\"color: #008000; text-decoration-color: #008000\">'HuggingFaceSentenceTransformerPlugin/cd52a2089d77df27ae1a888d97422cd38e3bb01a'</span><span style=\"font-weight: bold\">)</span> Se cachea.\n",
       "</pre>\n"
      ],
      "text/plain": [
       "         - El dato \u001b[1;35mXYData\u001b[0m\u001b[1m(\u001b[0m\u001b[33m_hash\u001b[0m=\u001b[32m'68fc2995310bba822e143578b3f4ee9ddd9f212e'\u001b[0m, \n",
       "\u001b[33m_path\u001b[0m=\u001b[32m'HuggingFaceSentenceTransformerPlugin/cd52a2089d77df27ae1a888d97422cd38e3bb01a'\u001b[0m\u001b[1m)\u001b[0m Se cachea.\n"
      ]
     },
     "metadata": {},
     "output_type": "display_data"
    },
    {
     "name": "stdout",
     "output_type": "stream",
     "text": [
      "\t * Saving in local path: cache/HuggingFaceSentenceTransformerPlugin/cd52a2089d77df27ae1a888d97422cd38e3bb01a/68fc2995310bba822e143578b3f4ee9ddd9f212e\n",
      "\t * Saved !\n"
     ]
    },
    {
     "data": {
      "text/html": [
       "<pre style=\"white-space:pre;overflow-x:auto;line-height:normal;font-family:Menlo,'DejaVu Sans Mono',consolas,'Courier New',monospace\">        *<span style=\"color: #800080; text-decoration-color: #800080; font-weight: bold\">SklearnOptimizer</span><span style=\"font-weight: bold\">({</span><span style=\"color: #008000; text-decoration-color: #008000\">'scoring'</span>: <span style=\"color: #008000; text-decoration-color: #008000\">'f1_weighted'</span>, <span style=\"color: #008000; text-decoration-color: #008000\">'cv'</span>: <span style=\"color: #008080; text-decoration-color: #008080; font-weight: bold\">2</span>, <span style=\"color: #008000; text-decoration-color: #008000\">'pipeline'</span>: <span style=\"color: #800080; text-decoration-color: #800080; font-weight: bold\">F3Pipeline</span><span style=\"font-weight: bold\">({</span><span style=\"color: #008000; text-decoration-color: #008000\">'filters'</span>: \n",
       "<span style=\"font-weight: bold\">[</span><span style=\"color: #800080; text-decoration-color: #800080; font-weight: bold\">PCAPlugin</span><span style=\"font-weight: bold\">({</span><span style=\"color: #008000; text-decoration-color: #008000\">'n_components'</span>: <span style=\"color: #008080; text-decoration-color: #008080; font-weight: bold\">2</span><span style=\"font-weight: bold\">})</span>, <span style=\"color: #800080; text-decoration-color: #800080; font-weight: bold\">ClassifierSVMPlugin</span><span style=\"font-weight: bold\">({</span><span style=\"color: #008000; text-decoration-color: #008000\">'C'</span>: <span style=\"color: #008080; text-decoration-color: #008080; font-weight: bold\">1.0</span>, <span style=\"color: #008000; text-decoration-color: #008000\">'kernel'</span>: <span style=\"color: #008000; text-decoration-color: #008000\">'rbf'</span>, <span style=\"color: #008000; text-decoration-color: #008000\">'gamma'</span>: <span style=\"color: #008000; text-decoration-color: #008000\">'scale'</span><span style=\"font-weight: bold\">})]</span>, <span style=\"color: #008000; text-decoration-color: #008000\">'metrics'</span>: \n",
       "<span style=\"font-weight: bold\">[</span><span style=\"color: #800080; text-decoration-color: #800080; font-weight: bold\">F1</span><span style=\"font-weight: bold\">({</span><span style=\"color: #008000; text-decoration-color: #008000\">'average'</span>: <span style=\"color: #008000; text-decoration-color: #008000\">'weighted'</span><span style=\"font-weight: bold\">})]</span>, <span style=\"color: #008000; text-decoration-color: #008000\">'overwrite'</span>: <span style=\"color: #ff0000; text-decoration-color: #ff0000; font-style: italic\">False</span>, <span style=\"color: #008000; text-decoration-color: #008000\">'store'</span>: <span style=\"color: #ff0000; text-decoration-color: #ff0000; font-style: italic\">False</span>, <span style=\"color: #008000; text-decoration-color: #008000\">'log'</span>: <span style=\"color: #ff0000; text-decoration-color: #ff0000; font-style: italic\">False</span><span style=\"font-weight: bold\">})})</span>\n",
       "</pre>\n"
      ],
      "text/plain": [
       "        *\u001b[1;35mSklearnOptimizer\u001b[0m\u001b[1m(\u001b[0m\u001b[1m{\u001b[0m\u001b[32m'scoring'\u001b[0m: \u001b[32m'f1_weighted'\u001b[0m, \u001b[32m'cv'\u001b[0m: \u001b[1;36m2\u001b[0m, \u001b[32m'pipeline'\u001b[0m: \u001b[1;35mF3Pipeline\u001b[0m\u001b[1m(\u001b[0m\u001b[1m{\u001b[0m\u001b[32m'filters'\u001b[0m: \n",
       "\u001b[1m[\u001b[0m\u001b[1;35mPCAPlugin\u001b[0m\u001b[1m(\u001b[0m\u001b[1m{\u001b[0m\u001b[32m'n_components'\u001b[0m: \u001b[1;36m2\u001b[0m\u001b[1m}\u001b[0m\u001b[1m)\u001b[0m, \u001b[1;35mClassifierSVMPlugin\u001b[0m\u001b[1m(\u001b[0m\u001b[1m{\u001b[0m\u001b[32m'C'\u001b[0m: \u001b[1;36m1.0\u001b[0m, \u001b[32m'kernel'\u001b[0m: \u001b[32m'rbf'\u001b[0m, \u001b[32m'gamma'\u001b[0m: \u001b[32m'scale'\u001b[0m\u001b[1m}\u001b[0m\u001b[1m)\u001b[0m\u001b[1m]\u001b[0m, \u001b[32m'metrics'\u001b[0m: \n",
       "\u001b[1m[\u001b[0m\u001b[1;35mF1\u001b[0m\u001b[1m(\u001b[0m\u001b[1m{\u001b[0m\u001b[32m'average'\u001b[0m: \u001b[32m'weighted'\u001b[0m\u001b[1m}\u001b[0m\u001b[1m)\u001b[0m\u001b[1m]\u001b[0m, \u001b[32m'overwrite'\u001b[0m: \u001b[3;91mFalse\u001b[0m, \u001b[32m'store'\u001b[0m: \u001b[3;91mFalse\u001b[0m, \u001b[32m'log'\u001b[0m: \u001b[3;91mFalse\u001b[0m\u001b[1m}\u001b[0m\u001b[1m)\u001b[0m\u001b[1m}\u001b[0m\u001b[1m)\u001b[0m\n"
      ]
     },
     "metadata": {},
     "output_type": "display_data"
    }
   ],
   "source": [
    "final_pipeline.fit(X_train, y_train)\n",
    "_y = final_pipeline.predict(X_test)"
   ]
  },
  {
   "cell_type": "code",
   "execution_count": 8,
   "id": "7eea90ca",
   "metadata": {},
   "outputs": [
    {
     "data": {
      "text/html": [
       "<pre style=\"white-space:pre;overflow-x:auto;line-height:normal;font-family:Menlo,'DejaVu Sans Mono',consolas,'Courier New',monospace\">____________________________________________________________________________________________________\n",
       "Evaluating pipeline<span style=\"color: #808000; text-decoration-color: #808000\">......</span>\n",
       "****************************************************************************************************\n",
       "</pre>\n"
      ],
      "text/plain": [
       "____________________________________________________________________________________________________\n",
       "Evaluating pipeline\u001b[33m...\u001b[0m\u001b[33m...\u001b[0m\n",
       "****************************************************************************************************\n"
      ]
     },
     "metadata": {},
     "output_type": "display_data"
    },
    {
     "data": {
      "text/plain": [
       "{'F1': 0.7983619633942866,\n",
       " 'Precission': 0.8005437637532571,\n",
       " 'Recall': 0.798194370685077}"
      ]
     },
     "execution_count": 8,
     "metadata": {},
     "output_type": "execute_result"
    }
   ],
   "source": [
    "final_pipeline.evaluate(X_test, y_test, _y)"
   ]
  },
  {
   "cell_type": "markdown",
   "id": "b6bd654f",
   "metadata": {},
   "source": [
    "Petty cool right, but this didn't show the full potential of the caching mechanism. The benefits of caching comes when we want to change things without repeating unnecesary computations. For instance, if we whant to try to optimize other clasifiers or pipelines, the same embeddings won't be computed again. The F3 will use the cached data."
   ]
  },
  {
   "cell_type": "markdown",
   "id": "542c0bc2",
   "metadata": {},
   "source": [
    "### Let's define another pipeline"
   ]
  },
  {
   "cell_type": "code",
   "execution_count": 9,
   "id": "255c76b9",
   "metadata": {},
   "outputs": [
    {
     "data": {
      "text/html": [
       "<pre style=\"white-space:pre;overflow-x:auto;line-height:normal;font-family:Menlo,'DejaVu Sans Mono',consolas,'Courier New',monospace\"><span style=\"font-weight: bold\">{</span>\n",
       "    <span style=\"color: #008000; text-decoration-color: #008000\">'clazz'</span>: <span style=\"color: #008000; text-decoration-color: #008000\">'F3Pipeline'</span>,\n",
       "    <span style=\"color: #008000; text-decoration-color: #008000\">'params'</span>: <span style=\"font-weight: bold\">{</span>\n",
       "        <span style=\"color: #008000; text-decoration-color: #008000\">'filters'</span>: <span style=\"font-weight: bold\">[</span>\n",
       "            <span style=\"font-weight: bold\">{</span><span style=\"color: #008000; text-decoration-color: #008000\">'clazz'</span>: <span style=\"color: #008000; text-decoration-color: #008000\">'PCAPlugin'</span>, <span style=\"color: #008000; text-decoration-color: #008000\">'params'</span>: <span style=\"font-weight: bold\">{</span><span style=\"color: #008000; text-decoration-color: #008000\">'n_components'</span>: <span style=\"color: #008080; text-decoration-color: #008080; font-weight: bold\">2</span><span style=\"font-weight: bold\">}</span>, <span style=\"color: #008000; text-decoration-color: #008000\">'_grid'</span>: <span style=\"font-weight: bold\">{</span><span style=\"color: #008000; text-decoration-color: #008000\">'n_components'</span>: <span style=\"font-weight: bold\">[</span><span style=\"color: #008080; text-decoration-color: #008080; font-weight: bold\">10</span>, <span style=\"color: #008080; text-decoration-color: #008080; font-weight: bold\">50</span>, <span style=\"color: #008080; text-decoration-color: #008080; font-weight: bold\">100</span><span style=\"font-weight: bold\">]}}</span>,\n",
       "            <span style=\"font-weight: bold\">{</span>\n",
       "                <span style=\"color: #008000; text-decoration-color: #008000\">'clazz'</span>: <span style=\"color: #008000; text-decoration-color: #008000\">'KnnFilter'</span>,\n",
       "                <span style=\"color: #008000; text-decoration-color: #008000\">'params'</span>: <span style=\"font-weight: bold\">{</span>\n",
       "                    <span style=\"color: #008000; text-decoration-color: #008000\">'n_neighbors'</span>: <span style=\"color: #008080; text-decoration-color: #008080; font-weight: bold\">5</span>,\n",
       "                    <span style=\"color: #008000; text-decoration-color: #008000\">'weights'</span>: <span style=\"color: #008000; text-decoration-color: #008000\">'uniform'</span>,\n",
       "                    <span style=\"color: #008000; text-decoration-color: #008000\">'algorithm'</span>: <span style=\"color: #008000; text-decoration-color: #008000\">'auto'</span>,\n",
       "                    <span style=\"color: #008000; text-decoration-color: #008000\">'leaf_size'</span>: <span style=\"color: #008080; text-decoration-color: #008080; font-weight: bold\">30</span>,\n",
       "                    <span style=\"color: #008000; text-decoration-color: #008000\">'p'</span>: <span style=\"color: #008080; text-decoration-color: #008080; font-weight: bold\">2</span>,\n",
       "                    <span style=\"color: #008000; text-decoration-color: #008000\">'metric'</span>: <span style=\"color: #008000; text-decoration-color: #008000\">'minkowski'</span>,\n",
       "                    <span style=\"color: #008000; text-decoration-color: #008000\">'metric_params'</span>: <span style=\"color: #800080; text-decoration-color: #800080; font-style: italic\">None</span>,\n",
       "                    <span style=\"color: #008000; text-decoration-color: #008000\">'n_jobs'</span>: <span style=\"color: #800080; text-decoration-color: #800080; font-style: italic\">None</span>\n",
       "                <span style=\"font-weight: bold\">}</span>,\n",
       "                <span style=\"color: #008000; text-decoration-color: #008000\">'_grid'</span>: <span style=\"font-weight: bold\">{</span><span style=\"color: #008000; text-decoration-color: #008000\">'n_neighbors'</span>: <span style=\"font-weight: bold\">[</span><span style=\"color: #008080; text-decoration-color: #008080; font-weight: bold\">2</span>, <span style=\"color: #008080; text-decoration-color: #008080; font-weight: bold\">5</span>, <span style=\"color: #008080; text-decoration-color: #008080; font-weight: bold\">10</span><span style=\"font-weight: bold\">]}</span>\n",
       "            <span style=\"font-weight: bold\">}</span>\n",
       "        <span style=\"font-weight: bold\">]</span>,\n",
       "        <span style=\"color: #008000; text-decoration-color: #008000\">'metrics'</span>: <span style=\"font-weight: bold\">[{</span><span style=\"color: #008000; text-decoration-color: #008000\">'clazz'</span>: <span style=\"color: #008000; text-decoration-color: #008000\">'F1'</span>, <span style=\"color: #008000; text-decoration-color: #008000\">'params'</span>: <span style=\"font-weight: bold\">{</span><span style=\"color: #008000; text-decoration-color: #008000\">'average'</span>: <span style=\"color: #008000; text-decoration-color: #008000\">'weighted'</span><span style=\"font-weight: bold\">}}]</span>,\n",
       "        <span style=\"color: #008000; text-decoration-color: #008000\">'overwrite'</span>: <span style=\"color: #ff0000; text-decoration-color: #ff0000; font-style: italic\">False</span>,\n",
       "        <span style=\"color: #008000; text-decoration-color: #008000\">'store'</span>: <span style=\"color: #ff0000; text-decoration-color: #ff0000; font-style: italic\">False</span>,\n",
       "        <span style=\"color: #008000; text-decoration-color: #008000\">'log'</span>: <span style=\"color: #ff0000; text-decoration-color: #ff0000; font-style: italic\">False</span>\n",
       "    <span style=\"font-weight: bold\">}</span>\n",
       "<span style=\"font-weight: bold\">}</span>\n",
       "</pre>\n"
      ],
      "text/plain": [
       "\u001b[1m{\u001b[0m\n",
       "    \u001b[32m'clazz'\u001b[0m: \u001b[32m'F3Pipeline'\u001b[0m,\n",
       "    \u001b[32m'params'\u001b[0m: \u001b[1m{\u001b[0m\n",
       "        \u001b[32m'filters'\u001b[0m: \u001b[1m[\u001b[0m\n",
       "            \u001b[1m{\u001b[0m\u001b[32m'clazz'\u001b[0m: \u001b[32m'PCAPlugin'\u001b[0m, \u001b[32m'params'\u001b[0m: \u001b[1m{\u001b[0m\u001b[32m'n_components'\u001b[0m: \u001b[1;36m2\u001b[0m\u001b[1m}\u001b[0m, \u001b[32m'_grid'\u001b[0m: \u001b[1m{\u001b[0m\u001b[32m'n_components'\u001b[0m: \u001b[1m[\u001b[0m\u001b[1;36m10\u001b[0m, \u001b[1;36m50\u001b[0m, \u001b[1;36m100\u001b[0m\u001b[1m]\u001b[0m\u001b[1m}\u001b[0m\u001b[1m}\u001b[0m,\n",
       "            \u001b[1m{\u001b[0m\n",
       "                \u001b[32m'clazz'\u001b[0m: \u001b[32m'KnnFilter'\u001b[0m,\n",
       "                \u001b[32m'params'\u001b[0m: \u001b[1m{\u001b[0m\n",
       "                    \u001b[32m'n_neighbors'\u001b[0m: \u001b[1;36m5\u001b[0m,\n",
       "                    \u001b[32m'weights'\u001b[0m: \u001b[32m'uniform'\u001b[0m,\n",
       "                    \u001b[32m'algorithm'\u001b[0m: \u001b[32m'auto'\u001b[0m,\n",
       "                    \u001b[32m'leaf_size'\u001b[0m: \u001b[1;36m30\u001b[0m,\n",
       "                    \u001b[32m'p'\u001b[0m: \u001b[1;36m2\u001b[0m,\n",
       "                    \u001b[32m'metric'\u001b[0m: \u001b[32m'minkowski'\u001b[0m,\n",
       "                    \u001b[32m'metric_params'\u001b[0m: \u001b[3;35mNone\u001b[0m,\n",
       "                    \u001b[32m'n_jobs'\u001b[0m: \u001b[3;35mNone\u001b[0m\n",
       "                \u001b[1m}\u001b[0m,\n",
       "                \u001b[32m'_grid'\u001b[0m: \u001b[1m{\u001b[0m\u001b[32m'n_neighbors'\u001b[0m: \u001b[1m[\u001b[0m\u001b[1;36m2\u001b[0m, \u001b[1;36m5\u001b[0m, \u001b[1;36m10\u001b[0m\u001b[1m]\u001b[0m\u001b[1m}\u001b[0m\n",
       "            \u001b[1m}\u001b[0m\n",
       "        \u001b[1m]\u001b[0m,\n",
       "        \u001b[32m'metrics'\u001b[0m: \u001b[1m[\u001b[0m\u001b[1m{\u001b[0m\u001b[32m'clazz'\u001b[0m: \u001b[32m'F1'\u001b[0m, \u001b[32m'params'\u001b[0m: \u001b[1m{\u001b[0m\u001b[32m'average'\u001b[0m: \u001b[32m'weighted'\u001b[0m\u001b[1m}\u001b[0m\u001b[1m}\u001b[0m\u001b[1m]\u001b[0m,\n",
       "        \u001b[32m'overwrite'\u001b[0m: \u001b[3;91mFalse\u001b[0m,\n",
       "        \u001b[32m'store'\u001b[0m: \u001b[3;91mFalse\u001b[0m,\n",
       "        \u001b[32m'log'\u001b[0m: \u001b[3;91mFalse\u001b[0m\n",
       "    \u001b[1m}\u001b[0m\n",
       "\u001b[1m}\u001b[0m\n"
      ]
     },
     "metadata": {},
     "output_type": "display_data"
    }
   ],
   "source": [
    "from framework3 import F1, KnnFilter, SklearnOptimizer\n",
    "from framework3.plugins.filters import PCAPlugin\n",
    "from framework3.plugins.pipelines.sequential import F3Pipeline\n",
    "\n",
    "\n",
    "grid_pipelin_v2 = F3Pipeline(\n",
    "    filters=[\n",
    "        PCAPlugin().grid({\"n_components\": [10, 50, 100]}),\n",
    "        KnnFilter().grid({\"n_neighbors\": [2, 5, 10]}),\n",
    "    ],\n",
    "    metrics=[F1()],\n",
    ").optimizer(SklearnOptimizer(scoring=\"f1_weighted\", cv=2))"
   ]
  },
  {
   "cell_type": "markdown",
   "id": "a925e6e3",
   "metadata": {},
   "source": [
    "Now lets update our main pipeline with this new pipeline."
   ]
  },
  {
   "cell_type": "code",
   "execution_count": 10,
   "id": "de4ada76",
   "metadata": {},
   "outputs": [],
   "source": [
    "final_pipeline = F3Pipeline(\n",
    "    filters=[Cached(llm, cache_data=True, cache_filter=False), grid_pipelin_v2],\n",
    "    metrics=[F1(), Precission(), Recall()],\n",
    ")"
   ]
  },
  {
   "cell_type": "markdown",
   "id": "9f7ddc5a",
   "metadata": {},
   "source": [
    "Let's train and evaluate this modified pipeline and see what happend."
   ]
  },
  {
   "cell_type": "code",
   "execution_count": 11,
   "id": "673ac5fa",
   "metadata": {},
   "outputs": [
    {
     "data": {
      "text/html": [
       "<pre style=\"white-space:pre;overflow-x:auto;line-height:normal;font-family:Menlo,'DejaVu Sans Mono',consolas,'Courier New',monospace\">____________________________________________________________________________________________________\n",
       "Fitting pipeline<span style=\"color: #808000; text-decoration-color: #808000\">...</span>\n",
       "****************************************************************************************************\n",
       "</pre>\n"
      ],
      "text/plain": [
       "____________________________________________________________________________________________________\n",
       "Fitting pipeline\u001b[33m...\u001b[0m\n",
       "****************************************************************************************************\n"
      ]
     },
     "metadata": {},
     "output_type": "display_data"
    },
    {
     "data": {
      "text/html": [
       "<pre style=\"white-space:pre;overflow-x:auto;line-height:normal;font-family:Menlo,'DejaVu Sans Mono',consolas,'Courier New',monospace\">        *<span style=\"color: #800080; text-decoration-color: #800080; font-weight: bold\">Cached</span><span style=\"font-weight: bold\">({</span><span style=\"color: #008000; text-decoration-color: #008000\">'filter'</span>: <span style=\"color: #800080; text-decoration-color: #800080; font-weight: bold\">HuggingFaceSentenceTransformerPlugin</span><span style=\"font-weight: bold\">({</span><span style=\"color: #008000; text-decoration-color: #008000\">'model_name'</span>: \n",
       "<span style=\"color: #008000; text-decoration-color: #008000\">'sentence-transformers/all-mpnet-base-v2'</span><span style=\"font-weight: bold\">})</span>, <span style=\"color: #008000; text-decoration-color: #008000\">'cache_data'</span>: <span style=\"color: #00ff00; text-decoration-color: #00ff00; font-style: italic\">True</span>, <span style=\"color: #008000; text-decoration-color: #008000\">'cache_filter'</span>: <span style=\"color: #ff0000; text-decoration-color: #ff0000; font-style: italic\">False</span>, <span style=\"color: #008000; text-decoration-color: #008000\">'overwrite'</span>: <span style=\"color: #ff0000; text-decoration-color: #ff0000; font-style: italic\">False</span>, \n",
       "<span style=\"color: #008000; text-decoration-color: #008000\">'storage'</span>: <span style=\"color: #800080; text-decoration-color: #800080; font-style: italic\">None</span><span style=\"font-weight: bold\">})</span>\n",
       "</pre>\n"
      ],
      "text/plain": [
       "        *\u001b[1;35mCached\u001b[0m\u001b[1m(\u001b[0m\u001b[1m{\u001b[0m\u001b[32m'filter'\u001b[0m: \u001b[1;35mHuggingFaceSentenceTransformerPlugin\u001b[0m\u001b[1m(\u001b[0m\u001b[1m{\u001b[0m\u001b[32m'model_name'\u001b[0m: \n",
       "\u001b[32m'sentence-transformers/all-mpnet-base-v2'\u001b[0m\u001b[1m}\u001b[0m\u001b[1m)\u001b[0m, \u001b[32m'cache_data'\u001b[0m: \u001b[3;92mTrue\u001b[0m, \u001b[32m'cache_filter'\u001b[0m: \u001b[3;91mFalse\u001b[0m, \u001b[32m'overwrite'\u001b[0m: \u001b[3;91mFalse\u001b[0m, \n",
       "\u001b[32m'storage'\u001b[0m: \u001b[3;35mNone\u001b[0m\u001b[1m}\u001b[0m\u001b[1m)\u001b[0m\n"
      ]
     },
     "metadata": {},
     "output_type": "display_data"
    },
    {
     "data": {
      "text/html": [
       "<pre style=\"white-space:pre;overflow-x:auto;line-height:normal;font-family:Menlo,'DejaVu Sans Mono',consolas,'Courier New',monospace\">         - El filtro <span style=\"color: #800080; text-decoration-color: #800080; font-weight: bold\">HuggingFaceSentenceTransformerPlugin</span><span style=\"font-weight: bold\">({</span><span style=\"color: #008000; text-decoration-color: #008000\">'model_name'</span>: \n",
       "<span style=\"color: #008000; text-decoration-color: #008000\">'sentence-transformers/all-mpnet-base-v2'</span><span style=\"font-weight: bold\">})</span> con hash cd52a2089d77df27ae1a888d97422cd38e3bb01a No existe, se va a \n",
       "entrenar.\n",
       "</pre>\n"
      ],
      "text/plain": [
       "         - El filtro \u001b[1;35mHuggingFaceSentenceTransformerPlugin\u001b[0m\u001b[1m(\u001b[0m\u001b[1m{\u001b[0m\u001b[32m'model_name'\u001b[0m: \n",
       "\u001b[32m'sentence-transformers/all-mpnet-base-v2'\u001b[0m\u001b[1m}\u001b[0m\u001b[1m)\u001b[0m con hash cd52a2089d77df27ae1a888d97422cd38e3bb01a No existe, se va a \n",
       "entrenar.\n"
      ]
     },
     "metadata": {},
     "output_type": "display_data"
    },
    {
     "data": {
      "text/html": [
       "<pre style=\"white-space:pre;overflow-x:auto;line-height:normal;font-family:Menlo,'DejaVu Sans Mono',consolas,'Courier New',monospace\">         - El dato <span style=\"color: #800080; text-decoration-color: #800080; font-weight: bold\">XYData</span><span style=\"font-weight: bold\">(</span><span style=\"color: #808000; text-decoration-color: #808000\">_hash</span>=<span style=\"color: #008000; text-decoration-color: #008000\">'0bb5f0568e0be233f4dfc5bbe7e893a6369f353e'</span>, \n",
       "<span style=\"color: #808000; text-decoration-color: #808000\">_path</span>=<span style=\"color: #008000; text-decoration-color: #008000\">'HuggingFaceSentenceTransformerPlugin/cd52a2089d77df27ae1a888d97422cd38e3bb01a'</span><span style=\"font-weight: bold\">)</span> Existe, se crea lambda.\n",
       "</pre>\n"
      ],
      "text/plain": [
       "         - El dato \u001b[1;35mXYData\u001b[0m\u001b[1m(\u001b[0m\u001b[33m_hash\u001b[0m=\u001b[32m'0bb5f0568e0be233f4dfc5bbe7e893a6369f353e'\u001b[0m, \n",
       "\u001b[33m_path\u001b[0m=\u001b[32m'HuggingFaceSentenceTransformerPlugin/cd52a2089d77df27ae1a888d97422cd38e3bb01a'\u001b[0m\u001b[1m)\u001b[0m Existe, se crea lambda.\n"
      ]
     },
     "metadata": {},
     "output_type": "display_data"
    },
    {
     "data": {
      "text/html": [
       "<pre style=\"white-space:pre;overflow-x:auto;line-height:normal;font-family:Menlo,'DejaVu Sans Mono',consolas,'Courier New',monospace\">        *<span style=\"color: #800080; text-decoration-color: #800080; font-weight: bold\">SklearnOptimizer</span><span style=\"font-weight: bold\">({</span><span style=\"color: #008000; text-decoration-color: #008000\">'scoring'</span>: <span style=\"color: #008000; text-decoration-color: #008000\">'f1_weighted'</span>, <span style=\"color: #008000; text-decoration-color: #008000\">'cv'</span>: <span style=\"color: #008080; text-decoration-color: #008080; font-weight: bold\">2</span>, <span style=\"color: #008000; text-decoration-color: #008000\">'pipeline'</span>: <span style=\"color: #800080; text-decoration-color: #800080; font-weight: bold\">F3Pipeline</span><span style=\"font-weight: bold\">({</span><span style=\"color: #008000; text-decoration-color: #008000\">'filters'</span>: \n",
       "<span style=\"font-weight: bold\">[</span><span style=\"color: #800080; text-decoration-color: #800080; font-weight: bold\">PCAPlugin</span><span style=\"font-weight: bold\">({</span><span style=\"color: #008000; text-decoration-color: #008000\">'n_components'</span>: <span style=\"color: #008080; text-decoration-color: #008080; font-weight: bold\">2</span><span style=\"font-weight: bold\">})</span>, <span style=\"color: #800080; text-decoration-color: #800080; font-weight: bold\">KnnFilter</span><span style=\"font-weight: bold\">({</span><span style=\"color: #008000; text-decoration-color: #008000\">'n_neighbors'</span>: <span style=\"color: #008080; text-decoration-color: #008080; font-weight: bold\">5</span>, <span style=\"color: #008000; text-decoration-color: #008000\">'weights'</span>: <span style=\"color: #008000; text-decoration-color: #008000\">'uniform'</span>, <span style=\"color: #008000; text-decoration-color: #008000\">'algorithm'</span>: <span style=\"color: #008000; text-decoration-color: #008000\">'auto'</span>, \n",
       "<span style=\"color: #008000; text-decoration-color: #008000\">'leaf_size'</span>: <span style=\"color: #008080; text-decoration-color: #008080; font-weight: bold\">30</span>, <span style=\"color: #008000; text-decoration-color: #008000\">'p'</span>: <span style=\"color: #008080; text-decoration-color: #008080; font-weight: bold\">2</span>, <span style=\"color: #008000; text-decoration-color: #008000\">'metric'</span>: <span style=\"color: #008000; text-decoration-color: #008000\">'minkowski'</span>, <span style=\"color: #008000; text-decoration-color: #008000\">'metric_params'</span>: <span style=\"color: #800080; text-decoration-color: #800080; font-style: italic\">None</span>, <span style=\"color: #008000; text-decoration-color: #008000\">'n_jobs'</span>: <span style=\"color: #800080; text-decoration-color: #800080; font-style: italic\">None</span><span style=\"font-weight: bold\">})]</span>, <span style=\"color: #008000; text-decoration-color: #008000\">'metrics'</span>: \n",
       "<span style=\"font-weight: bold\">[</span><span style=\"color: #800080; text-decoration-color: #800080; font-weight: bold\">F1</span><span style=\"font-weight: bold\">({</span><span style=\"color: #008000; text-decoration-color: #008000\">'average'</span>: <span style=\"color: #008000; text-decoration-color: #008000\">'weighted'</span><span style=\"font-weight: bold\">})]</span>, <span style=\"color: #008000; text-decoration-color: #008000\">'overwrite'</span>: <span style=\"color: #ff0000; text-decoration-color: #ff0000; font-style: italic\">False</span>, <span style=\"color: #008000; text-decoration-color: #008000\">'store'</span>: <span style=\"color: #ff0000; text-decoration-color: #ff0000; font-style: italic\">False</span>, <span style=\"color: #008000; text-decoration-color: #008000\">'log'</span>: <span style=\"color: #ff0000; text-decoration-color: #ff0000; font-style: italic\">False</span><span style=\"font-weight: bold\">})})</span>\n",
       "</pre>\n"
      ],
      "text/plain": [
       "        *\u001b[1;35mSklearnOptimizer\u001b[0m\u001b[1m(\u001b[0m\u001b[1m{\u001b[0m\u001b[32m'scoring'\u001b[0m: \u001b[32m'f1_weighted'\u001b[0m, \u001b[32m'cv'\u001b[0m: \u001b[1;36m2\u001b[0m, \u001b[32m'pipeline'\u001b[0m: \u001b[1;35mF3Pipeline\u001b[0m\u001b[1m(\u001b[0m\u001b[1m{\u001b[0m\u001b[32m'filters'\u001b[0m: \n",
       "\u001b[1m[\u001b[0m\u001b[1;35mPCAPlugin\u001b[0m\u001b[1m(\u001b[0m\u001b[1m{\u001b[0m\u001b[32m'n_components'\u001b[0m: \u001b[1;36m2\u001b[0m\u001b[1m}\u001b[0m\u001b[1m)\u001b[0m, \u001b[1;35mKnnFilter\u001b[0m\u001b[1m(\u001b[0m\u001b[1m{\u001b[0m\u001b[32m'n_neighbors'\u001b[0m: \u001b[1;36m5\u001b[0m, \u001b[32m'weights'\u001b[0m: \u001b[32m'uniform'\u001b[0m, \u001b[32m'algorithm'\u001b[0m: \u001b[32m'auto'\u001b[0m, \n",
       "\u001b[32m'leaf_size'\u001b[0m: \u001b[1;36m30\u001b[0m, \u001b[32m'p'\u001b[0m: \u001b[1;36m2\u001b[0m, \u001b[32m'metric'\u001b[0m: \u001b[32m'minkowski'\u001b[0m, \u001b[32m'metric_params'\u001b[0m: \u001b[3;35mNone\u001b[0m, \u001b[32m'n_jobs'\u001b[0m: \u001b[3;35mNone\u001b[0m\u001b[1m}\u001b[0m\u001b[1m)\u001b[0m\u001b[1m]\u001b[0m, \u001b[32m'metrics'\u001b[0m: \n",
       "\u001b[1m[\u001b[0m\u001b[1;35mF1\u001b[0m\u001b[1m(\u001b[0m\u001b[1m{\u001b[0m\u001b[32m'average'\u001b[0m: \u001b[32m'weighted'\u001b[0m\u001b[1m}\u001b[0m\u001b[1m)\u001b[0m\u001b[1m]\u001b[0m, \u001b[32m'overwrite'\u001b[0m: \u001b[3;91mFalse\u001b[0m, \u001b[32m'store'\u001b[0m: \u001b[3;91mFalse\u001b[0m, \u001b[32m'log'\u001b[0m: \u001b[3;91mFalse\u001b[0m\u001b[1m}\u001b[0m\u001b[1m)\u001b[0m\u001b[1m}\u001b[0m\u001b[1m)\u001b[0m\n"
      ]
     },
     "metadata": {},
     "output_type": "display_data"
    },
    {
     "name": "stdout",
     "output_type": "stream",
     "text": [
      "\t * Downloading: <_io.BufferedReader name='cache/HuggingFaceSentenceTransformerPlugin/cd52a2089d77df27ae1a888d97422cd38e3bb01a/0bb5f0568e0be233f4dfc5bbe7e893a6369f353e'>\n",
      "Fitting 2 folds for each of 9 candidates, totalling 18 fits\n"
     ]
    },
    {
     "data": {
      "text/html": [
       "<pre style=\"white-space:pre;overflow-x:auto;line-height:normal;font-family:Menlo,'DejaVu Sans Mono',consolas,'Courier New',monospace\">____________________________________________________________________________________________________\n",
       "Predicting pipeline<span style=\"color: #808000; text-decoration-color: #808000\">...</span>\n",
       "****************************************************************************************************\n",
       "</pre>\n"
      ],
      "text/plain": [
       "____________________________________________________________________________________________________\n",
       "Predicting pipeline\u001b[33m...\u001b[0m\n",
       "****************************************************************************************************\n"
      ]
     },
     "metadata": {},
     "output_type": "display_data"
    },
    {
     "data": {
      "text/html": [
       "<pre style=\"white-space:pre;overflow-x:auto;line-height:normal;font-family:Menlo,'DejaVu Sans Mono',consolas,'Courier New',monospace\">        *<span style=\"color: #800080; text-decoration-color: #800080; font-weight: bold\">Cached</span><span style=\"font-weight: bold\">({</span><span style=\"color: #008000; text-decoration-color: #008000\">'filter'</span>: <span style=\"color: #800080; text-decoration-color: #800080; font-weight: bold\">HuggingFaceSentenceTransformerPlugin</span><span style=\"font-weight: bold\">({</span><span style=\"color: #008000; text-decoration-color: #008000\">'model_name'</span>: \n",
       "<span style=\"color: #008000; text-decoration-color: #008000\">'sentence-transformers/all-mpnet-base-v2'</span><span style=\"font-weight: bold\">})</span>, <span style=\"color: #008000; text-decoration-color: #008000\">'cache_data'</span>: <span style=\"color: #00ff00; text-decoration-color: #00ff00; font-style: italic\">True</span>, <span style=\"color: #008000; text-decoration-color: #008000\">'cache_filter'</span>: <span style=\"color: #ff0000; text-decoration-color: #ff0000; font-style: italic\">False</span>, <span style=\"color: #008000; text-decoration-color: #008000\">'overwrite'</span>: <span style=\"color: #ff0000; text-decoration-color: #ff0000; font-style: italic\">False</span>, \n",
       "<span style=\"color: #008000; text-decoration-color: #008000\">'storage'</span>: <span style=\"color: #800080; text-decoration-color: #800080; font-style: italic\">None</span><span style=\"font-weight: bold\">})</span>\n",
       "</pre>\n"
      ],
      "text/plain": [
       "        *\u001b[1;35mCached\u001b[0m\u001b[1m(\u001b[0m\u001b[1m{\u001b[0m\u001b[32m'filter'\u001b[0m: \u001b[1;35mHuggingFaceSentenceTransformerPlugin\u001b[0m\u001b[1m(\u001b[0m\u001b[1m{\u001b[0m\u001b[32m'model_name'\u001b[0m: \n",
       "\u001b[32m'sentence-transformers/all-mpnet-base-v2'\u001b[0m\u001b[1m}\u001b[0m\u001b[1m)\u001b[0m, \u001b[32m'cache_data'\u001b[0m: \u001b[3;92mTrue\u001b[0m, \u001b[32m'cache_filter'\u001b[0m: \u001b[3;91mFalse\u001b[0m, \u001b[32m'overwrite'\u001b[0m: \u001b[3;91mFalse\u001b[0m, \n",
       "\u001b[32m'storage'\u001b[0m: \u001b[3;35mNone\u001b[0m\u001b[1m}\u001b[0m\u001b[1m)\u001b[0m\n"
      ]
     },
     "metadata": {},
     "output_type": "display_data"
    },
    {
     "data": {
      "text/html": [
       "<pre style=\"white-space:pre;overflow-x:auto;line-height:normal;font-family:Menlo,'DejaVu Sans Mono',consolas,'Courier New',monospace\">         - El dato <span style=\"color: #800080; text-decoration-color: #800080; font-weight: bold\">XYData</span><span style=\"font-weight: bold\">(</span><span style=\"color: #808000; text-decoration-color: #808000\">_hash</span>=<span style=\"color: #008000; text-decoration-color: #008000\">'68fc2995310bba822e143578b3f4ee9ddd9f212e'</span>, \n",
       "<span style=\"color: #808000; text-decoration-color: #808000\">_path</span>=<span style=\"color: #008000; text-decoration-color: #008000\">'HuggingFaceSentenceTransformerPlugin/cd52a2089d77df27ae1a888d97422cd38e3bb01a'</span><span style=\"font-weight: bold\">)</span> Existe, se crea lambda.\n",
       "</pre>\n"
      ],
      "text/plain": [
       "         - El dato \u001b[1;35mXYData\u001b[0m\u001b[1m(\u001b[0m\u001b[33m_hash\u001b[0m=\u001b[32m'68fc2995310bba822e143578b3f4ee9ddd9f212e'\u001b[0m, \n",
       "\u001b[33m_path\u001b[0m=\u001b[32m'HuggingFaceSentenceTransformerPlugin/cd52a2089d77df27ae1a888d97422cd38e3bb01a'\u001b[0m\u001b[1m)\u001b[0m Existe, se crea lambda.\n"
      ]
     },
     "metadata": {},
     "output_type": "display_data"
    },
    {
     "data": {
      "text/html": [
       "<pre style=\"white-space:pre;overflow-x:auto;line-height:normal;font-family:Menlo,'DejaVu Sans Mono',consolas,'Courier New',monospace\">        *<span style=\"color: #800080; text-decoration-color: #800080; font-weight: bold\">SklearnOptimizer</span><span style=\"font-weight: bold\">({</span><span style=\"color: #008000; text-decoration-color: #008000\">'scoring'</span>: <span style=\"color: #008000; text-decoration-color: #008000\">'f1_weighted'</span>, <span style=\"color: #008000; text-decoration-color: #008000\">'cv'</span>: <span style=\"color: #008080; text-decoration-color: #008080; font-weight: bold\">2</span>, <span style=\"color: #008000; text-decoration-color: #008000\">'pipeline'</span>: <span style=\"color: #800080; text-decoration-color: #800080; font-weight: bold\">F3Pipeline</span><span style=\"font-weight: bold\">({</span><span style=\"color: #008000; text-decoration-color: #008000\">'filters'</span>: \n",
       "<span style=\"font-weight: bold\">[</span><span style=\"color: #800080; text-decoration-color: #800080; font-weight: bold\">PCAPlugin</span><span style=\"font-weight: bold\">({</span><span style=\"color: #008000; text-decoration-color: #008000\">'n_components'</span>: <span style=\"color: #008080; text-decoration-color: #008080; font-weight: bold\">2</span><span style=\"font-weight: bold\">})</span>, <span style=\"color: #800080; text-decoration-color: #800080; font-weight: bold\">KnnFilter</span><span style=\"font-weight: bold\">({</span><span style=\"color: #008000; text-decoration-color: #008000\">'n_neighbors'</span>: <span style=\"color: #008080; text-decoration-color: #008080; font-weight: bold\">5</span>, <span style=\"color: #008000; text-decoration-color: #008000\">'weights'</span>: <span style=\"color: #008000; text-decoration-color: #008000\">'uniform'</span>, <span style=\"color: #008000; text-decoration-color: #008000\">'algorithm'</span>: <span style=\"color: #008000; text-decoration-color: #008000\">'auto'</span>, \n",
       "<span style=\"color: #008000; text-decoration-color: #008000\">'leaf_size'</span>: <span style=\"color: #008080; text-decoration-color: #008080; font-weight: bold\">30</span>, <span style=\"color: #008000; text-decoration-color: #008000\">'p'</span>: <span style=\"color: #008080; text-decoration-color: #008080; font-weight: bold\">2</span>, <span style=\"color: #008000; text-decoration-color: #008000\">'metric'</span>: <span style=\"color: #008000; text-decoration-color: #008000\">'minkowski'</span>, <span style=\"color: #008000; text-decoration-color: #008000\">'metric_params'</span>: <span style=\"color: #800080; text-decoration-color: #800080; font-style: italic\">None</span>, <span style=\"color: #008000; text-decoration-color: #008000\">'n_jobs'</span>: <span style=\"color: #800080; text-decoration-color: #800080; font-style: italic\">None</span><span style=\"font-weight: bold\">})]</span>, <span style=\"color: #008000; text-decoration-color: #008000\">'metrics'</span>: \n",
       "<span style=\"font-weight: bold\">[</span><span style=\"color: #800080; text-decoration-color: #800080; font-weight: bold\">F1</span><span style=\"font-weight: bold\">({</span><span style=\"color: #008000; text-decoration-color: #008000\">'average'</span>: <span style=\"color: #008000; text-decoration-color: #008000\">'weighted'</span><span style=\"font-weight: bold\">})]</span>, <span style=\"color: #008000; text-decoration-color: #008000\">'overwrite'</span>: <span style=\"color: #ff0000; text-decoration-color: #ff0000; font-style: italic\">False</span>, <span style=\"color: #008000; text-decoration-color: #008000\">'store'</span>: <span style=\"color: #ff0000; text-decoration-color: #ff0000; font-style: italic\">False</span>, <span style=\"color: #008000; text-decoration-color: #008000\">'log'</span>: <span style=\"color: #ff0000; text-decoration-color: #ff0000; font-style: italic\">False</span><span style=\"font-weight: bold\">})})</span>\n",
       "</pre>\n"
      ],
      "text/plain": [
       "        *\u001b[1;35mSklearnOptimizer\u001b[0m\u001b[1m(\u001b[0m\u001b[1m{\u001b[0m\u001b[32m'scoring'\u001b[0m: \u001b[32m'f1_weighted'\u001b[0m, \u001b[32m'cv'\u001b[0m: \u001b[1;36m2\u001b[0m, \u001b[32m'pipeline'\u001b[0m: \u001b[1;35mF3Pipeline\u001b[0m\u001b[1m(\u001b[0m\u001b[1m{\u001b[0m\u001b[32m'filters'\u001b[0m: \n",
       "\u001b[1m[\u001b[0m\u001b[1;35mPCAPlugin\u001b[0m\u001b[1m(\u001b[0m\u001b[1m{\u001b[0m\u001b[32m'n_components'\u001b[0m: \u001b[1;36m2\u001b[0m\u001b[1m}\u001b[0m\u001b[1m)\u001b[0m, \u001b[1;35mKnnFilter\u001b[0m\u001b[1m(\u001b[0m\u001b[1m{\u001b[0m\u001b[32m'n_neighbors'\u001b[0m: \u001b[1;36m5\u001b[0m, \u001b[32m'weights'\u001b[0m: \u001b[32m'uniform'\u001b[0m, \u001b[32m'algorithm'\u001b[0m: \u001b[32m'auto'\u001b[0m, \n",
       "\u001b[32m'leaf_size'\u001b[0m: \u001b[1;36m30\u001b[0m, \u001b[32m'p'\u001b[0m: \u001b[1;36m2\u001b[0m, \u001b[32m'metric'\u001b[0m: \u001b[32m'minkowski'\u001b[0m, \u001b[32m'metric_params'\u001b[0m: \u001b[3;35mNone\u001b[0m, \u001b[32m'n_jobs'\u001b[0m: \u001b[3;35mNone\u001b[0m\u001b[1m}\u001b[0m\u001b[1m)\u001b[0m\u001b[1m]\u001b[0m, \u001b[32m'metrics'\u001b[0m: \n",
       "\u001b[1m[\u001b[0m\u001b[1;35mF1\u001b[0m\u001b[1m(\u001b[0m\u001b[1m{\u001b[0m\u001b[32m'average'\u001b[0m: \u001b[32m'weighted'\u001b[0m\u001b[1m}\u001b[0m\u001b[1m)\u001b[0m\u001b[1m]\u001b[0m, \u001b[32m'overwrite'\u001b[0m: \u001b[3;91mFalse\u001b[0m, \u001b[32m'store'\u001b[0m: \u001b[3;91mFalse\u001b[0m, \u001b[32m'log'\u001b[0m: \u001b[3;91mFalse\u001b[0m\u001b[1m}\u001b[0m\u001b[1m)\u001b[0m\u001b[1m}\u001b[0m\u001b[1m)\u001b[0m\n"
      ]
     },
     "metadata": {},
     "output_type": "display_data"
    },
    {
     "name": "stdout",
     "output_type": "stream",
     "text": [
      "\t * Downloading: <_io.BufferedReader name='cache/HuggingFaceSentenceTransformerPlugin/cd52a2089d77df27ae1a888d97422cd38e3bb01a/68fc2995310bba822e143578b3f4ee9ddd9f212e'>\n"
     ]
    }
   ],
   "source": [
    "final_pipeline.fit(X_train, y_train)\n",
    "_y = final_pipeline.predict(X_test)"
   ]
  },
  {
   "cell_type": "code",
   "execution_count": 12,
   "id": "0654e24f",
   "metadata": {},
   "outputs": [
    {
     "data": {
      "text/html": [
       "<pre style=\"white-space:pre;overflow-x:auto;line-height:normal;font-family:Menlo,'DejaVu Sans Mono',consolas,'Courier New',monospace\">____________________________________________________________________________________________________\n",
       "Evaluating pipeline<span style=\"color: #808000; text-decoration-color: #808000\">......</span>\n",
       "****************************************************************************************************\n",
       "</pre>\n"
      ],
      "text/plain": [
       "____________________________________________________________________________________________________\n",
       "Evaluating pipeline\u001b[33m...\u001b[0m\u001b[33m...\u001b[0m\n",
       "****************************************************************************************************\n"
      ]
     },
     "metadata": {},
     "output_type": "display_data"
    },
    {
     "data": {
      "text/plain": [
       "{'F1': 0.8090253572616752,\n",
       " 'Precission': 0.8127742649585784,\n",
       " 'Recall': 0.8090812533191716}"
      ]
     },
     "execution_count": 12,
     "metadata": {},
     "output_type": "execute_result"
    }
   ],
   "source": [
    "final_pipeline.evaluate(X_test, y_test, _y)"
   ]
  },
  {
   "cell_type": "markdown",
   "id": "7813ac15",
   "metadata": {},
   "source": [
    "As you can see, the F3 has used the cached data from the first pipeline, so it's faster and less resource consuming."
   ]
  }
 ],
 "metadata": {
  "kernelspec": {
   "display_name": "venv",
   "language": "python",
   "name": "python3"
  },
  "language_info": {
   "codemirror_mode": {
    "name": "ipython",
    "version": 3
   },
   "file_extension": ".py",
   "mimetype": "text/x-python",
   "name": "python",
   "nbconvert_exporter": "python",
   "pygments_lexer": "ipython3",
   "version": "3.11.5"
  }
 },
 "nbformat": 4,
 "nbformat_minor": 5
}
