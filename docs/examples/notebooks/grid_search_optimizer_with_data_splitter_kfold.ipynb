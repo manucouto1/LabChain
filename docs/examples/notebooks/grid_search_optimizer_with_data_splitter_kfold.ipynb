{
 "cells": [
  {
   "cell_type": "markdown",
   "id": "2536e0f5",
   "metadata": {},
   "source": [
    "# Grid Optimizer\n",
    "## How to perform cross validation and hiperparameter optimization with Grid search"
   ]
  },
  {
   "cell_type": "markdown",
   "id": "9aff8158",
   "metadata": {},
   "source": [
    "If you have seen the tutorial [Reuse Data](notebooks/caching_heavy_data.ipynb) you mai noticed that we've use a standard sklean optimizer for hyperparameter tuning. This is fine for many uses cases, but it might not be the best choice for somo others. "
   ]
  },
  {
   "cell_type": "markdown",
   "id": "ff5257dc",
   "metadata": {},
   "source": [
    "### We will use a simple pipeline for the iris dataset."
   ]
  },
  {
   "cell_type": "code",
   "execution_count": 1,
   "id": "2319ce20",
   "metadata": {},
   "outputs": [
    {
     "name": "stdout",
     "output_type": "stream",
     "text": [
      "✅ Patched inspect.getsource using dill.\n"
     ]
    }
   ],
   "source": [
    "from framework3.utils.patch_type_guard import patch_inspect_for_notebooks\n",
    "\n",
    "patch_inspect_for_notebooks()"
   ]
  },
  {
   "cell_type": "code",
   "execution_count": 2,
   "id": "344af93d",
   "metadata": {},
   "outputs": [],
   "source": [
    "from sklearn import datasets\n",
    "from framework3.base.base_clases import XYData\n",
    "\n",
    "iris = datasets.load_iris()\n",
    "\n",
    "\n",
    "X_train, X_test, y_train, y_test = XYData(\n",
    "    _hash=\"Iris \", _path=\"/dataset\", _value=[]\n",
    ").train_test_split(\n",
    "    iris.data,\n",
    "    iris.target,\n",
    "    test_size=0.2,\n",
    "    random_state=42,  # type: ignore\n",
    ")"
   ]
  },
  {
   "cell_type": "markdown",
   "id": "8e8cae5b",
   "metadata": {},
   "source": [
    "### Then we will configure Grid Search for hyperparameter tuning and a Sklearn splitter for cross validation."
   ]
  },
  {
   "cell_type": "code",
   "execution_count": 3,
   "id": "f020eb15",
   "metadata": {},
   "outputs": [],
   "source": [
    "from framework3 import (\n",
    "    F1,\n",
    "    Cached,\n",
    "    F3Pipeline,\n",
    "    KnnFilter,\n",
    "    Precission,\n",
    "    StandardScalerPlugin,\n",
    ")\n",
    "from framework3.plugins.metrics.classification import Recall, XYData\n",
    "from framework3.plugins.optimizer.grid_optimizer import GridOptimizer\n",
    "from framework3.plugins.splitter.cross_validation_splitter import KFoldSplitter\n",
    "\n",
    "\n",
    "wandb_pipeline = (\n",
    "    F3Pipeline(\n",
    "        filters=[\n",
    "            Cached(StandardScalerPlugin()),\n",
    "            KnnFilter().grid({\"n_neighbors\": [2, 3, 4, 5, 6]}),\n",
    "        ],\n",
    "        metrics=[F1(), Precission(), Recall()],\n",
    "    )\n",
    "    .splitter(\n",
    "        KFoldSplitter(\n",
    "            n_splits=2,\n",
    "            shuffle=True,\n",
    "            random_state=42,\n",
    "        )\n",
    "    )\n",
    "    .optimizer(GridOptimizer(scoring=F1()))\n",
    ")"
   ]
  },
  {
   "cell_type": "code",
   "execution_count": 4,
   "id": "00630996",
   "metadata": {},
   "outputs": [
    {
     "name": "stdout",
     "output_type": "stream",
     "text": [
      "{'KnnFilter': {'n_neighbors': [2, 3, 4, 5, 6]}}\n",
      "{'KnnFilter': {'n_neighbors': 2}}\n",
      "{'KnnFilter': {'n_neighbors': 3}}\n",
      "{'KnnFilter': {'n_neighbors': 4}}\n",
      "{'KnnFilter': {'n_neighbors': 5}}\n",
      "{'KnnFilter': {'n_neighbors': 6}}\n"
     ]
    },
    {
     "data": {
      "text/html": [
       "<pre style=\"white-space:pre;overflow-x:auto;line-height:normal;font-family:Menlo,'DejaVu Sans Mono',consolas,'Courier New',monospace\">____________________________________________________________________________________________________\n",
       "Fitting pipeline<span style=\"color: #808000; text-decoration-color: #808000\">...</span>\n",
       "****************************************************************************************************\n",
       "</pre>\n"
      ],
      "text/plain": [
       "____________________________________________________________________________________________________\n",
       "Fitting pipeline\u001b[33m...\u001b[0m\n",
       "****************************************************************************************************\n"
      ]
     },
     "metadata": {},
     "output_type": "display_data"
    },
    {
     "data": {
      "text/html": [
       "<pre style=\"white-space:pre;overflow-x:auto;line-height:normal;font-family:Menlo,'DejaVu Sans Mono',consolas,'Courier New',monospace\"><span style=\"color: #800080; text-decoration-color: #800080; font-weight: bold\">Cached</span><span style=\"font-weight: bold\">(</span><span style=\"color: #808000; text-decoration-color: #808000\">filter</span>=<span style=\"color: #800080; text-decoration-color: #800080; font-weight: bold\">StandardScalerPlugin</span><span style=\"font-weight: bold\">()</span>, <span style=\"color: #808000; text-decoration-color: #808000\">cache_data</span>=<span style=\"color: #00ff00; text-decoration-color: #00ff00; font-style: italic\">True</span>, <span style=\"color: #808000; text-decoration-color: #808000\">cache_filter</span>=<span style=\"color: #00ff00; text-decoration-color: #00ff00; font-style: italic\">True</span>, <span style=\"color: #808000; text-decoration-color: #808000\">overwrite</span>=<span style=\"color: #ff0000; text-decoration-color: #ff0000; font-style: italic\">False</span>, <span style=\"color: #808000; text-decoration-color: #808000\">storage</span>=<span style=\"color: #800080; text-decoration-color: #800080; font-style: italic\">None</span><span style=\"font-weight: bold\">)</span>\n",
       "</pre>\n"
      ],
      "text/plain": [
       "\u001b[1;35mCached\u001b[0m\u001b[1m(\u001b[0m\u001b[33mfilter\u001b[0m=\u001b[1;35mStandardScalerPlugin\u001b[0m\u001b[1m(\u001b[0m\u001b[1m)\u001b[0m, \u001b[33mcache_data\u001b[0m=\u001b[3;92mTrue\u001b[0m, \u001b[33mcache_filter\u001b[0m=\u001b[3;92mTrue\u001b[0m, \u001b[33moverwrite\u001b[0m=\u001b[3;91mFalse\u001b[0m, \u001b[33mstorage\u001b[0m=\u001b[3;35mNone\u001b[0m\u001b[1m)\u001b[0m\n"
      ]
     },
     "metadata": {},
     "output_type": "display_data"
    },
    {
     "data": {
      "text/html": [
       "<pre style=\"white-space:pre;overflow-x:auto;line-height:normal;font-family:Menlo,'DejaVu Sans Mono',consolas,'Courier New',monospace\">         - El filtro <span style=\"color: #800080; text-decoration-color: #800080; font-weight: bold\">StandardScalerPlugin</span><span style=\"font-weight: bold\">({})</span> Existe, se carga del storage.\n",
       "</pre>\n"
      ],
      "text/plain": [
       "         - El filtro \u001b[1;35mStandardScalerPlugin\u001b[0m\u001b[1m(\u001b[0m\u001b[1m{\u001b[0m\u001b[1m}\u001b[0m\u001b[1m)\u001b[0m Existe, se carga del storage.\n"
      ]
     },
     "metadata": {},
     "output_type": "display_data"
    },
    {
     "data": {
      "text/html": [
       "<pre style=\"white-space:pre;overflow-x:auto;line-height:normal;font-family:Menlo,'DejaVu Sans Mono',consolas,'Courier New',monospace\">         - El dato <span style=\"color: #800080; text-decoration-color: #800080; font-weight: bold\">XYData</span><span style=\"font-weight: bold\">(</span><span style=\"color: #808000; text-decoration-color: #808000\">_hash</span>=<span style=\"color: #008000; text-decoration-color: #008000\">'8cf971f3f80c552a61c115451c6de5ed26ac6c9d'</span>, \n",
       "<span style=\"color: #808000; text-decoration-color: #808000\">_path</span>=<span style=\"color: #008000; text-decoration-color: #008000\">'StandardScalerPlugin/0f98887c2bd6020b824a410979d85cbf1d8ebfd4'</span><span style=\"font-weight: bold\">)</span> Existe, se carga del storage.\n",
       "</pre>\n"
      ],
      "text/plain": [
       "         - El dato \u001b[1;35mXYData\u001b[0m\u001b[1m(\u001b[0m\u001b[33m_hash\u001b[0m=\u001b[32m'8cf971f3f80c552a61c115451c6de5ed26ac6c9d'\u001b[0m, \n",
       "\u001b[33m_path\u001b[0m=\u001b[32m'StandardScalerPlugin/0f98887c2bd6020b824a410979d85cbf1d8ebfd4'\u001b[0m\u001b[1m)\u001b[0m Existe, se carga del storage.\n"
      ]
     },
     "metadata": {},
     "output_type": "display_data"
    },
    {
     "data": {
      "text/html": [
       "<pre style=\"white-space:pre;overflow-x:auto;line-height:normal;font-family:Menlo,'DejaVu Sans Mono',consolas,'Courier New',monospace\"><span style=\"color: #800080; text-decoration-color: #800080; font-weight: bold\">KnnFilter</span><span style=\"font-weight: bold\">(</span>\n",
       "    <span style=\"color: #808000; text-decoration-color: #808000\">n_neighbors</span>=<span style=\"color: #008080; text-decoration-color: #008080; font-weight: bold\">4</span>,\n",
       "    <span style=\"color: #808000; text-decoration-color: #808000\">weights</span>=<span style=\"color: #008000; text-decoration-color: #008000\">'uniform'</span>,\n",
       "    <span style=\"color: #808000; text-decoration-color: #808000\">algorithm</span>=<span style=\"color: #008000; text-decoration-color: #008000\">'auto'</span>,\n",
       "    <span style=\"color: #808000; text-decoration-color: #808000\">leaf_size</span>=<span style=\"color: #008080; text-decoration-color: #008080; font-weight: bold\">30</span>,\n",
       "    <span style=\"color: #808000; text-decoration-color: #808000\">p</span>=<span style=\"color: #008080; text-decoration-color: #008080; font-weight: bold\">2</span>,\n",
       "    <span style=\"color: #808000; text-decoration-color: #808000\">metric</span>=<span style=\"color: #008000; text-decoration-color: #008000\">'minkowski'</span>,\n",
       "    <span style=\"color: #808000; text-decoration-color: #808000\">metric_params</span>=<span style=\"color: #800080; text-decoration-color: #800080; font-style: italic\">None</span>,\n",
       "    <span style=\"color: #808000; text-decoration-color: #808000\">n_jobs</span>=<span style=\"color: #800080; text-decoration-color: #800080; font-style: italic\">None</span>\n",
       "<span style=\"font-weight: bold\">)</span>\n",
       "</pre>\n"
      ],
      "text/plain": [
       "\u001b[1;35mKnnFilter\u001b[0m\u001b[1m(\u001b[0m\n",
       "    \u001b[33mn_neighbors\u001b[0m=\u001b[1;36m4\u001b[0m,\n",
       "    \u001b[33mweights\u001b[0m=\u001b[32m'uniform'\u001b[0m,\n",
       "    \u001b[33malgorithm\u001b[0m=\u001b[32m'auto'\u001b[0m,\n",
       "    \u001b[33mleaf_size\u001b[0m=\u001b[1;36m30\u001b[0m,\n",
       "    \u001b[33mp\u001b[0m=\u001b[1;36m2\u001b[0m,\n",
       "    \u001b[33mmetric\u001b[0m=\u001b[32m'minkowski'\u001b[0m,\n",
       "    \u001b[33mmetric_params\u001b[0m=\u001b[3;35mNone\u001b[0m,\n",
       "    \u001b[33mn_jobs\u001b[0m=\u001b[3;35mNone\u001b[0m\n",
       "\u001b[1m)\u001b[0m\n"
      ]
     },
     "metadata": {},
     "output_type": "display_data"
    },
    {
     "data": {
      "text/html": [
       "<pre style=\"white-space:pre;overflow-x:auto;line-height:normal;font-family:Menlo,'DejaVu Sans Mono',consolas,'Courier New',monospace\">____________________________________________________________________________________________________\n",
       "Predicting with KFold Splitter<span style=\"color: #808000; text-decoration-color: #808000\">......</span>\n",
       "****************************************************************************************************\n",
       "</pre>\n"
      ],
      "text/plain": [
       "____________________________________________________________________________________________________\n",
       "Predicting with KFold Splitter\u001b[33m...\u001b[0m\u001b[33m...\u001b[0m\n",
       "****************************************************************************************************\n"
      ]
     },
     "metadata": {},
     "output_type": "display_data"
    },
    {
     "data": {
      "text/html": [
       "<pre style=\"white-space:pre;overflow-x:auto;line-height:normal;font-family:Menlo,'DejaVu Sans Mono',consolas,'Courier New',monospace\"><span style=\"color: #800080; text-decoration-color: #800080; font-weight: bold\">F3Pipeline</span><span style=\"font-weight: bold\">(</span>\n",
       "    <span style=\"color: #808000; text-decoration-color: #808000\">filters</span>=<span style=\"font-weight: bold\">[</span>\n",
       "        <span style=\"color: #800080; text-decoration-color: #800080; font-weight: bold\">Cached</span><span style=\"font-weight: bold\">(</span><span style=\"color: #808000; text-decoration-color: #808000\">filter</span>=<span style=\"color: #800080; text-decoration-color: #800080; font-weight: bold\">StandardScalerPlugin</span><span style=\"font-weight: bold\">()</span>, <span style=\"color: #808000; text-decoration-color: #808000\">cache_data</span>=<span style=\"color: #00ff00; text-decoration-color: #00ff00; font-style: italic\">True</span>, <span style=\"color: #808000; text-decoration-color: #808000\">cache_filter</span>=<span style=\"color: #00ff00; text-decoration-color: #00ff00; font-style: italic\">True</span>, <span style=\"color: #808000; text-decoration-color: #808000\">overwrite</span>=<span style=\"color: #ff0000; text-decoration-color: #ff0000; font-style: italic\">False</span>, <span style=\"color: #808000; text-decoration-color: #808000\">storage</span>=<span style=\"color: #800080; text-decoration-color: #800080; font-style: italic\">None</span><span style=\"font-weight: bold\">)</span>,\n",
       "        <span style=\"color: #800080; text-decoration-color: #800080; font-weight: bold\">KnnFilter</span><span style=\"font-weight: bold\">(</span>\n",
       "            <span style=\"color: #808000; text-decoration-color: #808000\">n_neighbors</span>=<span style=\"color: #008080; text-decoration-color: #008080; font-weight: bold\">4</span>,\n",
       "            <span style=\"color: #808000; text-decoration-color: #808000\">weights</span>=<span style=\"color: #008000; text-decoration-color: #008000\">'uniform'</span>,\n",
       "            <span style=\"color: #808000; text-decoration-color: #808000\">algorithm</span>=<span style=\"color: #008000; text-decoration-color: #008000\">'auto'</span>,\n",
       "            <span style=\"color: #808000; text-decoration-color: #808000\">leaf_size</span>=<span style=\"color: #008080; text-decoration-color: #008080; font-weight: bold\">30</span>,\n",
       "            <span style=\"color: #808000; text-decoration-color: #808000\">p</span>=<span style=\"color: #008080; text-decoration-color: #008080; font-weight: bold\">2</span>,\n",
       "            <span style=\"color: #808000; text-decoration-color: #808000\">metric</span>=<span style=\"color: #008000; text-decoration-color: #008000\">'minkowski'</span>,\n",
       "            <span style=\"color: #808000; text-decoration-color: #808000\">metric_params</span>=<span style=\"color: #800080; text-decoration-color: #800080; font-style: italic\">None</span>,\n",
       "            <span style=\"color: #808000; text-decoration-color: #808000\">n_jobs</span>=<span style=\"color: #800080; text-decoration-color: #800080; font-style: italic\">None</span>\n",
       "        <span style=\"font-weight: bold\">)</span>\n",
       "    <span style=\"font-weight: bold\">]</span>,\n",
       "    <span style=\"color: #808000; text-decoration-color: #808000\">metrics</span>=<span style=\"font-weight: bold\">[</span><span style=\"color: #800080; text-decoration-color: #800080; font-weight: bold\">F1</span><span style=\"font-weight: bold\">(</span><span style=\"color: #808000; text-decoration-color: #808000\">average</span>=<span style=\"color: #008000; text-decoration-color: #008000\">'weighted'</span><span style=\"font-weight: bold\">)</span>, <span style=\"color: #800080; text-decoration-color: #800080; font-weight: bold\">Precission</span><span style=\"font-weight: bold\">(</span><span style=\"color: #808000; text-decoration-color: #808000\">average</span>=<span style=\"color: #008000; text-decoration-color: #008000\">'weighted'</span><span style=\"font-weight: bold\">)</span>, <span style=\"color: #800080; text-decoration-color: #800080; font-weight: bold\">Recall</span><span style=\"font-weight: bold\">(</span><span style=\"color: #808000; text-decoration-color: #808000\">average</span>=<span style=\"color: #008000; text-decoration-color: #008000\">'weighted'</span><span style=\"font-weight: bold\">)]</span>,\n",
       "    <span style=\"color: #808000; text-decoration-color: #808000\">overwrite</span>=<span style=\"color: #ff0000; text-decoration-color: #ff0000; font-style: italic\">False</span>,\n",
       "    <span style=\"color: #808000; text-decoration-color: #808000\">store</span>=<span style=\"color: #ff0000; text-decoration-color: #ff0000; font-style: italic\">False</span>,\n",
       "    <span style=\"color: #808000; text-decoration-color: #808000\">log</span>=<span style=\"color: #ff0000; text-decoration-color: #ff0000; font-style: italic\">False</span>\n",
       "<span style=\"font-weight: bold\">)</span>\n",
       "</pre>\n"
      ],
      "text/plain": [
       "\u001b[1;35mF3Pipeline\u001b[0m\u001b[1m(\u001b[0m\n",
       "    \u001b[33mfilters\u001b[0m=\u001b[1m[\u001b[0m\n",
       "        \u001b[1;35mCached\u001b[0m\u001b[1m(\u001b[0m\u001b[33mfilter\u001b[0m=\u001b[1;35mStandardScalerPlugin\u001b[0m\u001b[1m(\u001b[0m\u001b[1m)\u001b[0m, \u001b[33mcache_data\u001b[0m=\u001b[3;92mTrue\u001b[0m, \u001b[33mcache_filter\u001b[0m=\u001b[3;92mTrue\u001b[0m, \u001b[33moverwrite\u001b[0m=\u001b[3;91mFalse\u001b[0m, \u001b[33mstorage\u001b[0m=\u001b[3;35mNone\u001b[0m\u001b[1m)\u001b[0m,\n",
       "        \u001b[1;35mKnnFilter\u001b[0m\u001b[1m(\u001b[0m\n",
       "            \u001b[33mn_neighbors\u001b[0m=\u001b[1;36m4\u001b[0m,\n",
       "            \u001b[33mweights\u001b[0m=\u001b[32m'uniform'\u001b[0m,\n",
       "            \u001b[33malgorithm\u001b[0m=\u001b[32m'auto'\u001b[0m,\n",
       "            \u001b[33mleaf_size\u001b[0m=\u001b[1;36m30\u001b[0m,\n",
       "            \u001b[33mp\u001b[0m=\u001b[1;36m2\u001b[0m,\n",
       "            \u001b[33mmetric\u001b[0m=\u001b[32m'minkowski'\u001b[0m,\n",
       "            \u001b[33mmetric_params\u001b[0m=\u001b[3;35mNone\u001b[0m,\n",
       "            \u001b[33mn_jobs\u001b[0m=\u001b[3;35mNone\u001b[0m\n",
       "        \u001b[1m)\u001b[0m\n",
       "    \u001b[1m]\u001b[0m,\n",
       "    \u001b[33mmetrics\u001b[0m=\u001b[1m[\u001b[0m\u001b[1;35mF1\u001b[0m\u001b[1m(\u001b[0m\u001b[33maverage\u001b[0m=\u001b[32m'weighted'\u001b[0m\u001b[1m)\u001b[0m, \u001b[1;35mPrecission\u001b[0m\u001b[1m(\u001b[0m\u001b[33maverage\u001b[0m=\u001b[32m'weighted'\u001b[0m\u001b[1m)\u001b[0m, \u001b[1;35mRecall\u001b[0m\u001b[1m(\u001b[0m\u001b[33maverage\u001b[0m=\u001b[32m'weighted'\u001b[0m\u001b[1m)\u001b[0m\u001b[1m]\u001b[0m,\n",
       "    \u001b[33moverwrite\u001b[0m=\u001b[3;91mFalse\u001b[0m,\n",
       "    \u001b[33mstore\u001b[0m=\u001b[3;91mFalse\u001b[0m,\n",
       "    \u001b[33mlog\u001b[0m=\u001b[3;91mFalse\u001b[0m\n",
       "\u001b[1m)\u001b[0m\n"
      ]
     },
     "metadata": {},
     "output_type": "display_data"
    },
    {
     "data": {
      "text/html": [
       "<pre style=\"white-space:pre;overflow-x:auto;line-height:normal;font-family:Menlo,'DejaVu Sans Mono',consolas,'Courier New',monospace\">____________________________________________________________________________________________________\n",
       "Predicting pipeline<span style=\"color: #808000; text-decoration-color: #808000\">...</span>\n",
       "****************************************************************************************************\n",
       "</pre>\n"
      ],
      "text/plain": [
       "____________________________________________________________________________________________________\n",
       "Predicting pipeline\u001b[33m...\u001b[0m\n",
       "****************************************************************************************************\n"
      ]
     },
     "metadata": {},
     "output_type": "display_data"
    },
    {
     "data": {
      "text/html": [
       "<pre style=\"white-space:pre;overflow-x:auto;line-height:normal;font-family:Menlo,'DejaVu Sans Mono',consolas,'Courier New',monospace\"><span style=\"color: #800080; text-decoration-color: #800080; font-weight: bold\">Cached</span><span style=\"font-weight: bold\">(</span><span style=\"color: #808000; text-decoration-color: #808000\">filter</span>=<span style=\"color: #800080; text-decoration-color: #800080; font-weight: bold\">StandardScalerPlugin</span><span style=\"font-weight: bold\">()</span>, <span style=\"color: #808000; text-decoration-color: #808000\">cache_data</span>=<span style=\"color: #00ff00; text-decoration-color: #00ff00; font-style: italic\">True</span>, <span style=\"color: #808000; text-decoration-color: #808000\">cache_filter</span>=<span style=\"color: #00ff00; text-decoration-color: #00ff00; font-style: italic\">True</span>, <span style=\"color: #808000; text-decoration-color: #808000\">overwrite</span>=<span style=\"color: #ff0000; text-decoration-color: #ff0000; font-style: italic\">False</span>, <span style=\"color: #808000; text-decoration-color: #808000\">storage</span>=<span style=\"color: #800080; text-decoration-color: #800080; font-style: italic\">None</span><span style=\"font-weight: bold\">)</span>\n",
       "</pre>\n"
      ],
      "text/plain": [
       "\u001b[1;35mCached\u001b[0m\u001b[1m(\u001b[0m\u001b[33mfilter\u001b[0m=\u001b[1;35mStandardScalerPlugin\u001b[0m\u001b[1m(\u001b[0m\u001b[1m)\u001b[0m, \u001b[33mcache_data\u001b[0m=\u001b[3;92mTrue\u001b[0m, \u001b[33mcache_filter\u001b[0m=\u001b[3;92mTrue\u001b[0m, \u001b[33moverwrite\u001b[0m=\u001b[3;91mFalse\u001b[0m, \u001b[33mstorage\u001b[0m=\u001b[3;35mNone\u001b[0m\u001b[1m)\u001b[0m\n"
      ]
     },
     "metadata": {},
     "output_type": "display_data"
    },
    {
     "data": {
      "text/html": [
       "<pre style=\"white-space:pre;overflow-x:auto;line-height:normal;font-family:Menlo,'DejaVu Sans Mono',consolas,'Courier New',monospace\">         - El dato <span style=\"color: #800080; text-decoration-color: #800080; font-weight: bold\">XYData</span><span style=\"font-weight: bold\">(</span><span style=\"color: #808000; text-decoration-color: #808000\">_hash</span>=<span style=\"color: #008000; text-decoration-color: #008000\">'b4ff2a642069bfc672713ea400d29c66ecf21d93'</span>, \n",
       "<span style=\"color: #808000; text-decoration-color: #808000\">_path</span>=<span style=\"color: #008000; text-decoration-color: #008000\">'StandardScalerPlugin/0f98887c2bd6020b824a410979d85cbf1d8ebfd4'</span><span style=\"font-weight: bold\">)</span> Existe, se carga del storage.\n",
       "</pre>\n"
      ],
      "text/plain": [
       "         - El dato \u001b[1;35mXYData\u001b[0m\u001b[1m(\u001b[0m\u001b[33m_hash\u001b[0m=\u001b[32m'b4ff2a642069bfc672713ea400d29c66ecf21d93'\u001b[0m, \n",
       "\u001b[33m_path\u001b[0m=\u001b[32m'StandardScalerPlugin/0f98887c2bd6020b824a410979d85cbf1d8ebfd4'\u001b[0m\u001b[1m)\u001b[0m Existe, se carga del storage.\n"
      ]
     },
     "metadata": {},
     "output_type": "display_data"
    },
    {
     "data": {
      "text/html": [
       "<pre style=\"white-space:pre;overflow-x:auto;line-height:normal;font-family:Menlo,'DejaVu Sans Mono',consolas,'Courier New',monospace\"><span style=\"color: #800080; text-decoration-color: #800080; font-weight: bold\">KnnFilter</span><span style=\"font-weight: bold\">(</span>\n",
       "    <span style=\"color: #808000; text-decoration-color: #808000\">n_neighbors</span>=<span style=\"color: #008080; text-decoration-color: #008080; font-weight: bold\">4</span>,\n",
       "    <span style=\"color: #808000; text-decoration-color: #808000\">weights</span>=<span style=\"color: #008000; text-decoration-color: #008000\">'uniform'</span>,\n",
       "    <span style=\"color: #808000; text-decoration-color: #808000\">algorithm</span>=<span style=\"color: #008000; text-decoration-color: #008000\">'auto'</span>,\n",
       "    <span style=\"color: #808000; text-decoration-color: #808000\">leaf_size</span>=<span style=\"color: #008080; text-decoration-color: #008080; font-weight: bold\">30</span>,\n",
       "    <span style=\"color: #808000; text-decoration-color: #808000\">p</span>=<span style=\"color: #008080; text-decoration-color: #008080; font-weight: bold\">2</span>,\n",
       "    <span style=\"color: #808000; text-decoration-color: #808000\">metric</span>=<span style=\"color: #008000; text-decoration-color: #008000\">'minkowski'</span>,\n",
       "    <span style=\"color: #808000; text-decoration-color: #808000\">metric_params</span>=<span style=\"color: #800080; text-decoration-color: #800080; font-style: italic\">None</span>,\n",
       "    <span style=\"color: #808000; text-decoration-color: #808000\">n_jobs</span>=<span style=\"color: #800080; text-decoration-color: #800080; font-style: italic\">None</span>\n",
       "<span style=\"font-weight: bold\">)</span>\n",
       "</pre>\n"
      ],
      "text/plain": [
       "\u001b[1;35mKnnFilter\u001b[0m\u001b[1m(\u001b[0m\n",
       "    \u001b[33mn_neighbors\u001b[0m=\u001b[1;36m4\u001b[0m,\n",
       "    \u001b[33mweights\u001b[0m=\u001b[32m'uniform'\u001b[0m,\n",
       "    \u001b[33malgorithm\u001b[0m=\u001b[32m'auto'\u001b[0m,\n",
       "    \u001b[33mleaf_size\u001b[0m=\u001b[1;36m30\u001b[0m,\n",
       "    \u001b[33mp\u001b[0m=\u001b[1;36m2\u001b[0m,\n",
       "    \u001b[33mmetric\u001b[0m=\u001b[32m'minkowski'\u001b[0m,\n",
       "    \u001b[33mmetric_params\u001b[0m=\u001b[3;35mNone\u001b[0m,\n",
       "    \u001b[33mn_jobs\u001b[0m=\u001b[3;35mNone\u001b[0m\n",
       "\u001b[1m)\u001b[0m\n"
      ]
     },
     "metadata": {},
     "output_type": "display_data"
    }
   ],
   "source": [
    "wandb_pipeline.fit(X_train, y_train)\n",
    "_y = wandb_pipeline.predict(x=X_test)"
   ]
  },
  {
   "cell_type": "code",
   "execution_count": 5,
   "id": "a67d5fc7",
   "metadata": {},
   "outputs": [
    {
     "data": {
      "text/plain": [
       "array([1, 0, 2, 1, 1, 0, 1, 2, 1, 1, 2, 0, 0, 0, 0, 1, 2, 1, 1, 2, 0, 2,\n",
       "       0, 2, 2, 2, 2, 2, 0, 0])"
      ]
     },
     "execution_count": 5,
     "metadata": {},
     "output_type": "execute_result"
    }
   ],
   "source": [
    "y_test.value"
   ]
  },
  {
   "cell_type": "code",
   "execution_count": 6,
   "id": "616a2035",
   "metadata": {},
   "outputs": [
    {
     "data": {
      "text/plain": [
       "array([1, 0, 2, 1, 1, 0, 1, 2, 1, 1, 2, 0, 0, 0, 0, 1, 2, 1, 1, 2, 0, 2,\n",
       "       0, 2, 2, 2, 2, 2, 0, 0])"
      ]
     },
     "execution_count": 6,
     "metadata": {},
     "output_type": "execute_result"
    }
   ],
   "source": [
    "_y.value"
   ]
  },
  {
   "cell_type": "code",
   "execution_count": 7,
   "id": "7eea90ca",
   "metadata": {},
   "outputs": [
    {
     "data": {
      "text/html": [
       "<pre style=\"white-space:pre;overflow-x:auto;line-height:normal;font-family:Menlo,'DejaVu Sans Mono',consolas,'Courier New',monospace\">____________________________________________________________________________________________________\n",
       "Evaluating pipeline<span style=\"color: #808000; text-decoration-color: #808000\">......</span>\n",
       "****************************************************************************************************\n",
       "</pre>\n"
      ],
      "text/plain": [
       "____________________________________________________________________________________________________\n",
       "Evaluating pipeline\u001b[33m...\u001b[0m\u001b[33m...\u001b[0m\n",
       "****************************************************************************************************\n"
      ]
     },
     "metadata": {},
     "output_type": "display_data"
    },
    {
     "data": {
      "text/plain": [
       "{'F1': 1.0, 'Precission': 1.0, 'Recall': 1.0}"
      ]
     },
     "execution_count": 7,
     "metadata": {},
     "output_type": "execute_result"
    }
   ],
   "source": [
    "wandb_pipeline.evaluate(X_test, y_test, _y)"
   ]
  },
  {
   "cell_type": "markdown",
   "id": "19629af1",
   "metadata": {},
   "source": [
    "### grid results\n"
   ]
  },
  {
   "cell_type": "code",
   "execution_count": 8,
   "id": "b9628ee4",
   "metadata": {},
   "outputs": [
    {
     "data": {
      "text/html": [
       "<div>\n",
       "<style scoped>\n",
       "    .dataframe tbody tr th:only-of-type {\n",
       "        vertical-align: middle;\n",
       "    }\n",
       "\n",
       "    .dataframe tbody tr th {\n",
       "        vertical-align: top;\n",
       "    }\n",
       "\n",
       "    .dataframe thead th {\n",
       "        text-align: right;\n",
       "    }\n",
       "</style>\n",
       "<table border=\"1\" class=\"dataframe\">\n",
       "  <thead>\n",
       "    <tr style=\"text-align: right;\">\n",
       "      <th></th>\n",
       "      <th>KnnFilter</th>\n",
       "      <th>score</th>\n",
       "    </tr>\n",
       "  </thead>\n",
       "  <tbody>\n",
       "    <tr>\n",
       "      <th>2</th>\n",
       "      <td>{'n_neighbors': 4}</td>\n",
       "      <td>0.933723</td>\n",
       "    </tr>\n",
       "    <tr>\n",
       "      <th>4</th>\n",
       "      <td>{'n_neighbors': 6}</td>\n",
       "      <td>0.932844</td>\n",
       "    </tr>\n",
       "    <tr>\n",
       "      <th>1</th>\n",
       "      <td>{'n_neighbors': 3}</td>\n",
       "      <td>0.925411</td>\n",
       "    </tr>\n",
       "    <tr>\n",
       "      <th>3</th>\n",
       "      <td>{'n_neighbors': 5}</td>\n",
       "      <td>0.916946</td>\n",
       "    </tr>\n",
       "    <tr>\n",
       "      <th>0</th>\n",
       "      <td>{'n_neighbors': 2}</td>\n",
       "      <td>0.908650</td>\n",
       "    </tr>\n",
       "  </tbody>\n",
       "</table>\n",
       "</div>"
      ],
      "text/plain": [
       "            KnnFilter     score\n",
       "2  {'n_neighbors': 4}  0.933723\n",
       "4  {'n_neighbors': 6}  0.932844\n",
       "1  {'n_neighbors': 3}  0.925411\n",
       "3  {'n_neighbors': 5}  0.916946\n",
       "0  {'n_neighbors': 2}  0.908650"
      ]
     },
     "execution_count": 8,
     "metadata": {},
     "output_type": "execute_result"
    }
   ],
   "source": [
    "wandb_pipeline._results"
   ]
  }
 ],
 "metadata": {
  "kernelspec": {
   "display_name": "venv",
   "language": "python",
   "name": "python3"
  },
  "language_info": {
   "codemirror_mode": {
    "name": "ipython",
    "version": 3
   },
   "file_extension": ".py",
   "mimetype": "text/x-python",
   "name": "python",
   "nbconvert_exporter": "python",
   "pygments_lexer": "ipython3",
   "version": "3.11.5"
  }
 },
 "nbformat": 4,
 "nbformat_minor": 5
}
