{
 "cells": [
  {
   "cell_type": "markdown",
   "metadata": {},
   "source": [
    "# Tutorial: How to store and retrieve data using the Container.ds storage backend"
   ]
  },
  {
   "cell_type": "markdown",
   "metadata": {},
   "source": [
    "In this tutorial, we'll learn how to use the Container.ds storage backend to store and retrieve data in Framework3."
   ]
  },
  {
   "cell_type": "code",
   "execution_count": 1,
   "metadata": {},
   "outputs": [
    {
     "name": "stderr",
     "output_type": "stream",
     "text": [
      "/home/manuel.couto.pintos/.cache/pypoetry/virtualenvs/framework3-fUhXhdhp-py3.11/lib/python3.11/site-packages/tqdm/auto.py:21: TqdmWarning: IProgress not found. Please update jupyter and ipywidgets. See https://ipywidgets.readthedocs.io/en/stable/user_install.html\n",
      "  from .autonotebook import tqdm as notebook_tqdm\n"
     ]
    }
   ],
   "source": [
    "# Import necessary libraries\n",
    "from framework3.container import Container\n",
    "import pandas as pd\n",
    "import numpy as np"
   ]
  },
  {
   "cell_type": "markdown",
   "metadata": {},
   "source": [
    "## 1. Storing Data"
   ]
  },
  {
   "cell_type": "code",
   "execution_count": 2,
   "metadata": {},
   "outputs": [
    {
     "name": "stdout",
     "output_type": "stream",
     "text": [
      "\t * Saving in local path: cache/datasets/sample_data_local\n",
      "\t * Saved !\n",
      "Data stored successfully locally\n"
     ]
    }
   ],
   "source": [
    "# Create sample data\n",
    "df = pd.DataFrame(\n",
    "    {\n",
    "        \"A\": np.random.rand(100),\n",
    "        \"B\": np.random.randint(0, 100, 100),\n",
    "        \"C\": [\"cat\", \"dog\", \"bird\"] * 33 + [\"cat\"],\n",
    "    }\n",
    ")\n",
    "\n",
    "# Store the DataFrame\n",
    "Container.ds.save(\"sample_data_local\", df)\n",
    "print(\"Data stored successfully locally\")"
   ]
  },
  {
   "cell_type": "markdown",
   "metadata": {},
   "source": [
    "## 2. Listing Data"
   ]
  },
  {
   "cell_type": "code",
   "execution_count": 3,
   "metadata": {},
   "outputs": [
    {
     "name": "stdout",
     "output_type": "stream",
     "text": [
      "Files in local storage: ['sample_data_s3', 'sample_data', 'sample_data_local']\n"
     ]
    }
   ],
   "source": [
    "local_files = Container.ds.list()\n",
    "print(\"Files in local storage:\", local_files)"
   ]
  },
  {
   "cell_type": "markdown",
   "metadata": {},
   "source": [
    "## 3. Retrieving Data"
   ]
  },
  {
   "cell_type": "code",
   "execution_count": 4,
   "metadata": {},
   "outputs": [
    {
     "name": "stdout",
     "output_type": "stream",
     "text": [
      "Data retrieved successfully from local storage\n",
      "\t * Downloading: <_io.BufferedReader name='cache/datasets/sample_data_local'>\n",
      "          A   B     C\n",
      "0  0.735935  60   cat\n",
      "1  0.772428  23   dog\n",
      "2  0.509925   6  bird\n",
      "3  0.775553   7   cat\n",
      "4  0.395329  81   dog\n"
     ]
    }
   ],
   "source": [
    "retrieved_df = Container.ds.load(\"sample_data_local\")\n",
    "print(\"Data retrieved successfully from local storage\")\n",
    "print(retrieved_df.value.head())"
   ]
  },
  {
   "cell_type": "markdown",
   "metadata": {},
   "source": [
    "## 4. Updating Stored Data"
   ]
  },
  {
   "cell_type": "code",
   "execution_count": 5,
   "metadata": {},
   "outputs": [
    {
     "name": "stdout",
     "output_type": "stream",
     "text": [
      "\t * Saving in local path: cache/datasets/sample_data_local\n",
      "\t * Saved !\n",
      "Updated data stored successfully locally\n",
      "\t * Downloading: <_io.BufferedReader name='cache/datasets/sample_data_local'>\n",
      "          A   B     C  D\n",
      "0  0.735935  60   cat  Y\n",
      "1  0.772428  23   dog  Y\n",
      "2  0.509925   6  bird  X\n",
      "3  0.775553   7   cat  Z\n",
      "4  0.395329  81   dog  X\n"
     ]
    }
   ],
   "source": [
    "# Update the DataFrame\n",
    "df[\"D\"] = np.random.choice([\"X\", \"Y\", \"Z\"], 100)\n",
    "\n",
    "# Store the updated DataFrame locally\n",
    "Container.ds.update(\"sample_data_local\", df)\n",
    "print(\"Updated data stored successfully locally\")\n",
    "\n",
    "# Retrieve and display the updated DataFrame\n",
    "updated_df = Container.ds.load(\"sample_data_local\")\n",
    "print(updated_df.value.head())"
   ]
  },
  {
   "cell_type": "markdown",
   "metadata": {},
   "source": [
    "## 5. Deleting Stored Data"
   ]
  },
  {
   "cell_type": "code",
   "execution_count": 6,
   "metadata": {},
   "outputs": [
    {
     "name": "stdout",
     "output_type": "stream",
     "text": [
      "Data deleted successfully from local storage\n"
     ]
    }
   ],
   "source": [
    "# Delete the stored data from local storage\n",
    "Container.ds.delete(\"sample_data_local\")\n",
    "print(\"Data deleted successfully from local storage\")"
   ]
  },
  {
   "cell_type": "code",
   "execution_count": 7,
   "metadata": {},
   "outputs": [],
   "source": [
    "from framework3.plugins.storage import S3Storage\n",
    "import os\n",
    "\n",
    "s3_storage = S3Storage(\n",
    "    bucket=os.environ.get(\"TEST_BUCKET_NAME\"),  # type: ignore\n",
    "    region_name=os.environ.get(\"REGION_NAME\"),  # type: ignore\n",
    "    access_key=os.environ.get(\"ACCESS_KEY\"),  # type: ignore\n",
    "    access_key_id=os.environ.get(\"ACCESS_KEY_ID\"),  # type: ignore\n",
    "    endpoint_url=os.environ.get(\"ENDPOINT_URL\"),\n",
    ")"
   ]
  },
  {
   "cell_type": "code",
   "execution_count": 8,
   "metadata": {},
   "outputs": [],
   "source": [
    "Container.storage = s3_storage"
   ]
  },
  {
   "cell_type": "code",
   "execution_count": 14,
   "metadata": {},
   "outputs": [
    {
     "name": "stdout",
     "output_type": "stream",
     "text": [
      "- Binary prepared!\n",
      "- Stream ready!\n",
      " \t * Object size 8e-08 GBs \n",
      "Upload Complete!\n",
      "Data stored successfully in S3\n"
     ]
    }
   ],
   "source": [
    "Container.ds.save(\"sample_data_s3\", df)\n",
    "print(\"Data stored successfully in S3\")"
   ]
  },
  {
   "cell_type": "code",
   "execution_count": 10,
   "metadata": {},
   "outputs": [
    {
     "name": "stdout",
     "output_type": "stream",
     "text": [
      "Files in S3 bucket: ['datasets/Iris X data.pkl', 'test-bucket/datasets/sample_data_s3']\n"
     ]
    }
   ],
   "source": [
    "s3_files = Container.ds.list()\n",
    "print(\"Files in S3 bucket:\", s3_files)"
   ]
  },
  {
   "cell_type": "code",
   "execution_count": 11,
   "metadata": {},
   "outputs": [
    {
     "name": "stdout",
     "output_type": "stream",
     "text": [
      "Data retrieved successfully from S3\n",
      "          A   B     C  D\n",
      "0  0.301524  95   cat  Y\n",
      "1  0.101139  20   dog  X\n",
      "2  0.852597  49  bird  X\n",
      "3  0.049054  59   cat  Z\n",
      "4  0.463926  59   dog  X\n"
     ]
    }
   ],
   "source": [
    "retrieved_df = Container.ds.load(\"sample_data_s3\")\n",
    "print(\"Data retrieved successfully from S3\")\n",
    "print(retrieved_df.value.head())"
   ]
  },
  {
   "cell_type": "code",
   "execution_count": 12,
   "metadata": {},
   "outputs": [
    {
     "name": "stdout",
     "output_type": "stream",
     "text": [
      "- Binary prepared!\n",
      "- Stream ready!\n",
      " \t * Object size 8e-08 GBs \n",
      "Upload Complete!\n",
      "Updated data stored successfully in S3\n",
      "          A   B     C  D  E\n",
      "0  0.735935  60   cat  Y  P\n",
      "1  0.772428  23   dog  Y  Q\n",
      "2  0.509925   6  bird  X  Q\n",
      "3  0.775553   7   cat  Z  R\n",
      "4  0.395329  81   dog  X  P\n"
     ]
    }
   ],
   "source": [
    "# Update the DataFrame\n",
    "df[\"E\"] = np.random.choice([\"P\", \"Q\", \"R\"], 100)\n",
    "\n",
    "# Store the updated DataFrame in S3\n",
    "Container.ds.update(\"sample_data_s3\", df)\n",
    "print(\"Updated data stored successfully in S3\")\n",
    "\n",
    "# Retrieve and display the updated DataFrame\n",
    "updated_df = Container.ds.load(\"sample_data_s3\")\n",
    "print(updated_df.value.head())"
   ]
  },
  {
   "cell_type": "code",
   "execution_count": 15,
   "metadata": {},
   "outputs": [
    {
     "name": "stdout",
     "output_type": "stream",
     "text": [
      "Deleted!\n",
      "Data deleted successfully from S3\n"
     ]
    }
   ],
   "source": [
    "# Delete the stored data from S3\n",
    "Container.ds.delete(\"sample_data_s3\")\n",
    "print(\"Data deleted successfully from S3\")"
   ]
  },
  {
   "cell_type": "markdown",
   "metadata": {},
   "source": [
    "## 6. Conclusion"
   ]
  },
  {
   "cell_type": "markdown",
   "metadata": {},
   "source": [
    "In this tutorial, we've learned how to use the Container.ds storage backend to:\n",
    "1. Store data\n",
    "2. Retrieve data\n",
    "3. List stored data\n",
    "4. Update stored data\n",
    "5. Delete stored data\n",
    "\n",
    "This functionality allows for efficient data management within the Framework3 ecosystem."
   ]
  }
 ],
 "metadata": {
  "kernelspec": {
   "display_name": "framework3-fUhXhdhp-py3.11",
   "language": "python",
   "name": "python3"
  },
  "language_info": {
   "codemirror_mode": {
    "name": "ipython",
    "version": 3
   },
   "file_extension": ".py",
   "mimetype": "text/x-python",
   "name": "python",
   "nbconvert_exporter": "python",
   "pygments_lexer": "ipython3",
   "version": "3.11.5"
  }
 },
 "nbformat": 4,
 "nbformat_minor": 4
}
