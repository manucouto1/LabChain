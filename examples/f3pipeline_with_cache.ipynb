{
 "cells": [
  {
   "cell_type": "markdown",
   "metadata": {},
   "source": [
    "# Tutorial: F3Pipeline con Cache\n",
    "\n",
    "Este tutorial te guiará a través de un ejemplo sencillo de uso de F3Pipeline, incluyendo la funcionalidad de Cache."
   ]
  },
  {
   "cell_type": "markdown",
   "metadata": {},
   "source": [
    "## 1. Importaciones necesarias"
   ]
  },
  {
   "cell_type": "code",
   "execution_count": 1,
   "metadata": {},
   "outputs": [
    {
     "name": "stderr",
     "output_type": "stream",
     "text": [
      "/home/manuel.couto.pintos/.cache/pypoetry/virtualenvs/framework3-fUhXhdhp-py3.11/lib/python3.11/site-packages/tqdm/auto.py:21: TqdmWarning: IProgress not found. Please update jupyter and ipywidgets. See https://ipywidgets.readthedocs.io/en/stable/user_install.html\n",
      "  from .autonotebook import tqdm as notebook_tqdm\n"
     ]
    }
   ],
   "source": [
    "from framework3 import F3Pipeline\n",
    "from framework3.plugins.filters import StandardScalerPlugin\n",
    "from framework3.plugins.filters import ClassifierSVMPlugin, KnnFilter\n",
    "from framework3.plugins.metrics import F1\n",
    "from framework3.base import XYData\n",
    "from framework3.plugins.filters import Cached\n",
    "from sklearn.datasets import load_iris\n",
    "from sklearn.model_selection import train_test_split\n",
    "\n",
    "from rich import print"
   ]
  },
  {
   "cell_type": "markdown",
   "metadata": {},
   "source": [
    "## 2. Preparación de los datos"
   ]
  },
  {
   "cell_type": "code",
   "execution_count": 2,
   "metadata": {},
   "outputs": [],
   "source": [
    "# Cargar el conjunto de datos Iris\n",
    "iris = load_iris()\n",
    "X, y = iris.data, iris.target\n",
    "\n",
    "# Dividir los datos en conjuntos de entrenamiento y prueba\n",
    "X_train, X_test, y_train, y_test = train_test_split(\n",
    "    X, y, test_size=0.2, random_state=42\n",
    ")\n",
    "\n",
    "# Crear objetos XYData\n",
    "x_train = XYData(\"Iris dataset X train\", \"dataset\", X_train)\n",
    "y_train = XYData(\"Iris dataset Y train\", \"dataset\", y_train)\n",
    "x_test = XYData(\"Iris dataset X test\", \"dataset\", X_test)\n",
    "y_test = XYData(\"Iris dataset Y test\", \"dataset\", y_test)"
   ]
  },
  {
   "cell_type": "markdown",
   "metadata": {},
   "source": [
    "## 3. Creación del pipeline con Cache"
   ]
  },
  {
   "cell_type": "code",
   "execution_count": 3,
   "metadata": {},
   "outputs": [
    {
     "data": {
      "text/html": [
       "<pre style=\"white-space:pre;overflow-x:auto;line-height:normal;font-family:Menlo,'DejaVu Sans Mono',consolas,'Courier New',monospace\"><span style=\"color: #800080; text-decoration-color: #800080; font-weight: bold\">F3Pipeline</span><span style=\"font-weight: bold\">(</span>\n",
       "    <span style=\"color: #808000; text-decoration-color: #808000\">filters</span>=<span style=\"font-weight: bold\">[</span>\n",
       "        <span style=\"color: #800080; text-decoration-color: #800080; font-weight: bold\">Cached</span><span style=\"font-weight: bold\">(</span><span style=\"color: #808000; text-decoration-color: #808000\">filter</span>=<span style=\"color: #800080; text-decoration-color: #800080; font-weight: bold\">StandardScalerPlugin</span><span style=\"font-weight: bold\">()</span>, <span style=\"color: #808000; text-decoration-color: #808000\">cache_data</span>=<span style=\"color: #00ff00; text-decoration-color: #00ff00; font-style: italic\">True</span>, <span style=\"color: #808000; text-decoration-color: #808000\">cache_filter</span>=<span style=\"color: #00ff00; text-decoration-color: #00ff00; font-style: italic\">True</span>, <span style=\"color: #808000; text-decoration-color: #808000\">overwrite</span>=<span style=\"color: #ff0000; text-decoration-color: #ff0000; font-style: italic\">False</span>, <span style=\"color: #808000; text-decoration-color: #808000\">storage</span>=<span style=\"color: #800080; text-decoration-color: #800080; font-style: italic\">None</span><span style=\"font-weight: bold\">)</span>,\n",
       "        <span style=\"color: #800080; text-decoration-color: #800080; font-weight: bold\">ClassifierSVMPlugin</span><span style=\"font-weight: bold\">(</span><span style=\"color: #808000; text-decoration-color: #808000\">C</span>=<span style=\"color: #008080; text-decoration-color: #008080; font-weight: bold\">1.0</span>, <span style=\"color: #808000; text-decoration-color: #808000\">kernel</span>=<span style=\"color: #008000; text-decoration-color: #008000\">'linear'</span>, <span style=\"color: #808000; text-decoration-color: #808000\">gamma</span>=<span style=\"color: #008000; text-decoration-color: #008000\">'scale'</span><span style=\"font-weight: bold\">)</span>\n",
       "    <span style=\"font-weight: bold\">]</span>,\n",
       "    <span style=\"color: #808000; text-decoration-color: #808000\">metrics</span>=<span style=\"font-weight: bold\">[</span><span style=\"color: #800080; text-decoration-color: #800080; font-weight: bold\">F1</span><span style=\"font-weight: bold\">(</span><span style=\"color: #808000; text-decoration-color: #808000\">average</span>=<span style=\"color: #008000; text-decoration-color: #008000\">'weighted'</span><span style=\"font-weight: bold\">)]</span>,\n",
       "    <span style=\"color: #808000; text-decoration-color: #808000\">overwrite</span>=<span style=\"color: #ff0000; text-decoration-color: #ff0000; font-style: italic\">False</span>,\n",
       "    <span style=\"color: #808000; text-decoration-color: #808000\">store</span>=<span style=\"color: #ff0000; text-decoration-color: #ff0000; font-style: italic\">False</span>,\n",
       "    <span style=\"color: #808000; text-decoration-color: #808000\">log</span>=<span style=\"color: #ff0000; text-decoration-color: #ff0000; font-style: italic\">False</span>\n",
       "<span style=\"font-weight: bold\">)</span>\n",
       "</pre>\n"
      ],
      "text/plain": [
       "\u001b[1;35mF3Pipeline\u001b[0m\u001b[1m(\u001b[0m\n",
       "    \u001b[33mfilters\u001b[0m=\u001b[1m[\u001b[0m\n",
       "        \u001b[1;35mCached\u001b[0m\u001b[1m(\u001b[0m\u001b[33mfilter\u001b[0m=\u001b[1;35mStandardScalerPlugin\u001b[0m\u001b[1m(\u001b[0m\u001b[1m)\u001b[0m, \u001b[33mcache_data\u001b[0m=\u001b[3;92mTrue\u001b[0m, \u001b[33mcache_filter\u001b[0m=\u001b[3;92mTrue\u001b[0m, \u001b[33moverwrite\u001b[0m=\u001b[3;91mFalse\u001b[0m, \u001b[33mstorage\u001b[0m=\u001b[3;35mNone\u001b[0m\u001b[1m)\u001b[0m,\n",
       "        \u001b[1;35mClassifierSVMPlugin\u001b[0m\u001b[1m(\u001b[0m\u001b[33mC\u001b[0m=\u001b[1;36m1\u001b[0m\u001b[1;36m.0\u001b[0m, \u001b[33mkernel\u001b[0m=\u001b[32m'linear'\u001b[0m, \u001b[33mgamma\u001b[0m=\u001b[32m'scale'\u001b[0m\u001b[1m)\u001b[0m\n",
       "    \u001b[1m]\u001b[0m,\n",
       "    \u001b[33mmetrics\u001b[0m=\u001b[1m[\u001b[0m\u001b[1;35mF1\u001b[0m\u001b[1m(\u001b[0m\u001b[33maverage\u001b[0m=\u001b[32m'weighted'\u001b[0m\u001b[1m)\u001b[0m\u001b[1m]\u001b[0m,\n",
       "    \u001b[33moverwrite\u001b[0m=\u001b[3;91mFalse\u001b[0m,\n",
       "    \u001b[33mstore\u001b[0m=\u001b[3;91mFalse\u001b[0m,\n",
       "    \u001b[33mlog\u001b[0m=\u001b[3;91mFalse\u001b[0m\n",
       "\u001b[1m)\u001b[0m\n"
      ]
     },
     "metadata": {},
     "output_type": "display_data"
    }
   ],
   "source": [
    "# Crear el pipeline con Cache\n",
    "pipeline = F3Pipeline(\n",
    "    filters=[\n",
    "        Cached(\n",
    "            filter=StandardScalerPlugin(),\n",
    "            cache_data=True,\n",
    "            cache_filter=True,\n",
    "            overwrite=False,\n",
    "        ),\n",
    "        ClassifierSVMPlugin(),\n",
    "    ],\n",
    "    metrics=[F1()],\n",
    ")\n",
    "print(pipeline)"
   ]
  },
  {
   "cell_type": "markdown",
   "metadata": {},
   "source": [
    "## 5. Entrenamiento del modelo"
   ]
  },
  {
   "cell_type": "code",
   "execution_count": 4,
   "metadata": {},
   "outputs": [
    {
     "data": {
      "text/html": [
       "<pre style=\"white-space:pre;overflow-x:auto;line-height:normal;font-family:Menlo,'DejaVu Sans Mono',consolas,'Courier New',monospace\">____________________________________________________________________________________________________\n",
       "</pre>\n"
      ],
      "text/plain": [
       "____________________________________________________________________________________________________\n"
      ]
     },
     "metadata": {},
     "output_type": "display_data"
    },
    {
     "data": {
      "text/html": [
       "<pre style=\"white-space:pre;overflow-x:auto;line-height:normal;font-family:Menlo,'DejaVu Sans Mono',consolas,'Courier New',monospace\">Fitting pipeline<span style=\"color: #808000; text-decoration-color: #808000\">...</span>\n",
       "</pre>\n"
      ],
      "text/plain": [
       "Fitting pipeline\u001b[33m...\u001b[0m\n"
      ]
     },
     "metadata": {},
     "output_type": "display_data"
    },
    {
     "data": {
      "text/html": [
       "<pre style=\"white-space:pre;overflow-x:auto;line-height:normal;font-family:Menlo,'DejaVu Sans Mono',consolas,'Courier New',monospace\">****************************************************************************************************\n",
       "</pre>\n"
      ],
      "text/plain": [
       "****************************************************************************************************\n"
      ]
     },
     "metadata": {},
     "output_type": "display_data"
    },
    {
     "data": {
      "text/html": [
       "<pre style=\"white-space:pre;overflow-x:auto;line-height:normal;font-family:Menlo,'DejaVu Sans Mono',consolas,'Courier New',monospace\">\n",
       "* <span style=\"color: #800080; text-decoration-color: #800080; font-weight: bold\">Cached</span><span style=\"font-weight: bold\">({</span><span style=\"color: #008000; text-decoration-color: #008000\">'filter'</span>: <span style=\"color: #800080; text-decoration-color: #800080; font-weight: bold\">StandardScalerPlugin</span><span style=\"font-weight: bold\">({})</span>, <span style=\"color: #008000; text-decoration-color: #008000\">'cache_data'</span>: <span style=\"color: #00ff00; text-decoration-color: #00ff00; font-style: italic\">True</span>, <span style=\"color: #008000; text-decoration-color: #008000\">'cache_filter'</span>: <span style=\"color: #00ff00; text-decoration-color: #00ff00; font-style: italic\">True</span>, <span style=\"color: #008000; text-decoration-color: #008000\">'overwrite'</span>: <span style=\"color: #ff0000; text-decoration-color: #ff0000; font-style: italic\">False</span>, \n",
       "<span style=\"color: #008000; text-decoration-color: #008000\">'storage'</span>: <span style=\"color: #800080; text-decoration-color: #800080; font-style: italic\">None</span><span style=\"font-weight: bold\">})</span>:\n",
       "</pre>\n"
      ],
      "text/plain": [
       "\n",
       "* \u001b[1;35mCached\u001b[0m\u001b[1m(\u001b[0m\u001b[1m{\u001b[0m\u001b[32m'filter'\u001b[0m: \u001b[1;35mStandardScalerPlugin\u001b[0m\u001b[1m(\u001b[0m\u001b[1m{\u001b[0m\u001b[1m}\u001b[0m\u001b[1m)\u001b[0m, \u001b[32m'cache_data'\u001b[0m: \u001b[3;92mTrue\u001b[0m, \u001b[32m'cache_filter'\u001b[0m: \u001b[3;92mTrue\u001b[0m, \u001b[32m'overwrite'\u001b[0m: \u001b[3;91mFalse\u001b[0m, \n",
       "\u001b[32m'storage'\u001b[0m: \u001b[3;35mNone\u001b[0m\u001b[1m}\u001b[0m\u001b[1m)\u001b[0m:\n"
      ]
     },
     "metadata": {},
     "output_type": "display_data"
    },
    {
     "data": {
      "text/html": [
       "<pre style=\"white-space:pre;overflow-x:auto;line-height:normal;font-family:Menlo,'DejaVu Sans Mono',consolas,'Courier New',monospace\">         - El filtro <span style=\"color: #800080; text-decoration-color: #800080; font-weight: bold\">StandardScalerPlugin</span><span style=\"font-weight: bold\">({})</span> con hash 4f0150e0e11419085ce0f08ab077b7e5891f817b No existe, se va a \n",
       "entrenar.\n",
       "</pre>\n"
      ],
      "text/plain": [
       "         - El filtro \u001b[1;35mStandardScalerPlugin\u001b[0m\u001b[1m(\u001b[0m\u001b[1m{\u001b[0m\u001b[1m}\u001b[0m\u001b[1m)\u001b[0m con hash 4f0150e0e11419085ce0f08ab077b7e5891f817b No existe, se va a \n",
       "entrenar.\n"
      ]
     },
     "metadata": {},
     "output_type": "display_data"
    },
    {
     "data": {
      "text/html": [
       "<pre style=\"white-space:pre;overflow-x:auto;line-height:normal;font-family:Menlo,'DejaVu Sans Mono',consolas,'Courier New',monospace\">         - El filtro <span style=\"color: #800080; text-decoration-color: #800080; font-weight: bold\">StandardScalerPlugin</span><span style=\"font-weight: bold\">({})</span> Se cachea.\n",
       "</pre>\n"
      ],
      "text/plain": [
       "         - El filtro \u001b[1;35mStandardScalerPlugin\u001b[0m\u001b[1m(\u001b[0m\u001b[1m{\u001b[0m\u001b[1m}\u001b[0m\u001b[1m)\u001b[0m Se cachea.\n"
      ]
     },
     "metadata": {},
     "output_type": "display_data"
    },
    {
     "name": "stdout",
     "output_type": "stream",
     "text": [
      "\t * Saving in local path: cache/StandardScalerPlugin/4f0150e0e11419085ce0f08ab077b7e5891f817b/model\n",
      "\t * Saved !\n"
     ]
    },
    {
     "data": {
      "text/html": [
       "<pre style=\"white-space:pre;overflow-x:auto;line-height:normal;font-family:Menlo,'DejaVu Sans Mono',consolas,'Courier New',monospace\">         - El dato <span style=\"color: #800080; text-decoration-color: #800080; font-weight: bold\">XYData</span><span style=\"font-weight: bold\">(</span><span style=\"color: #808000; text-decoration-color: #808000\">_hash</span>=<span style=\"color: #008000; text-decoration-color: #008000\">'f77f9d95466939988cdd6a13f0cb91260b94c99d'</span>, \n",
       "<span style=\"color: #808000; text-decoration-color: #808000\">_path</span>=<span style=\"color: #008000; text-decoration-color: #008000\">'StandardScalerPlugin/4f0150e0e11419085ce0f08ab077b7e5891f817b'</span><span style=\"font-weight: bold\">)</span> No existe, se va a crear.\n",
       "</pre>\n"
      ],
      "text/plain": [
       "         - El dato \u001b[1;35mXYData\u001b[0m\u001b[1m(\u001b[0m\u001b[33m_hash\u001b[0m=\u001b[32m'f77f9d95466939988cdd6a13f0cb91260b94c99d'\u001b[0m, \n",
       "\u001b[33m_path\u001b[0m=\u001b[32m'StandardScalerPlugin/4f0150e0e11419085ce0f08ab077b7e5891f817b'\u001b[0m\u001b[1m)\u001b[0m No existe, se va a crear.\n"
      ]
     },
     "metadata": {},
     "output_type": "display_data"
    },
    {
     "data": {
      "text/html": [
       "<pre style=\"white-space:pre;overflow-x:auto;line-height:normal;font-family:Menlo,'DejaVu Sans Mono',consolas,'Courier New',monospace\">         - El dato <span style=\"color: #800080; text-decoration-color: #800080; font-weight: bold\">XYData</span><span style=\"font-weight: bold\">(</span><span style=\"color: #808000; text-decoration-color: #808000\">_hash</span>=<span style=\"color: #008000; text-decoration-color: #008000\">'f77f9d95466939988cdd6a13f0cb91260b94c99d'</span>, \n",
       "<span style=\"color: #808000; text-decoration-color: #808000\">_path</span>=<span style=\"color: #008000; text-decoration-color: #008000\">'StandardScalerPlugin/4f0150e0e11419085ce0f08ab077b7e5891f817b'</span><span style=\"font-weight: bold\">)</span> Se cachea.\n",
       "</pre>\n"
      ],
      "text/plain": [
       "         - El dato \u001b[1;35mXYData\u001b[0m\u001b[1m(\u001b[0m\u001b[33m_hash\u001b[0m=\u001b[32m'f77f9d95466939988cdd6a13f0cb91260b94c99d'\u001b[0m, \n",
       "\u001b[33m_path\u001b[0m=\u001b[32m'StandardScalerPlugin/4f0150e0e11419085ce0f08ab077b7e5891f817b'\u001b[0m\u001b[1m)\u001b[0m Se cachea.\n"
      ]
     },
     "metadata": {},
     "output_type": "display_data"
    },
    {
     "name": "stdout",
     "output_type": "stream",
     "text": [
      "\t * Saving in local path: cache/StandardScalerPlugin/4f0150e0e11419085ce0f08ab077b7e5891f817b/f77f9d95466939988cdd6a13f0cb91260b94c99d\n",
      "\t * Saved !\n"
     ]
    },
    {
     "data": {
      "text/html": [
       "<pre style=\"white-space:pre;overflow-x:auto;line-height:normal;font-family:Menlo,'DejaVu Sans Mono',consolas,'Courier New',monospace\">\n",
       "* <span style=\"color: #800080; text-decoration-color: #800080; font-weight: bold\">ClassifierSVMPlugin</span><span style=\"font-weight: bold\">({</span><span style=\"color: #008000; text-decoration-color: #008000\">'C'</span>: <span style=\"color: #008080; text-decoration-color: #008080; font-weight: bold\">1.0</span>, <span style=\"color: #008000; text-decoration-color: #008000\">'kernel'</span>: <span style=\"color: #008000; text-decoration-color: #008000\">'linear'</span>, <span style=\"color: #008000; text-decoration-color: #008000\">'gamma'</span>: <span style=\"color: #008000; text-decoration-color: #008000\">'scale'</span><span style=\"font-weight: bold\">})</span>:\n",
       "</pre>\n"
      ],
      "text/plain": [
       "\n",
       "* \u001b[1;35mClassifierSVMPlugin\u001b[0m\u001b[1m(\u001b[0m\u001b[1m{\u001b[0m\u001b[32m'C'\u001b[0m: \u001b[1;36m1.0\u001b[0m, \u001b[32m'kernel'\u001b[0m: \u001b[32m'linear'\u001b[0m, \u001b[32m'gamma'\u001b[0m: \u001b[32m'scale'\u001b[0m\u001b[1m}\u001b[0m\u001b[1m)\u001b[0m:\n"
      ]
     },
     "metadata": {},
     "output_type": "display_data"
    }
   ],
   "source": [
    "# Entrenar el modelo\n",
    "pipeline.fit(x_train, y_train)"
   ]
  },
  {
   "cell_type": "markdown",
   "metadata": {},
   "source": [
    "## 6. Predicción y evaluación"
   ]
  },
  {
   "cell_type": "code",
   "execution_count": 5,
   "metadata": {},
   "outputs": [
    {
     "data": {
      "text/html": [
       "<pre style=\"white-space:pre;overflow-x:auto;line-height:normal;font-family:Menlo,'DejaVu Sans Mono',consolas,'Courier New',monospace\">____________________________________________________________________________________________________\n",
       "</pre>\n"
      ],
      "text/plain": [
       "____________________________________________________________________________________________________\n"
      ]
     },
     "metadata": {},
     "output_type": "display_data"
    },
    {
     "data": {
      "text/html": [
       "<pre style=\"white-space:pre;overflow-x:auto;line-height:normal;font-family:Menlo,'DejaVu Sans Mono',consolas,'Courier New',monospace\">Predicting pipeline<span style=\"color: #808000; text-decoration-color: #808000\">...</span>\n",
       "</pre>\n"
      ],
      "text/plain": [
       "Predicting pipeline\u001b[33m...\u001b[0m\n"
      ]
     },
     "metadata": {},
     "output_type": "display_data"
    },
    {
     "data": {
      "text/html": [
       "<pre style=\"white-space:pre;overflow-x:auto;line-height:normal;font-family:Menlo,'DejaVu Sans Mono',consolas,'Courier New',monospace\">****************************************************************************************************\n",
       "</pre>\n"
      ],
      "text/plain": [
       "****************************************************************************************************\n"
      ]
     },
     "metadata": {},
     "output_type": "display_data"
    },
    {
     "data": {
      "text/html": [
       "<pre style=\"white-space:pre;overflow-x:auto;line-height:normal;font-family:Menlo,'DejaVu Sans Mono',consolas,'Courier New',monospace\">\n",
       "* <span style=\"color: #800080; text-decoration-color: #800080; font-weight: bold\">Cached</span><span style=\"font-weight: bold\">({</span><span style=\"color: #008000; text-decoration-color: #008000\">'filter'</span>: <span style=\"color: #800080; text-decoration-color: #800080; font-weight: bold\">StandardScalerPlugin</span><span style=\"font-weight: bold\">({})</span>, <span style=\"color: #008000; text-decoration-color: #008000\">'cache_data'</span>: <span style=\"color: #00ff00; text-decoration-color: #00ff00; font-style: italic\">True</span>, <span style=\"color: #008000; text-decoration-color: #008000\">'cache_filter'</span>: <span style=\"color: #00ff00; text-decoration-color: #00ff00; font-style: italic\">True</span>, <span style=\"color: #008000; text-decoration-color: #008000\">'overwrite'</span>: <span style=\"color: #ff0000; text-decoration-color: #ff0000; font-style: italic\">False</span>, \n",
       "<span style=\"color: #008000; text-decoration-color: #008000\">'storage'</span>: <span style=\"color: #800080; text-decoration-color: #800080; font-style: italic\">None</span><span style=\"font-weight: bold\">})</span>\n",
       "</pre>\n"
      ],
      "text/plain": [
       "\n",
       "* \u001b[1;35mCached\u001b[0m\u001b[1m(\u001b[0m\u001b[1m{\u001b[0m\u001b[32m'filter'\u001b[0m: \u001b[1;35mStandardScalerPlugin\u001b[0m\u001b[1m(\u001b[0m\u001b[1m{\u001b[0m\u001b[1m}\u001b[0m\u001b[1m)\u001b[0m, \u001b[32m'cache_data'\u001b[0m: \u001b[3;92mTrue\u001b[0m, \u001b[32m'cache_filter'\u001b[0m: \u001b[3;92mTrue\u001b[0m, \u001b[32m'overwrite'\u001b[0m: \u001b[3;91mFalse\u001b[0m, \n",
       "\u001b[32m'storage'\u001b[0m: \u001b[3;35mNone\u001b[0m\u001b[1m}\u001b[0m\u001b[1m)\u001b[0m\n"
      ]
     },
     "metadata": {},
     "output_type": "display_data"
    },
    {
     "data": {
      "text/html": [
       "<pre style=\"white-space:pre;overflow-x:auto;line-height:normal;font-family:Menlo,'DejaVu Sans Mono',consolas,'Courier New',monospace\">         - El dato <span style=\"color: #800080; text-decoration-color: #800080; font-weight: bold\">XYData</span><span style=\"font-weight: bold\">(</span><span style=\"color: #808000; text-decoration-color: #808000\">_hash</span>=<span style=\"color: #008000; text-decoration-color: #008000\">'0403ab1f29eb3d1d59f857aa03f7af153d7ff357'</span>, \n",
       "<span style=\"color: #808000; text-decoration-color: #808000\">_path</span>=<span style=\"color: #008000; text-decoration-color: #008000\">'StandardScalerPlugin/4f0150e0e11419085ce0f08ab077b7e5891f817b'</span><span style=\"font-weight: bold\">)</span> No existe, se va a crear.\n",
       "</pre>\n"
      ],
      "text/plain": [
       "         - El dato \u001b[1;35mXYData\u001b[0m\u001b[1m(\u001b[0m\u001b[33m_hash\u001b[0m=\u001b[32m'0403ab1f29eb3d1d59f857aa03f7af153d7ff357'\u001b[0m, \n",
       "\u001b[33m_path\u001b[0m=\u001b[32m'StandardScalerPlugin/4f0150e0e11419085ce0f08ab077b7e5891f817b'\u001b[0m\u001b[1m)\u001b[0m No existe, se va a crear.\n"
      ]
     },
     "metadata": {},
     "output_type": "display_data"
    },
    {
     "data": {
      "text/html": [
       "<pre style=\"white-space:pre;overflow-x:auto;line-height:normal;font-family:Menlo,'DejaVu Sans Mono',consolas,'Courier New',monospace\">         - El dato <span style=\"color: #800080; text-decoration-color: #800080; font-weight: bold\">XYData</span><span style=\"font-weight: bold\">(</span><span style=\"color: #808000; text-decoration-color: #808000\">_hash</span>=<span style=\"color: #008000; text-decoration-color: #008000\">'0403ab1f29eb3d1d59f857aa03f7af153d7ff357'</span>, \n",
       "<span style=\"color: #808000; text-decoration-color: #808000\">_path</span>=<span style=\"color: #008000; text-decoration-color: #008000\">'StandardScalerPlugin/4f0150e0e11419085ce0f08ab077b7e5891f817b'</span><span style=\"font-weight: bold\">)</span> Se cachea.\n",
       "</pre>\n"
      ],
      "text/plain": [
       "         - El dato \u001b[1;35mXYData\u001b[0m\u001b[1m(\u001b[0m\u001b[33m_hash\u001b[0m=\u001b[32m'0403ab1f29eb3d1d59f857aa03f7af153d7ff357'\u001b[0m, \n",
       "\u001b[33m_path\u001b[0m=\u001b[32m'StandardScalerPlugin/4f0150e0e11419085ce0f08ab077b7e5891f817b'\u001b[0m\u001b[1m)\u001b[0m Se cachea.\n"
      ]
     },
     "metadata": {},
     "output_type": "display_data"
    },
    {
     "name": "stdout",
     "output_type": "stream",
     "text": [
      "\t * Saving in local path: cache/StandardScalerPlugin/4f0150e0e11419085ce0f08ab077b7e5891f817b/0403ab1f29eb3d1d59f857aa03f7af153d7ff357\n",
      "\t * Saved !\n"
     ]
    },
    {
     "data": {
      "text/html": [
       "<pre style=\"white-space:pre;overflow-x:auto;line-height:normal;font-family:Menlo,'DejaVu Sans Mono',consolas,'Courier New',monospace\">\n",
       "* <span style=\"color: #800080; text-decoration-color: #800080; font-weight: bold\">ClassifierSVMPlugin</span><span style=\"font-weight: bold\">({</span><span style=\"color: #008000; text-decoration-color: #008000\">'C'</span>: <span style=\"color: #008080; text-decoration-color: #008080; font-weight: bold\">1.0</span>, <span style=\"color: #008000; text-decoration-color: #008000\">'kernel'</span>: <span style=\"color: #008000; text-decoration-color: #008000\">'linear'</span>, <span style=\"color: #008000; text-decoration-color: #008000\">'gamma'</span>: <span style=\"color: #008000; text-decoration-color: #008000\">'scale'</span><span style=\"font-weight: bold\">})</span>\n",
       "</pre>\n"
      ],
      "text/plain": [
       "\n",
       "* \u001b[1;35mClassifierSVMPlugin\u001b[0m\u001b[1m(\u001b[0m\u001b[1m{\u001b[0m\u001b[32m'C'\u001b[0m: \u001b[1;36m1.0\u001b[0m, \u001b[32m'kernel'\u001b[0m: \u001b[32m'linear'\u001b[0m, \u001b[32m'gamma'\u001b[0m: \u001b[32m'scale'\u001b[0m\u001b[1m}\u001b[0m\u001b[1m)\u001b[0m\n"
      ]
     },
     "metadata": {},
     "output_type": "display_data"
    },
    {
     "data": {
      "text/html": [
       "<pre style=\"white-space:pre;overflow-x:auto;line-height:normal;font-family:Menlo,'DejaVu Sans Mono',consolas,'Courier New',monospace\">____________________________________________________________________________________________________\n",
       "</pre>\n"
      ],
      "text/plain": [
       "____________________________________________________________________________________________________\n"
      ]
     },
     "metadata": {},
     "output_type": "display_data"
    },
    {
     "data": {
      "text/html": [
       "<pre style=\"white-space:pre;overflow-x:auto;line-height:normal;font-family:Menlo,'DejaVu Sans Mono',consolas,'Courier New',monospace\">Evaluating pipeline<span style=\"color: #808000; text-decoration-color: #808000\">...</span>\n",
       "</pre>\n"
      ],
      "text/plain": [
       "Evaluating pipeline\u001b[33m...\u001b[0m\n"
      ]
     },
     "metadata": {},
     "output_type": "display_data"
    },
    {
     "data": {
      "text/html": [
       "<pre style=\"white-space:pre;overflow-x:auto;line-height:normal;font-family:Menlo,'DejaVu Sans Mono',consolas,'Courier New',monospace\">____________________________________________________________________________________________________\n",
       "</pre>\n"
      ],
      "text/plain": [
       "____________________________________________________________________________________________________\n"
      ]
     },
     "metadata": {},
     "output_type": "display_data"
    },
    {
     "data": {
      "text/html": [
       "<pre style=\"white-space:pre;overflow-x:auto;line-height:normal;font-family:Menlo,'DejaVu Sans Mono',consolas,'Courier New',monospace\">Resultados de la evaluación:\n",
       "<span style=\"font-weight: bold\">{</span><span style=\"color: #008000; text-decoration-color: #008000\">'F1'</span>: <span style=\"color: #008080; text-decoration-color: #008080; font-weight: bold\">0.9664109121909632</span><span style=\"font-weight: bold\">}</span>\n",
       "</pre>\n"
      ],
      "text/plain": [
       "Resultados de la evaluación:\n",
       "\u001b[1m{\u001b[0m\u001b[32m'F1'\u001b[0m: \u001b[1;36m0.9664109121909632\u001b[0m\u001b[1m}\u001b[0m\n"
      ]
     },
     "metadata": {},
     "output_type": "display_data"
    }
   ],
   "source": [
    "# Realizar predicciones\n",
    "predictions = pipeline.predict(x_test)\n",
    "\n",
    "# Evaluar el modelo\n",
    "evaluation = pipeline.evaluate(x_test, y_test, predictions)\n",
    "print(\"Resultados de la evaluación:\", evaluation)"
   ]
  },
  {
   "cell_type": "markdown",
   "metadata": {},
   "source": [
    "## 7. Demostración del uso de Cache"
   ]
  },
  {
   "cell_type": "code",
   "execution_count": 6,
   "metadata": {},
   "outputs": [
    {
     "data": {
      "text/html": [
       "<pre style=\"white-space:pre;overflow-x:auto;line-height:normal;font-family:Menlo,'DejaVu Sans Mono',consolas,'Courier New',monospace\">Segunda ejecución <span style=\"font-weight: bold\">(</span>debería usar datos en caché<span style=\"font-weight: bold\">)</span>:\n",
       "</pre>\n"
      ],
      "text/plain": [
       "Segunda ejecución \u001b[1m(\u001b[0mdebería usar datos en caché\u001b[1m)\u001b[0m:\n"
      ]
     },
     "metadata": {},
     "output_type": "display_data"
    },
    {
     "data": {
      "text/html": [
       "<pre style=\"white-space:pre;overflow-x:auto;line-height:normal;font-family:Menlo,'DejaVu Sans Mono',consolas,'Courier New',monospace\"><span style=\"color: #800080; text-decoration-color: #800080; font-weight: bold\">F3Pipeline</span><span style=\"font-weight: bold\">(</span>\n",
       "    <span style=\"color: #808000; text-decoration-color: #808000\">filters</span>=<span style=\"font-weight: bold\">[</span>\n",
       "        <span style=\"color: #800080; text-decoration-color: #800080; font-weight: bold\">Cached</span><span style=\"font-weight: bold\">(</span><span style=\"color: #808000; text-decoration-color: #808000\">filter</span>=<span style=\"color: #800080; text-decoration-color: #800080; font-weight: bold\">StandardScalerPlugin</span><span style=\"font-weight: bold\">()</span>, <span style=\"color: #808000; text-decoration-color: #808000\">cache_data</span>=<span style=\"color: #00ff00; text-decoration-color: #00ff00; font-style: italic\">True</span>, <span style=\"color: #808000; text-decoration-color: #808000\">cache_filter</span>=<span style=\"color: #00ff00; text-decoration-color: #00ff00; font-style: italic\">True</span>, <span style=\"color: #808000; text-decoration-color: #808000\">overwrite</span>=<span style=\"color: #ff0000; text-decoration-color: #ff0000; font-style: italic\">False</span>, <span style=\"color: #808000; text-decoration-color: #808000\">storage</span>=<span style=\"color: #800080; text-decoration-color: #800080; font-style: italic\">None</span><span style=\"font-weight: bold\">)</span>,\n",
       "        <span style=\"color: #800080; text-decoration-color: #800080; font-weight: bold\">KnnFilter</span><span style=\"font-weight: bold\">(</span>\n",
       "            <span style=\"color: #808000; text-decoration-color: #808000\">n_neighbors</span>=<span style=\"color: #008080; text-decoration-color: #008080; font-weight: bold\">5</span>,\n",
       "            <span style=\"color: #808000; text-decoration-color: #808000\">weights</span>=<span style=\"color: #008000; text-decoration-color: #008000\">'uniform'</span>,\n",
       "            <span style=\"color: #808000; text-decoration-color: #808000\">algorithm</span>=<span style=\"color: #008000; text-decoration-color: #008000\">'auto'</span>,\n",
       "            <span style=\"color: #808000; text-decoration-color: #808000\">leaf_size</span>=<span style=\"color: #008080; text-decoration-color: #008080; font-weight: bold\">30</span>,\n",
       "            <span style=\"color: #808000; text-decoration-color: #808000\">p</span>=<span style=\"color: #008080; text-decoration-color: #008080; font-weight: bold\">2</span>,\n",
       "            <span style=\"color: #808000; text-decoration-color: #808000\">metric</span>=<span style=\"color: #008000; text-decoration-color: #008000\">'minkowski'</span>,\n",
       "            <span style=\"color: #808000; text-decoration-color: #808000\">metric_params</span>=<span style=\"color: #800080; text-decoration-color: #800080; font-style: italic\">None</span>,\n",
       "            <span style=\"color: #808000; text-decoration-color: #808000\">n_jobs</span>=<span style=\"color: #800080; text-decoration-color: #800080; font-style: italic\">None</span>\n",
       "        <span style=\"font-weight: bold\">)</span>\n",
       "    <span style=\"font-weight: bold\">]</span>,\n",
       "    <span style=\"color: #808000; text-decoration-color: #808000\">metrics</span>=<span style=\"font-weight: bold\">[</span><span style=\"color: #800080; text-decoration-color: #800080; font-weight: bold\">F1</span><span style=\"font-weight: bold\">(</span><span style=\"color: #808000; text-decoration-color: #808000\">average</span>=<span style=\"color: #008000; text-decoration-color: #008000\">'weighted'</span><span style=\"font-weight: bold\">)]</span>,\n",
       "    <span style=\"color: #808000; text-decoration-color: #808000\">overwrite</span>=<span style=\"color: #ff0000; text-decoration-color: #ff0000; font-style: italic\">False</span>,\n",
       "    <span style=\"color: #808000; text-decoration-color: #808000\">store</span>=<span style=\"color: #ff0000; text-decoration-color: #ff0000; font-style: italic\">False</span>,\n",
       "    <span style=\"color: #808000; text-decoration-color: #808000\">log</span>=<span style=\"color: #ff0000; text-decoration-color: #ff0000; font-style: italic\">False</span>\n",
       "<span style=\"font-weight: bold\">)</span>\n",
       "</pre>\n"
      ],
      "text/plain": [
       "\u001b[1;35mF3Pipeline\u001b[0m\u001b[1m(\u001b[0m\n",
       "    \u001b[33mfilters\u001b[0m=\u001b[1m[\u001b[0m\n",
       "        \u001b[1;35mCached\u001b[0m\u001b[1m(\u001b[0m\u001b[33mfilter\u001b[0m=\u001b[1;35mStandardScalerPlugin\u001b[0m\u001b[1m(\u001b[0m\u001b[1m)\u001b[0m, \u001b[33mcache_data\u001b[0m=\u001b[3;92mTrue\u001b[0m, \u001b[33mcache_filter\u001b[0m=\u001b[3;92mTrue\u001b[0m, \u001b[33moverwrite\u001b[0m=\u001b[3;91mFalse\u001b[0m, \u001b[33mstorage\u001b[0m=\u001b[3;35mNone\u001b[0m\u001b[1m)\u001b[0m,\n",
       "        \u001b[1;35mKnnFilter\u001b[0m\u001b[1m(\u001b[0m\n",
       "            \u001b[33mn_neighbors\u001b[0m=\u001b[1;36m5\u001b[0m,\n",
       "            \u001b[33mweights\u001b[0m=\u001b[32m'uniform'\u001b[0m,\n",
       "            \u001b[33malgorithm\u001b[0m=\u001b[32m'auto'\u001b[0m,\n",
       "            \u001b[33mleaf_size\u001b[0m=\u001b[1;36m30\u001b[0m,\n",
       "            \u001b[33mp\u001b[0m=\u001b[1;36m2\u001b[0m,\n",
       "            \u001b[33mmetric\u001b[0m=\u001b[32m'minkowski'\u001b[0m,\n",
       "            \u001b[33mmetric_params\u001b[0m=\u001b[3;35mNone\u001b[0m,\n",
       "            \u001b[33mn_jobs\u001b[0m=\u001b[3;35mNone\u001b[0m\n",
       "        \u001b[1m)\u001b[0m\n",
       "    \u001b[1m]\u001b[0m,\n",
       "    \u001b[33mmetrics\u001b[0m=\u001b[1m[\u001b[0m\u001b[1;35mF1\u001b[0m\u001b[1m(\u001b[0m\u001b[33maverage\u001b[0m=\u001b[32m'weighted'\u001b[0m\u001b[1m)\u001b[0m\u001b[1m]\u001b[0m,\n",
       "    \u001b[33moverwrite\u001b[0m=\u001b[3;91mFalse\u001b[0m,\n",
       "    \u001b[33mstore\u001b[0m=\u001b[3;91mFalse\u001b[0m,\n",
       "    \u001b[33mlog\u001b[0m=\u001b[3;91mFalse\u001b[0m\n",
       "\u001b[1m)\u001b[0m\n"
      ]
     },
     "metadata": {},
     "output_type": "display_data"
    },
    {
     "data": {
      "text/html": [
       "<pre style=\"white-space:pre;overflow-x:auto;line-height:normal;font-family:Menlo,'DejaVu Sans Mono',consolas,'Courier New',monospace\">____________________________________________________________________________________________________\n",
       "</pre>\n"
      ],
      "text/plain": [
       "____________________________________________________________________________________________________\n"
      ]
     },
     "metadata": {},
     "output_type": "display_data"
    },
    {
     "data": {
      "text/html": [
       "<pre style=\"white-space:pre;overflow-x:auto;line-height:normal;font-family:Menlo,'DejaVu Sans Mono',consolas,'Courier New',monospace\">Fitting pipeline<span style=\"color: #808000; text-decoration-color: #808000\">...</span>\n",
       "</pre>\n"
      ],
      "text/plain": [
       "Fitting pipeline\u001b[33m...\u001b[0m\n"
      ]
     },
     "metadata": {},
     "output_type": "display_data"
    },
    {
     "data": {
      "text/html": [
       "<pre style=\"white-space:pre;overflow-x:auto;line-height:normal;font-family:Menlo,'DejaVu Sans Mono',consolas,'Courier New',monospace\">****************************************************************************************************\n",
       "</pre>\n"
      ],
      "text/plain": [
       "****************************************************************************************************\n"
      ]
     },
     "metadata": {},
     "output_type": "display_data"
    },
    {
     "data": {
      "text/html": [
       "<pre style=\"white-space:pre;overflow-x:auto;line-height:normal;font-family:Menlo,'DejaVu Sans Mono',consolas,'Courier New',monospace\">\n",
       "* <span style=\"color: #800080; text-decoration-color: #800080; font-weight: bold\">Cached</span><span style=\"font-weight: bold\">({</span><span style=\"color: #008000; text-decoration-color: #008000\">'filter'</span>: <span style=\"color: #800080; text-decoration-color: #800080; font-weight: bold\">StandardScalerPlugin</span><span style=\"font-weight: bold\">({})</span>, <span style=\"color: #008000; text-decoration-color: #008000\">'cache_data'</span>: <span style=\"color: #00ff00; text-decoration-color: #00ff00; font-style: italic\">True</span>, <span style=\"color: #008000; text-decoration-color: #008000\">'cache_filter'</span>: <span style=\"color: #00ff00; text-decoration-color: #00ff00; font-style: italic\">True</span>, <span style=\"color: #008000; text-decoration-color: #008000\">'overwrite'</span>: <span style=\"color: #ff0000; text-decoration-color: #ff0000; font-style: italic\">False</span>, \n",
       "<span style=\"color: #008000; text-decoration-color: #008000\">'storage'</span>: <span style=\"color: #800080; text-decoration-color: #800080; font-style: italic\">None</span><span style=\"font-weight: bold\">})</span>:\n",
       "</pre>\n"
      ],
      "text/plain": [
       "\n",
       "* \u001b[1;35mCached\u001b[0m\u001b[1m(\u001b[0m\u001b[1m{\u001b[0m\u001b[32m'filter'\u001b[0m: \u001b[1;35mStandardScalerPlugin\u001b[0m\u001b[1m(\u001b[0m\u001b[1m{\u001b[0m\u001b[1m}\u001b[0m\u001b[1m)\u001b[0m, \u001b[32m'cache_data'\u001b[0m: \u001b[3;92mTrue\u001b[0m, \u001b[32m'cache_filter'\u001b[0m: \u001b[3;92mTrue\u001b[0m, \u001b[32m'overwrite'\u001b[0m: \u001b[3;91mFalse\u001b[0m, \n",
       "\u001b[32m'storage'\u001b[0m: \u001b[3;35mNone\u001b[0m\u001b[1m}\u001b[0m\u001b[1m)\u001b[0m:\n"
      ]
     },
     "metadata": {},
     "output_type": "display_data"
    },
    {
     "data": {
      "text/html": [
       "<pre style=\"white-space:pre;overflow-x:auto;line-height:normal;font-family:Menlo,'DejaVu Sans Mono',consolas,'Courier New',monospace\">         - El filtro <span style=\"color: #800080; text-decoration-color: #800080; font-weight: bold\">StandardScalerPlugin</span><span style=\"font-weight: bold\">({})</span> Existe, se crea lambda.\n",
       "</pre>\n"
      ],
      "text/plain": [
       "         - El filtro \u001b[1;35mStandardScalerPlugin\u001b[0m\u001b[1m(\u001b[0m\u001b[1m{\u001b[0m\u001b[1m}\u001b[0m\u001b[1m)\u001b[0m Existe, se crea lambda.\n"
      ]
     },
     "metadata": {},
     "output_type": "display_data"
    },
    {
     "data": {
      "text/html": [
       "<pre style=\"white-space:pre;overflow-x:auto;line-height:normal;font-family:Menlo,'DejaVu Sans Mono',consolas,'Courier New',monospace\">         - El dato <span style=\"color: #800080; text-decoration-color: #800080; font-weight: bold\">XYData</span><span style=\"font-weight: bold\">(</span><span style=\"color: #808000; text-decoration-color: #808000\">_hash</span>=<span style=\"color: #008000; text-decoration-color: #008000\">'f77f9d95466939988cdd6a13f0cb91260b94c99d'</span>, \n",
       "<span style=\"color: #808000; text-decoration-color: #808000\">_path</span>=<span style=\"color: #008000; text-decoration-color: #008000\">'StandardScalerPlugin/4f0150e0e11419085ce0f08ab077b7e5891f817b'</span><span style=\"font-weight: bold\">)</span> Existe, se crea lambda.\n",
       "</pre>\n"
      ],
      "text/plain": [
       "         - El dato \u001b[1;35mXYData\u001b[0m\u001b[1m(\u001b[0m\u001b[33m_hash\u001b[0m=\u001b[32m'f77f9d95466939988cdd6a13f0cb91260b94c99d'\u001b[0m, \n",
       "\u001b[33m_path\u001b[0m=\u001b[32m'StandardScalerPlugin/4f0150e0e11419085ce0f08ab077b7e5891f817b'\u001b[0m\u001b[1m)\u001b[0m Existe, se crea lambda.\n"
      ]
     },
     "metadata": {},
     "output_type": "display_data"
    },
    {
     "data": {
      "text/html": [
       "<pre style=\"white-space:pre;overflow-x:auto;line-height:normal;font-family:Menlo,'DejaVu Sans Mono',consolas,'Courier New',monospace\">\n",
       "* <span style=\"color: #800080; text-decoration-color: #800080; font-weight: bold\">KnnFilter</span><span style=\"font-weight: bold\">({</span><span style=\"color: #008000; text-decoration-color: #008000\">'n_neighbors'</span>: <span style=\"color: #008080; text-decoration-color: #008080; font-weight: bold\">5</span>, <span style=\"color: #008000; text-decoration-color: #008000\">'weights'</span>: <span style=\"color: #008000; text-decoration-color: #008000\">'uniform'</span>, <span style=\"color: #008000; text-decoration-color: #008000\">'algorithm'</span>: <span style=\"color: #008000; text-decoration-color: #008000\">'auto'</span>, <span style=\"color: #008000; text-decoration-color: #008000\">'leaf_size'</span>: <span style=\"color: #008080; text-decoration-color: #008080; font-weight: bold\">30</span>, <span style=\"color: #008000; text-decoration-color: #008000\">'p'</span>: <span style=\"color: #008080; text-decoration-color: #008080; font-weight: bold\">2</span>, <span style=\"color: #008000; text-decoration-color: #008000\">'metric'</span>: \n",
       "<span style=\"color: #008000; text-decoration-color: #008000\">'minkowski'</span>, <span style=\"color: #008000; text-decoration-color: #008000\">'metric_params'</span>: <span style=\"color: #800080; text-decoration-color: #800080; font-style: italic\">None</span>, <span style=\"color: #008000; text-decoration-color: #008000\">'n_jobs'</span>: <span style=\"color: #800080; text-decoration-color: #800080; font-style: italic\">None</span><span style=\"font-weight: bold\">})</span>:\n",
       "</pre>\n"
      ],
      "text/plain": [
       "\n",
       "* \u001b[1;35mKnnFilter\u001b[0m\u001b[1m(\u001b[0m\u001b[1m{\u001b[0m\u001b[32m'n_neighbors'\u001b[0m: \u001b[1;36m5\u001b[0m, \u001b[32m'weights'\u001b[0m: \u001b[32m'uniform'\u001b[0m, \u001b[32m'algorithm'\u001b[0m: \u001b[32m'auto'\u001b[0m, \u001b[32m'leaf_size'\u001b[0m: \u001b[1;36m30\u001b[0m, \u001b[32m'p'\u001b[0m: \u001b[1;36m2\u001b[0m, \u001b[32m'metric'\u001b[0m: \n",
       "\u001b[32m'minkowski'\u001b[0m, \u001b[32m'metric_params'\u001b[0m: \u001b[3;35mNone\u001b[0m, \u001b[32m'n_jobs'\u001b[0m: \u001b[3;35mNone\u001b[0m\u001b[1m}\u001b[0m\u001b[1m)\u001b[0m:\n"
      ]
     },
     "metadata": {},
     "output_type": "display_data"
    },
    {
     "name": "stdout",
     "output_type": "stream",
     "text": [
      "\t * Downloading: <_io.BufferedReader name='cache/StandardScalerPlugin/4f0150e0e11419085ce0f08ab077b7e5891f817b/f77f9d95466939988cdd6a13f0cb91260b94c99d'>\n"
     ]
    },
    {
     "data": {
      "text/html": [
       "<pre style=\"white-space:pre;overflow-x:auto;line-height:normal;font-family:Menlo,'DejaVu Sans Mono',consolas,'Courier New',monospace\">____________________________________________________________________________________________________\n",
       "</pre>\n"
      ],
      "text/plain": [
       "____________________________________________________________________________________________________\n"
      ]
     },
     "metadata": {},
     "output_type": "display_data"
    },
    {
     "data": {
      "text/html": [
       "<pre style=\"white-space:pre;overflow-x:auto;line-height:normal;font-family:Menlo,'DejaVu Sans Mono',consolas,'Courier New',monospace\">Predicting pipeline<span style=\"color: #808000; text-decoration-color: #808000\">...</span>\n",
       "</pre>\n"
      ],
      "text/plain": [
       "Predicting pipeline\u001b[33m...\u001b[0m\n"
      ]
     },
     "metadata": {},
     "output_type": "display_data"
    },
    {
     "data": {
      "text/html": [
       "<pre style=\"white-space:pre;overflow-x:auto;line-height:normal;font-family:Menlo,'DejaVu Sans Mono',consolas,'Courier New',monospace\">****************************************************************************************************\n",
       "</pre>\n"
      ],
      "text/plain": [
       "****************************************************************************************************\n"
      ]
     },
     "metadata": {},
     "output_type": "display_data"
    },
    {
     "data": {
      "text/html": [
       "<pre style=\"white-space:pre;overflow-x:auto;line-height:normal;font-family:Menlo,'DejaVu Sans Mono',consolas,'Courier New',monospace\">\n",
       "* <span style=\"color: #800080; text-decoration-color: #800080; font-weight: bold\">Cached</span><span style=\"font-weight: bold\">({</span><span style=\"color: #008000; text-decoration-color: #008000\">'filter'</span>: <span style=\"color: #800080; text-decoration-color: #800080; font-weight: bold\">StandardScalerPlugin</span><span style=\"font-weight: bold\">({})</span>, <span style=\"color: #008000; text-decoration-color: #008000\">'cache_data'</span>: <span style=\"color: #00ff00; text-decoration-color: #00ff00; font-style: italic\">True</span>, <span style=\"color: #008000; text-decoration-color: #008000\">'cache_filter'</span>: <span style=\"color: #00ff00; text-decoration-color: #00ff00; font-style: italic\">True</span>, <span style=\"color: #008000; text-decoration-color: #008000\">'overwrite'</span>: <span style=\"color: #ff0000; text-decoration-color: #ff0000; font-style: italic\">False</span>, \n",
       "<span style=\"color: #008000; text-decoration-color: #008000\">'storage'</span>: <span style=\"color: #800080; text-decoration-color: #800080; font-style: italic\">None</span><span style=\"font-weight: bold\">})</span>\n",
       "</pre>\n"
      ],
      "text/plain": [
       "\n",
       "* \u001b[1;35mCached\u001b[0m\u001b[1m(\u001b[0m\u001b[1m{\u001b[0m\u001b[32m'filter'\u001b[0m: \u001b[1;35mStandardScalerPlugin\u001b[0m\u001b[1m(\u001b[0m\u001b[1m{\u001b[0m\u001b[1m}\u001b[0m\u001b[1m)\u001b[0m, \u001b[32m'cache_data'\u001b[0m: \u001b[3;92mTrue\u001b[0m, \u001b[32m'cache_filter'\u001b[0m: \u001b[3;92mTrue\u001b[0m, \u001b[32m'overwrite'\u001b[0m: \u001b[3;91mFalse\u001b[0m, \n",
       "\u001b[32m'storage'\u001b[0m: \u001b[3;35mNone\u001b[0m\u001b[1m}\u001b[0m\u001b[1m)\u001b[0m\n"
      ]
     },
     "metadata": {},
     "output_type": "display_data"
    },
    {
     "data": {
      "text/html": [
       "<pre style=\"white-space:pre;overflow-x:auto;line-height:normal;font-family:Menlo,'DejaVu Sans Mono',consolas,'Courier New',monospace\">         - El dato <span style=\"color: #800080; text-decoration-color: #800080; font-weight: bold\">XYData</span><span style=\"font-weight: bold\">(</span><span style=\"color: #808000; text-decoration-color: #808000\">_hash</span>=<span style=\"color: #008000; text-decoration-color: #008000\">'a2131ee7caeb76fd704b11b77d0456223b7e0437'</span>, \n",
       "<span style=\"color: #808000; text-decoration-color: #808000\">_path</span>=<span style=\"color: #008000; text-decoration-color: #008000\">'StandardScalerPlugin/4f0150e0e11419085ce0f08ab077b7e5891f817b'</span><span style=\"font-weight: bold\">)</span> No existe, se va a crear.\n",
       "</pre>\n"
      ],
      "text/plain": [
       "         - El dato \u001b[1;35mXYData\u001b[0m\u001b[1m(\u001b[0m\u001b[33m_hash\u001b[0m=\u001b[32m'a2131ee7caeb76fd704b11b77d0456223b7e0437'\u001b[0m, \n",
       "\u001b[33m_path\u001b[0m=\u001b[32m'StandardScalerPlugin/4f0150e0e11419085ce0f08ab077b7e5891f817b'\u001b[0m\u001b[1m)\u001b[0m No existe, se va a crear.\n"
      ]
     },
     "metadata": {},
     "output_type": "display_data"
    },
    {
     "data": {
      "text/html": [
       "<pre style=\"white-space:pre;overflow-x:auto;line-height:normal;font-family:Menlo,'DejaVu Sans Mono',consolas,'Courier New',monospace\">         - Existe un Lambda por lo que se recupera el filtro del storage.\n",
       "</pre>\n"
      ],
      "text/plain": [
       "         - Existe un Lambda por lo que se recupera el filtro del storage.\n"
      ]
     },
     "metadata": {},
     "output_type": "display_data"
    },
    {
     "name": "stdout",
     "output_type": "stream",
     "text": [
      "\t * Downloading: <_io.BufferedReader name='cache/StandardScalerPlugin/4f0150e0e11419085ce0f08ab077b7e5891f817b/model'>\n"
     ]
    },
    {
     "data": {
      "text/html": [
       "<pre style=\"white-space:pre;overflow-x:auto;line-height:normal;font-family:Menlo,'DejaVu Sans Mono',consolas,'Courier New',monospace\">         - El dato <span style=\"color: #800080; text-decoration-color: #800080; font-weight: bold\">XYData</span><span style=\"font-weight: bold\">(</span><span style=\"color: #808000; text-decoration-color: #808000\">_hash</span>=<span style=\"color: #008000; text-decoration-color: #008000\">'a2131ee7caeb76fd704b11b77d0456223b7e0437'</span>, \n",
       "<span style=\"color: #808000; text-decoration-color: #808000\">_path</span>=<span style=\"color: #008000; text-decoration-color: #008000\">'StandardScalerPlugin/4f0150e0e11419085ce0f08ab077b7e5891f817b'</span><span style=\"font-weight: bold\">)</span> Se cachea.\n",
       "</pre>\n"
      ],
      "text/plain": [
       "         - El dato \u001b[1;35mXYData\u001b[0m\u001b[1m(\u001b[0m\u001b[33m_hash\u001b[0m=\u001b[32m'a2131ee7caeb76fd704b11b77d0456223b7e0437'\u001b[0m, \n",
       "\u001b[33m_path\u001b[0m=\u001b[32m'StandardScalerPlugin/4f0150e0e11419085ce0f08ab077b7e5891f817b'\u001b[0m\u001b[1m)\u001b[0m Se cachea.\n"
      ]
     },
     "metadata": {},
     "output_type": "display_data"
    },
    {
     "name": "stdout",
     "output_type": "stream",
     "text": [
      "\t * Saving in local path: cache/StandardScalerPlugin/4f0150e0e11419085ce0f08ab077b7e5891f817b/a2131ee7caeb76fd704b11b77d0456223b7e0437\n",
      "\t * Saved !\n"
     ]
    },
    {
     "data": {
      "text/html": [
       "<pre style=\"white-space:pre;overflow-x:auto;line-height:normal;font-family:Menlo,'DejaVu Sans Mono',consolas,'Courier New',monospace\">\n",
       "* <span style=\"color: #800080; text-decoration-color: #800080; font-weight: bold\">KnnFilter</span><span style=\"font-weight: bold\">({</span><span style=\"color: #008000; text-decoration-color: #008000\">'n_neighbors'</span>: <span style=\"color: #008080; text-decoration-color: #008080; font-weight: bold\">5</span>, <span style=\"color: #008000; text-decoration-color: #008000\">'weights'</span>: <span style=\"color: #008000; text-decoration-color: #008000\">'uniform'</span>, <span style=\"color: #008000; text-decoration-color: #008000\">'algorithm'</span>: <span style=\"color: #008000; text-decoration-color: #008000\">'auto'</span>, <span style=\"color: #008000; text-decoration-color: #008000\">'leaf_size'</span>: <span style=\"color: #008080; text-decoration-color: #008080; font-weight: bold\">30</span>, <span style=\"color: #008000; text-decoration-color: #008000\">'p'</span>: <span style=\"color: #008080; text-decoration-color: #008080; font-weight: bold\">2</span>, <span style=\"color: #008000; text-decoration-color: #008000\">'metric'</span>: \n",
       "<span style=\"color: #008000; text-decoration-color: #008000\">'minkowski'</span>, <span style=\"color: #008000; text-decoration-color: #008000\">'metric_params'</span>: <span style=\"color: #800080; text-decoration-color: #800080; font-style: italic\">None</span>, <span style=\"color: #008000; text-decoration-color: #008000\">'n_jobs'</span>: <span style=\"color: #800080; text-decoration-color: #800080; font-style: italic\">None</span><span style=\"font-weight: bold\">})</span>\n",
       "</pre>\n"
      ],
      "text/plain": [
       "\n",
       "* \u001b[1;35mKnnFilter\u001b[0m\u001b[1m(\u001b[0m\u001b[1m{\u001b[0m\u001b[32m'n_neighbors'\u001b[0m: \u001b[1;36m5\u001b[0m, \u001b[32m'weights'\u001b[0m: \u001b[32m'uniform'\u001b[0m, \u001b[32m'algorithm'\u001b[0m: \u001b[32m'auto'\u001b[0m, \u001b[32m'leaf_size'\u001b[0m: \u001b[1;36m30\u001b[0m, \u001b[32m'p'\u001b[0m: \u001b[1;36m2\u001b[0m, \u001b[32m'metric'\u001b[0m: \n",
       "\u001b[32m'minkowski'\u001b[0m, \u001b[32m'metric_params'\u001b[0m: \u001b[3;35mNone\u001b[0m, \u001b[32m'n_jobs'\u001b[0m: \u001b[3;35mNone\u001b[0m\u001b[1m}\u001b[0m\u001b[1m)\u001b[0m\n"
      ]
     },
     "metadata": {},
     "output_type": "display_data"
    },
    {
     "data": {
      "text/html": [
       "<pre style=\"white-space:pre;overflow-x:auto;line-height:normal;font-family:Menlo,'DejaVu Sans Mono',consolas,'Courier New',monospace\">____________________________________________________________________________________________________\n",
       "</pre>\n"
      ],
      "text/plain": [
       "____________________________________________________________________________________________________\n"
      ]
     },
     "metadata": {},
     "output_type": "display_data"
    },
    {
     "data": {
      "text/html": [
       "<pre style=\"white-space:pre;overflow-x:auto;line-height:normal;font-family:Menlo,'DejaVu Sans Mono',consolas,'Courier New',monospace\">Evaluating pipeline<span style=\"color: #808000; text-decoration-color: #808000\">...</span>\n",
       "</pre>\n"
      ],
      "text/plain": [
       "Evaluating pipeline\u001b[33m...\u001b[0m\n"
      ]
     },
     "metadata": {},
     "output_type": "display_data"
    },
    {
     "data": {
      "text/html": [
       "<pre style=\"white-space:pre;overflow-x:auto;line-height:normal;font-family:Menlo,'DejaVu Sans Mono',consolas,'Courier New',monospace\">____________________________________________________________________________________________________\n",
       "</pre>\n"
      ],
      "text/plain": [
       "____________________________________________________________________________________________________\n"
      ]
     },
     "metadata": {},
     "output_type": "display_data"
    },
    {
     "data": {
      "text/html": [
       "<pre style=\"white-space:pre;overflow-x:auto;line-height:normal;font-family:Menlo,'DejaVu Sans Mono',consolas,'Courier New',monospace\">Resultados de la evaluación:\n",
       "<span style=\"font-weight: bold\">{</span><span style=\"color: #008000; text-decoration-color: #008000\">'F1'</span>: <span style=\"color: #008080; text-decoration-color: #008080; font-weight: bold\">1.0</span><span style=\"font-weight: bold\">}</span>\n",
       "</pre>\n"
      ],
      "text/plain": [
       "Resultados de la evaluación:\n",
       "\u001b[1m{\u001b[0m\u001b[32m'F1'\u001b[0m: \u001b[1;36m1.0\u001b[0m\u001b[1m}\u001b[0m\n"
      ]
     },
     "metadata": {},
     "output_type": "display_data"
    }
   ],
   "source": [
    "# Ejecutar el pipeline nuevamente\n",
    "print(\"Segunda ejecución (debería usar datos en caché):\")\n",
    "# Crear el pipeline con Cache\n",
    "pipeline = F3Pipeline(\n",
    "    filters=[\n",
    "        Cached(\n",
    "            filter=StandardScalerPlugin(),\n",
    "            cache_data=True,\n",
    "            cache_filter=True,\n",
    "            overwrite=False,\n",
    "        ),\n",
    "        KnnFilter(),\n",
    "    ],\n",
    "    metrics=[F1()],\n",
    ")\n",
    "print(pipeline)\n",
    "pipeline.fit(x_train, y_train)\n",
    "predictions = pipeline.predict(x_test)\n",
    "evaluation = pipeline.evaluate(x_test, y_test, predictions)\n",
    "print(\"Resultados de la evaluación:\", evaluation)"
   ]
  },
  {
   "cell_type": "markdown",
   "metadata": {},
   "source": [
    "En esta segunda ejecución, deberías notar que el StandardScalerPlugin usa los datos en caché, lo que puede resultar en un tiempo de ejecución más rápido."
   ]
  }
 ],
 "metadata": {
  "kernelspec": {
   "display_name": "framework3-fUhXhdhp-py3.11",
   "language": "python",
   "name": "python3"
  },
  "language_info": {
   "codemirror_mode": {
    "name": "ipython",
    "version": 3
   },
   "file_extension": ".py",
   "mimetype": "text/x-python",
   "name": "python",
   "nbconvert_exporter": "python",
   "pygments_lexer": "ipython3",
   "version": "3.11.5"
  }
 },
 "nbformat": 4,
 "nbformat_minor": 4
}
